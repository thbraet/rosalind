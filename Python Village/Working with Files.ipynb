{
 "cells": [
  {
   "cell_type": "code",
   "execution_count": 2,
   "metadata": {},
   "outputs": [
    {
     "name": "stdout",
     "output_type": "stream",
     "text": [
      "Yes, brave Sir Robin turned about\n",
      "\n",
      "And gallantly he chickened out\n",
      "\n",
      "Bravely talking to his feet\n",
      "\n",
      "He beat a very brave retreat\n"
     ]
    }
   ],
   "source": [
    "f_input = open(\"./sample_input_file.txt\", 'r')\n",
    "f_output = open(\"./sample_output_file.txt\", 'w')\n",
    "for i, line in enumerate(f_input):\n",
    "    if i % 2 == 1:\n",
    "        print(line)\n",
    "        f_output.write(line)\n",
    "\n",
    "f_input.close()\n",
    "f_output.close()\n"
   ]
  },
  {
   "cell_type": "code",
   "execution_count": 3,
   "metadata": {},
   "outputs": [
    {
     "name": "stdout",
     "output_type": "stream",
     "text": [
      "Some things in life are bad, they can really make you mad\n",
      "\n",
      "Other things just make you swear and curse\n",
      "\n",
      "When you're chewing on life's gristle, don't grumble give a whistle\n",
      "\n",
      "This will help things turn out for the best\n",
      "\n",
      "Always look on the bright side of life\n",
      "\n",
      "Always look on the right side of life\n",
      "\n",
      "If life seems jolly rotten, there's something you've forgotten\n",
      "\n",
      "And that's to laugh and smile and dance and sing\n",
      "\n",
      "When you're feeling in the dumps, don't be silly, chumps\n",
      "\n",
      "Just purse your lips and whistle, that's the thing\n",
      "\n",
      "So, always look on the bright side of death\n",
      "\n",
      "Just before you draw your terminal breath\n",
      "\n",
      "Life's a counterfeit and when you look at it\n",
      "\n",
      "Life's a laugh and death's the joke, it's true\n",
      "\n",
      "You see, it's all a show, keep them laughing as you go\n",
      "\n",
      "Just remember the last laugh is on you\n",
      "\n",
      "Always look on the bright side of life\n",
      "\n",
      "And always look on the right side of life\n",
      "\n",
      "Always look on the bright side of life\n",
      "\n",
      "And always look on the right side of life\n",
      "\n"
     ]
    }
   ],
   "source": [
    "\n",
    "f_input = open(\"./rosalind_ini5.txt\", 'r')\n",
    "f_output = open(\"./rosalind_ini5_output.txt\", 'w')\n",
    "for i, line in enumerate(f_input):\n",
    "    if i % 2 == 1:\n",
    "        print(line)\n",
    "        f_output.write(line)\n",
    "\n",
    "f_input.close()\n",
    "f_output.close()"
   ]
  },
  {
   "cell_type": "code",
   "execution_count": null,
   "metadata": {},
   "outputs": [],
   "source": []
  }
 ],
 "metadata": {
  "kernelspec": {
   "display_name": "rosalind-AUENTiOu-py3.12",
   "language": "python",
   "name": "python3"
  },
  "language_info": {
   "codemirror_mode": {
    "name": "ipython",
    "version": 3
   },
   "file_extension": ".py",
   "mimetype": "text/x-python",
   "name": "python",
   "nbconvert_exporter": "python",
   "pygments_lexer": "ipython3",
   "version": "3.12.5"
  }
 },
 "nbformat": 4,
 "nbformat_minor": 2
}
