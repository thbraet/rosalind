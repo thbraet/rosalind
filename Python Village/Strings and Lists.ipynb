{
 "cells": [
  {
   "cell_type": "code",
   "execution_count": 3,
   "metadata": {},
   "outputs": [
    {
     "name": "stdout",
     "output_type": "stream",
     "text": [
      "Buthacus prominanus\n"
     ]
    }
   ],
   "source": [
    "string = \"1CUoUuZqJFQSSsButhacus87iFOtj23sCapssvrGnODhsHLR58PN7NAZrjGPw7Oxz38BvStCdj4l49BiHkB070gop2ZKjoMWepVwFetrj7tSff1UuAqLQDxtGjpd37Dz3tcrvprominanusLAq071Owa7hDkwXunXWLb7Kanx.\"\n",
    "a = 14\n",
    "b = 21\n",
    "c = 133\n",
    "d = 142\n",
    "\n",
    "print(f\"{string[a:b+1]} {string[c:d+1]}\")"
   ]
  },
  {
   "cell_type": "code",
   "execution_count": null,
   "metadata": {},
   "outputs": [],
   "source": []
  }
 ],
 "metadata": {
  "kernelspec": {
   "display_name": "rosalind-AUENTiOu-py3.12",
   "language": "python",
   "name": "python3"
  },
  "language_info": {
   "codemirror_mode": {
    "name": "ipython",
    "version": 3
   },
   "file_extension": ".py",
   "mimetype": "text/x-python",
   "name": "python",
   "nbconvert_exporter": "python",
   "pygments_lexer": "ipython3",
   "version": "3.12.5"
  }
 },
 "nbformat": 4,
 "nbformat_minor": 2
}
