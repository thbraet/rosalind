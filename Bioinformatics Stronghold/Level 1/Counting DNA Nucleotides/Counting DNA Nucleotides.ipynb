{
 "cells": [
  {
   "cell_type": "markdown",
   "metadata": {},
   "source": [
    "# Counting DNA Nucleotides"
   ]
  },
  {
   "cell_type": "markdown",
   "metadata": {},
   "source": [
    "## Read Sample Input and Output"
   ]
  },
  {
   "cell_type": "code",
   "execution_count": 22,
   "metadata": {},
   "outputs": [],
   "source": [
    "from rosalind.string_algorithms import get_nucleotide_counts\n",
    "from rosalind.read_files import read_text, write_text"
   ]
  },
  {
   "cell_type": "code",
   "execution_count": 23,
   "metadata": {},
   "outputs": [
    {
     "name": "stdout",
     "output_type": "stream",
     "text": [
      "Sample Input:\n",
      " AGCTTTTCATTCTGACTGCAACGGGCAATATGTCTCTGTGTGGATTAAAAAAAGAGTGTCTGATAGCAGC\n",
      "\n",
      "Sample Output:\n",
      " 20 12 17 21\n"
     ]
    }
   ],
   "source": [
    "sample_input = read_text('sample_input.txt')\n",
    "print(\"Sample Input:\\n\", sample_input)\n",
    "\n",
    "rosalind_sample_output = read_text('sample_output.txt')\n",
    "print(\"\\nSample Output:\\n\",rosalind_sample_output)"
   ]
  },
  {
   "cell_type": "markdown",
   "metadata": {},
   "source": [
    "## Solve Sample Problem"
   ]
  },
  {
   "cell_type": "code",
   "execution_count": 24,
   "metadata": {},
   "outputs": [
    {
     "data": {
      "text/plain": [
       "{'A': 20, 'C': 12, 'G': 17, 'T': 21, 'U': 0}"
      ]
     },
     "execution_count": 24,
     "metadata": {},
     "output_type": "execute_result"
    }
   ],
   "source": [
    "my_sample_output = get_nucleotide_counts(sample_input)\n",
    "my_sample_output"
   ]
  },
  {
   "cell_type": "code",
   "execution_count": 25,
   "metadata": {},
   "outputs": [],
   "source": [
    "def print_output(output, file_path = 'output.txt'):\n",
    "    output_string = f\"{output[\"A\"]} {output[\"C\"]} {output[\"G\"]} {output[\"T\"]}\"\n",
    "    \n",
    "    write_text(output_string, file_path)\n",
    "    \n",
    "    print(\"Output String:\\n\",output_string)\n",
    "        \n",
    "    return output_string\n",
    "\n"
   ]
  },
  {
   "cell_type": "code",
   "execution_count": 26,
   "metadata": {},
   "outputs": [
    {
     "name": "stdout",
     "output_type": "stream",
     "text": [
      "Output String:\n",
      " 20 12 17 21\n"
     ]
    },
    {
     "data": {
      "text/plain": [
       "True"
      ]
     },
     "execution_count": 26,
     "metadata": {},
     "output_type": "execute_result"
    }
   ],
   "source": [
    "print_output(my_sample_output, \"my_sample_output.txt\") == rosalind_sample_output"
   ]
  },
  {
   "cell_type": "markdown",
   "metadata": {},
   "source": [
    "# Run Real Input"
   ]
  },
  {
   "cell_type": "code",
   "execution_count": 29,
   "metadata": {},
   "outputs": [
    {
     "name": "stdout",
     "output_type": "stream",
     "text": [
      "Output String:\n",
      " 211 209 237 221\n"
     ]
    }
   ],
   "source": [
    "dna = read_text('rosalind_dna.txt')\n",
    "print_output(get_nucleotide_counts(dna), \"my_rosalind_dna_output.txt\");"
   ]
  },
  {
   "cell_type": "code",
   "execution_count": null,
   "metadata": {},
   "outputs": [],
   "source": []
  }
 ],
 "metadata": {
  "kernelspec": {
   "display_name": ".venv",
   "language": "python",
   "name": "python3"
  },
  "language_info": {
   "codemirror_mode": {
    "name": "ipython",
    "version": 3
   },
   "file_extension": ".py",
   "mimetype": "text/x-python",
   "name": "python",
   "nbconvert_exporter": "python",
   "pygments_lexer": "ipython3",
   "version": "3.12.8"
  }
 },
 "nbformat": 4,
 "nbformat_minor": 2
}
