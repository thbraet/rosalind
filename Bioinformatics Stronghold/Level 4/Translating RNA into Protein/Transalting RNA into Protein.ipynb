{
 "cells": [
  {
   "cell_type": "markdown",
   "metadata": {},
   "source": [
    "The 20 commonly occurring amino acids are abbreviated by using 20 letters from the English alphabet (all letters except for B, J, O, U, X, and Z). Protein strings are constructed from these 20 symbols. Henceforth, the term genetic string will incorporate protein strings along with DNA strings and RNA strings.\n",
    "\n",
    "The RNA codon table dictates the details regarding the encoding of specific codons into the amino acid alphabet.\n",
    "\n",
    "Given: An RNA string s\n",
    " corresponding to a strand of mRNA (of length at most 10 kbp).\n",
    "\n",
    "Return: The protein string encoded by s"
   ]
  },
  {
   "cell_type": "code",
   "execution_count": 9,
   "metadata": {},
   "outputs": [
    {
     "name": "stdout",
     "output_type": "stream",
     "text": [
      "{'UUU': 'F', 'CUU': 'L', 'AUU': 'I', 'GUU': 'V', 'UUC': 'F', 'CUC': 'L', 'AUC': 'I', 'GUC': 'V', 'UUA': 'L', 'CUA': 'L', 'AUA': 'I', 'GUA': 'V', 'UUG': 'L', 'CUG': 'L', 'AUG': 'M', 'GUG': 'V', 'UCU': 'S', 'CCU': 'P', 'ACU': 'T', 'GCU': 'A', 'UCC': 'S', 'CCC': 'P', 'ACC': 'T', 'GCC': 'A', 'UCA': 'S', 'CCA': 'P', 'ACA': 'T', 'GCA': 'A', 'UCG': 'S', 'CCG': 'P', 'ACG': 'T', 'GCG': 'A', 'UAU': 'Y', 'CAU': 'H', 'AAU': 'N', 'GAU': 'D', 'UAC': 'Y', 'CAC': 'H', 'AAC': 'N', 'GAC': 'D', 'UAA': 'Stop', 'CAA': 'Q', 'AAA': 'K', 'GAA': 'E', 'UAG': 'Stop', 'CAG': 'Q', 'AAG': 'K', 'GAG': 'E', 'UGU': 'C', 'CGU': 'R', 'AGU': 'S', 'GGU': 'G', 'UGC': 'C', 'CGC': 'R', 'AGC': 'S', 'GGC': 'G', 'UGA': 'Stop', 'CGA': 'R', 'AGA': 'R', 'GGA': 'G', 'UGG': 'W', 'CGG': 'R', 'AGG': 'R', 'GGG': 'G'}\n"
     ]
    }
   ],
   "source": [
    "codon_dict = {}\n",
    "\n",
    "\n",
    "# Read the text file and process each line\n",
    "with open(\"./codon.txt\", 'r') as file:\n",
    "    for line in file:\n",
    "        # Split the line into codons and their corresponding amino acids\n",
    "        codons = line.split()\n",
    "        \n",
    "        # There should be four pairs (codon, amino acid) per line\n",
    "        for i in range(0, len(codons), 2):\n",
    "            codon = codons[i]\n",
    "            amino_acid = codons[i + 1]\n",
    "            \n",
    "            # Add the codon and its corresponding amino acid to the dictionary\n",
    "            codon_dict[codon] = amino_acid\n",
    "\n",
    "# Now codon_dict contains all codons as keys and their corresponding amino acids as values\n",
    "print(codon_dict)"
   ]
  },
  {
   "cell_type": "code",
   "execution_count": 10,
   "metadata": {
    "application/vnd.databricks.v1+cell": {
     "cellMetadata": {},
     "inputWidgets": {},
     "nuid": "f5fe6839-20e0-489b-8c0c-ff91a9e25fe0",
     "showTitle": false,
     "title": ""
    }
   },
   "outputs": [],
   "source": [
    "with open(\"./sample_input.txt\", \"r\") as file:\n",
    "    input = file.read()\n",
    "\n",
    "with open(\"./sample_output.txt\", \"r\") as file:\n",
    "    output = file.read()"
   ]
  },
  {
   "cell_type": "code",
   "execution_count": 11,
   "metadata": {},
   "outputs": [
    {
     "data": {
      "text/plain": [
       "['AUGGCCAUGGCGCCCAGAACUGAGAUCAAUAGUACCCGUAUUAACGGGUGA']"
      ]
     },
     "execution_count": 11,
     "metadata": {},
     "output_type": "execute_result"
    }
   ],
   "source": [
    "input.split(\"\\n\")"
   ]
  },
  {
   "cell_type": "code",
   "execution_count": 13,
   "metadata": {},
   "outputs": [],
   "source": [
    "def split_into_segments(string):\n",
    "    return [string[i:i + 3] for i in range(0, len(string), 3)]"
   ]
  },
  {
   "cell_type": "code",
   "execution_count": 15,
   "metadata": {},
   "outputs": [
    {
     "name": "stdout",
     "output_type": "stream",
     "text": [
      "MAMAPRTEINSTRING\n"
     ]
    }
   ],
   "source": [
    "def translate_ran_into_protein(input):\n",
    "    protein_string = \"\"\n",
    "    \n",
    "    rna_string = input.split(\"\\n\")[0]\n",
    "    \n",
    "    codons = split_into_segments(rna_string)\n",
    "    \n",
    "    for c in codons:\n",
    "        protein = codon_dict[c]\n",
    "        if protein == \"Stop\":\n",
    "            break\n",
    "        protein_string += protein\n",
    "    \n",
    "    return protein_string\n",
    "    \n",
    "    \n",
    "\n",
    "    # if len(str1) != len(str2):\n",
    "    #     raise ValueError(\"Strings must be of equal length.\")\n",
    "    \n",
    "    # return sum(char1 != char2 for char1, char2 in zip(str1, str2))\n",
    "\n",
    "\n",
    "print(translate_ran_into_protein(input))\n"
   ]
  },
  {
   "cell_type": "code",
   "execution_count": 16,
   "metadata": {},
   "outputs": [
    {
     "name": "stdout",
     "output_type": "stream",
     "text": [
      "MAIARVSKELNTGCFSDRAIPIYRYNPSSLGKSPLYTLFKRSVTQRRPRVGCAPNSSCYWNAHLKVSPAGISTTRAADPPRSLRIPQRAQYVDTRSVDTVKEKSVNFRWFPSRFRQYSKVMLTLVVQRPAHGPTLAIRPISMNEPLSTKPGALRSCDPYTFVAFMYLGHTLKRYQILIYPGYSGPRWRNNHRVPPTTTKSQGCSSGSRKVEPISQRTAHSGEKQQHTRGTYGLLARYSSKFLCQPGYQPEINLHMPVFESRGGMSETERQALVLCGQYLTRGASTILYKPCWGDTKPIPAMFPAILSLKAIVAIRVVPVSTGDLHKNISYVAQSHKSACGVRRVQNGSLWPMVTTGLSTLHLMARVLGREYPLPFILVITQIKSRILPAYVELRVFDHVKEKLSLDRCQNGRPAASTCPHRSVDRIADDYSFFPYKAPIHDNLWCNWKGPGSPVVRRPPCKSTVSQTTTAVVLCKRCLKVNDEICATRRFISRWLCRCRIGCPILLSVHRTAVCDASSSALQTMLEVPDCYIDHDTFFLAGNLRAGECLDFQILVVLNAQDDPTVAHHPADDNWAPVVLTGVVRRKSHVTIGVTQLRSAATEQLISKLDDTLVGTVSRGPHSKLYALYGHCNDINVPTVLSIKNSDHIAPIKLLTNLASVNKPHLTKTNRAAGSGRHRGEKQLPRLHPGNGPVVSCCWIAAQLATHATGQGILRKHPSSGAFDCKLLMRPNHFKCGNRGGAIKPTDRLYYMDRLEPLSYDEIYNLAGRIEYHVKCPRVSGCGVKIVGLLHHCPFPEMAALYRHIMLPSGLSCFIKSNQVRMLRGSTLRIPSRRWRLRAIGTGQLGLDNKSGSAESWGHSHTYSRSRVADDAPKTGISRSASGLSDHMGVRTGYKRTATLPCGRPSSPALATDKTLQQALYVKVARLAESDSLGSRICEARLAEIVGSKHIHKTQRPPGLYLTGKFPSSLRRQRPNNRNNDSKGPDNCLGMADARYGFLGLGVSCRRTFSIQPHELQLYKEVSTREPDRVGTADPLAYALTVRVRKTVKWVSLVSFGCRFKPTAPAAIRSERETQRAIGCNLPLQVRTPCYDLCSVARRIGDWSPAHISYTYAPDIVNATPKSWLAGNRHDRLGGKAGPFVNASFQVPHSVCIQGGAHKESLKAVPLIHLLANRSRLNCRISLGTHPLLVILLVTDLLYRHYVGGTESGENSPESVPVYLVSWGVWKGMPERLPNLPCAADARNAVATADGYNRHDRLLRGSLSPSRLSGPCAPFTFMQLYALSGAVEEARAIGWLLVVRSKDLTDRGHRFRVEPCLTALFRPPNHRNCHTRGHGRLEAHAGNYTSEAPVKCKGGDTRIKLPMDLNLLRSVSRIPPQILELAITDLTVRCYLVEPVLVLYHSVYYAKSSDGEAGVSKSNAKGCFACVATGSQRHPCSTLLRVTCLPCIQSKVAMCFRGHRLHKACTASPGFEVTVEDELNTSQKFNNSALAWKSLFSIRSVWPRLSSCRRYRVSRNQCPIILATTTVSWAESLNLEQVQSLLISSRVCSLTGVQRTEHEAGCKGSHRRLPAYGTTLQLNCGLSHDSIPYFLLCGPTRLDRQPSICHFVVLMLGTGYNPMWHLRRLMRLACGADFSPHSNSQQILHLSGTYIRFFKQRHSALPALPGAPYARAAFAWPVIIMHMVDALLSVYSRWCARLVSSPGNVGVACRRVRVKLGRVLSLLLIQARVKSVPGLAVATPVRHLSVGGHSADPSVGPPGLCPRLPEPRIKFGRIGNACLHMYKLNVDTHPSVNLRERQRSVSPSVGISSWRSHSVLRWVPDVDGSNVGAGRSGPLTGATHRVIDAMCSCRKAWLCRTRLCSIGSNLSYETKSWDGPFDPKALRATMSRDTSFSAFVVQCNRVRNVILCFGRWLRHAVCRMYSAQTLAAVSNAIGVSKALVLYSTRLVPADGCPIERAAKYEVVVLPGADPRADFESSRGHSDDGSRRLYLFIFRRTLSLYIDGCVGYHIRCVPGEHELYPSTRTIRSRALPLSLYTPIRVVMASMSHPNENILSTRNPRYEVFPLALGGRIETLICIKPPNPHVGRSTVGEQRILGDEEFISNALDRNVRCENGENGRRMPISARKRGNKFLGSYALKRCVLAFTNHCCSNRDPRVRPPLVDRASGSGGSSISAVLAHLNVTRRILATLKCWSRSVRLTSLPPVSWPLGRTVGPLGHTVSGLRSHRLDNRERFPRTRFPLNQRHRLPALFGRMHRGYWVRASPQTLVMSTVQIRLPRLIAIMHWSGQGHQEGVEVLVSNPLFIDVAAHARGTALALLRTQPQLANLIHCVWRGSLQRRDGDDTVRSNSVGYRRLLSSKWANLKLTVYHRLRLILSTKGLGSSERPHLSEGVNEGDYTLSDAVLKVLLVETKSLHCAGAHRNRNFRGYGDQLSRKTIGGWTNGFRCYHEALYLSKPRSEKQLWCPCNLLSGALISEGAELDKAAQTFKLSLLNKYNDDSSVWSRSGADLRTGSLTRYCAQYRSPYFAHRQSRNMVYLRERNPSFPTVGVVNWRNHTTIHGAHHVPHMRLLGGQWIASNRFPPTILKITPQAVILLLAYSRYKYLLLIREINNPARPCRCHHHAIQYEQFCARGSPQYYGGTLSYDRRRQGLTLQTVRDKRNKLPKQASIANHVLYSYLSQGDLSRSEDEHSVVGTFPAESVQMYCPIAFRQSLRCSSNAWLEPMLSWEAKQTSISEWPYVSDYLRPQLTEPGMRHKSLTPHSIRKSWQILDEAATRSNDSCVLIPQSKPHPVHLGRALEPNRSTLPTSFSNPLHNRQSGKSQDILSGRRTVFGAPTIPVARNWILAYSTMLENSSSYSSAHRVRKSSRQELQPNYSKNMHPMQTREKQRSRLYQALSVTATDERPILFRRDPERNNRITGRHCGPRNYWIRCSIFLAASIFVFNPRPFQCPWCRRADCLRCANPAVYTILYAVSDRSVMELPQKGPIGRAPTVPTQAASMAYCEHRSPRDAAWSQHQPHEIKNDKSALTAVDEEHILQSMQLVYSIIGISLSSVGAEAMKDGLVIVTSLVIALRLDCRDLSTITSECLTMIIGVGSFTPPVVTLVQSYNLSWLGDRINPRTKRLSRYDLPPSKTKCPWHTHGAFNRQGCGLVRPSTQNGQSSLNVQQDATSQRQHDVFLSFVANSHQTCLRLVYGIMGRRVYPQLVRVRNRSHGRGDKLYRPTLHLTILGGGVGLLTRCVVYLLTFRALFSRKSTIVEVRVLNELTLIPGSSPRTMKISRIRLYHYESACRKIAPERLNASRVNYSGLTGIKLKYHSNIRTI\n"
     ]
    }
   ],
   "source": [
    "with open(\"./rosalind_prot.txt\", \"r\") as file:\n",
    "    real_input = file.read()\n",
    "\n",
    "print(translate_ran_into_protein(real_input))\n"
   ]
  },
  {
   "cell_type": "code",
   "execution_count": null,
   "metadata": {},
   "outputs": [],
   "source": []
  }
 ],
 "metadata": {
  "application/vnd.databricks.v1+notebook": {
   "dashboards": [],
   "environmentMetadata": {
    "base_environment": "",
    "client": "1"
   },
   "language": "python",
   "notebookMetadata": {
    "pythonIndentUnit": 4
   },
   "notebookName": "(Clone) test",
   "widgets": {}
  },
  "kernelspec": {
   "display_name": "rosalind-AUENTiOu-py3.12",
   "language": "python",
   "name": "python3"
  },
  "language_info": {
   "codemirror_mode": {
    "name": "ipython",
    "version": 3
   },
   "file_extension": ".py",
   "mimetype": "text/x-python",
   "name": "python",
   "nbconvert_exporter": "python",
   "pygments_lexer": "ipython3",
   "version": "3.12.5"
  }
 },
 "nbformat": 4,
 "nbformat_minor": 0
}
