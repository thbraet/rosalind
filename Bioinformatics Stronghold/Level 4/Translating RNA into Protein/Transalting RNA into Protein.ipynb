{
 "cells": [
  {
   "cell_type": "markdown",
   "metadata": {},
   "source": [
    "# The Genetic Code\n",
    "\n",
    "Just as nucleic acids are polymers of nucleotides, proteins are chains of smaller molecules called amino acids; 20 amino acids commonly appear in every species. Just as the primary structure of a nucleic acid is given by the order of its nucleotides, the primary structure of a protein is the order of its amino acids. Some proteins are composed of several subchains called polypeptides, while others are formed of a single polypeptide; see Figure 1.\n",
    "\n",
    "Proteins power every practical function carried out by the cell, and so presumably, the key to understanding life lies in interpreting the relationship between a chain of amino acids and the function of the protein that this chain of amino acids eventually constructs. Proteomics is the field devoted to the study of proteins.\n",
    "\n",
    "How are proteins created? The genetic code, discovered throughout the course of a number of ingenious experiments in the late 1950s, details the translation of an RNA molecule called messenger RNA (mRNA) into amino acids for protein creation. The apparent difficulty in translation is that somehow 4 RNA bases must be translated into a language of 20 amino acids; in order for every possible amino acid to be created, we must translate 3-nucleobase strings (called codons) into amino acids. Note that there are $4^3=64$ possible codons, so that multiple codons may encode the same amino acid. Two special types of codons are the start codon (AUG), which codes for the amino acid methionine always indicates the start of translation, and the three stop codons (UAA, UAG, UGA), which do not code for an amino acid and cause translation to end.\n",
    "\n",
    "The notion that protein is always created from RNA, which in turn is always created from DNA, forms the central dogma of molecular biology. Like all dogmas, it does not always hold; however, it offers an excellent approximation of the truth.\n",
    "\n",
    "An organelle called a ribosome creates peptides by using a helper molecule called transfer RNA (tRNA). A single tRNA molecule possesses a string of three RNA nucleotides on one end (called an anticodon) and an amino acid at the other end. The ribosome takes an RNA molecule transcribed from DNA (see “Transcribing DNA into RNA”), called messenger RNA (mRNA), and examines it one codon at a time. At each step, the tRNA possessing the complementary anticodon bonds to the mRNA at this location, and the amino acid found on the opposite end of the tRNA is added to the growing peptide chain before the remaining part of the tRNA is ejected into the cell, and the ribosome looks for the next tRNA molecule.\n",
    "\n",
    "Not every RNA base eventually becomes translated into a protein, and so an interval of RNA (or an interval of DNA translated into RNA) that does code for a protein is of great biological interest; such an interval of DNA or RNA is called a gene. Because protein creation drives cellular processes, genes differentiate organisms and serve as a basis for heredity, or the process by which traits are inherited.\n",
    "\n",
    "[Link to Rosalind](https://rosalind.info/problems/prot/)"
   ]
  },
  {
   "cell_type": "markdown",
   "metadata": {},
   "source": [
    "# Problem\n",
    "The 20 commonly occurring amino acids are abbreviated by using 20 letters from the English alphabet (all letters except for B, J, O, U, X, and Z). Protein strings are constructed from these 20 symbols. Henceforth, the term genetic string will incorporate protein strings along with DNA strings and RNA strings.\n",
    "\n",
    "The RNA codon table dictates the details regarding the encoding of specific codons into the amino acid alphabet.\n",
    "\n",
    "<span style=\"color:rgba(70,165,70,255); font-weight:bold\">Given</span>: An RNA string $s$ corresponding to a strand of mRNA (of length at most 10 kbp).\n",
    "\n",
    "<span style=\"color:rgba(70,165,70,255); font-weight:bold\">Return</span>: The protein string encoded by $s$."
   ]
  },
  {
   "cell_type": "markdown",
   "metadata": {},
   "source": [
    "# Read Example Input and Output Files"
   ]
  },
  {
   "cell_type": "code",
   "execution_count": 20,
   "metadata": {},
   "outputs": [],
   "source": [
    "%run ../../functions/read_files.ipynb"
   ]
  },
  {
   "cell_type": "code",
   "execution_count": 21,
   "metadata": {},
   "outputs": [
    {
     "name": "stdout",
     "output_type": "stream",
     "text": [
      "AUGGCCAUGGCGCCCAGAACUGAGAUCAAUAGUACCCGUAUUAACGGGUGA\n",
      "MAMAPRTEINSTRING\n"
     ]
    }
   ],
   "source": [
    "input = read_text('sample_input.txt')\n",
    "print(input)\n",
    "\n",
    "output = read_text('sample_output.txt')\n",
    "print(output)"
   ]
  },
  {
   "cell_type": "markdown",
   "metadata": {},
   "source": [
    "# Problem Solving Logic"
   ]
  },
  {
   "cell_type": "code",
   "execution_count": 22,
   "metadata": {},
   "outputs": [],
   "source": [
    "def split_into_segments(string):\n",
    "    return [string[i:i + 3] for i in range(0, len(string), 3)]"
   ]
  },
  {
   "cell_type": "code",
   "execution_count": 23,
   "metadata": {},
   "outputs": [
    {
     "data": {
      "text/plain": [
       "'MAMAPRTEINSTRING'"
      ]
     },
     "execution_count": 23,
     "metadata": {},
     "output_type": "execute_result"
    }
   ],
   "source": [
    "def translate_ran_into_protein(rna_string):\n",
    "    protein_string = \"\"\n",
    "        \n",
    "    codons = split_into_segments(rna_string)\n",
    "    \n",
    "    for c in codons:\n",
    "        protein = codon_dict[c]\n",
    "        if protein == \"Stop\":\n",
    "            break\n",
    "        protein_string += protein\n",
    "    \n",
    "    return protein_string\n",
    "\n",
    "\n",
    "translate_ran_into_protein(input)"
   ]
  },
  {
   "cell_type": "code",
   "execution_count": 24,
   "metadata": {},
   "outputs": [
    {
     "data": {
      "text/plain": [
       "True"
      ]
     },
     "execution_count": 24,
     "metadata": {},
     "output_type": "execute_result"
    }
   ],
   "source": [
    "translate_ran_into_protein(input) == output"
   ]
  },
  {
   "cell_type": "markdown",
   "metadata": {},
   "source": [
    "# Run Real Input"
   ]
  },
  {
   "cell_type": "code",
   "execution_count": 25,
   "metadata": {},
   "outputs": [
    {
     "data": {
      "text/plain": [
       "'MAIARVSKELNTGCFSDRAIPIYRYNPSSLGKSPLYTLFKRSVTQRRPRVGCAPNSSCYWNAHLKVSPAGISTTRAADPPRSLRIPQRAQYVDTRSVDTVKEKSVNFRWFPSRFRQYSKVMLTLVVQRPAHGPTLAIRPISMNEPLSTKPGALRSCDPYTFVAFMYLGHTLKRYQILIYPGYSGPRWRNNHRVPPTTTKSQGCSSGSRKVEPISQRTAHSGEKQQHTRGTYGLLARYSSKFLCQPGYQPEINLHMPVFESRGGMSETERQALVLCGQYLTRGASTILYKPCWGDTKPIPAMFPAILSLKAIVAIRVVPVSTGDLHKNISYVAQSHKSACGVRRVQNGSLWPMVTTGLSTLHLMARVLGREYPLPFILVITQIKSRILPAYVELRVFDHVKEKLSLDRCQNGRPAASTCPHRSVDRIADDYSFFPYKAPIHDNLWCNWKGPGSPVVRRPPCKSTVSQTTTAVVLCKRCLKVNDEICATRRFISRWLCRCRIGCPILLSVHRTAVCDASSSALQTMLEVPDCYIDHDTFFLAGNLRAGECLDFQILVVLNAQDDPTVAHHPADDNWAPVVLTGVVRRKSHVTIGVTQLRSAATEQLISKLDDTLVGTVSRGPHSKLYALYGHCNDINVPTVLSIKNSDHIAPIKLLTNLASVNKPHLTKTNRAAGSGRHRGEKQLPRLHPGNGPVVSCCWIAAQLATHATGQGILRKHPSSGAFDCKLLMRPNHFKCGNRGGAIKPTDRLYYMDRLEPLSYDEIYNLAGRIEYHVKCPRVSGCGVKIVGLLHHCPFPEMAALYRHIMLPSGLSCFIKSNQVRMLRGSTLRIPSRRWRLRAIGTGQLGLDNKSGSAESWGHSHTYSRSRVADDAPKTGISRSASGLSDHMGVRTGYKRTATLPCGRPSSPALATDKTLQQALYVKVARLAESDSLGSRICEARLAEIVGSKHIHKTQRPPGLYLTGKFPSSLRRQRPNNRNNDSKGPDNCLGMADARYGFLGLGVSCRRTFSIQPHELQLYKEVSTREPDRVGTADPLAYALTVRVRKTVKWVSLVSFGCRFKPTAPAAIRSERETQRAIGCNLPLQVRTPCYDLCSVARRIGDWSPAHISYTYAPDIVNATPKSWLAGNRHDRLGGKAGPFVNASFQVPHSVCIQGGAHKESLKAVPLIHLLANRSRLNCRISLGTHPLLVILLVTDLLYRHYVGGTESGENSPESVPVYLVSWGVWKGMPERLPNLPCAADARNAVATADGYNRHDRLLRGSLSPSRLSGPCAPFTFMQLYALSGAVEEARAIGWLLVVRSKDLTDRGHRFRVEPCLTALFRPPNHRNCHTRGHGRLEAHAGNYTSEAPVKCKGGDTRIKLPMDLNLLRSVSRIPPQILELAITDLTVRCYLVEPVLVLYHSVYYAKSSDGEAGVSKSNAKGCFACVATGSQRHPCSTLLRVTCLPCIQSKVAMCFRGHRLHKACTASPGFEVTVEDELNTSQKFNNSALAWKSLFSIRSVWPRLSSCRRYRVSRNQCPIILATTTVSWAESLNLEQVQSLLISSRVCSLTGVQRTEHEAGCKGSHRRLPAYGTTLQLNCGLSHDSIPYFLLCGPTRLDRQPSICHFVVLMLGTGYNPMWHLRRLMRLACGADFSPHSNSQQILHLSGTYIRFFKQRHSALPALPGAPYARAAFAWPVIIMHMVDALLSVYSRWCARLVSSPGNVGVACRRVRVKLGRVLSLLLIQARVKSVPGLAVATPVRHLSVGGHSADPSVGPPGLCPRLPEPRIKFGRIGNACLHMYKLNVDTHPSVNLRERQRSVSPSVGISSWRSHSVLRWVPDVDGSNVGAGRSGPLTGATHRVIDAMCSCRKAWLCRTRLCSIGSNLSYETKSWDGPFDPKALRATMSRDTSFSAFVVQCNRVRNVILCFGRWLRHAVCRMYSAQTLAAVSNAIGVSKALVLYSTRLVPADGCPIERAAKYEVVVLPGADPRADFESSRGHSDDGSRRLYLFIFRRTLSLYIDGCVGYHIRCVPGEHELYPSTRTIRSRALPLSLYTPIRVVMASMSHPNENILSTRNPRYEVFPLALGGRIETLICIKPPNPHVGRSTVGEQRILGDEEFISNALDRNVRCENGENGRRMPISARKRGNKFLGSYALKRCVLAFTNHCCSNRDPRVRPPLVDRASGSGGSSISAVLAHLNVTRRILATLKCWSRSVRLTSLPPVSWPLGRTVGPLGHTVSGLRSHRLDNRERFPRTRFPLNQRHRLPALFGRMHRGYWVRASPQTLVMSTVQIRLPRLIAIMHWSGQGHQEGVEVLVSNPLFIDVAAHARGTALALLRTQPQLANLIHCVWRGSLQRRDGDDTVRSNSVGYRRLLSSKWANLKLTVYHRLRLILSTKGLGSSERPHLSEGVNEGDYTLSDAVLKVLLVETKSLHCAGAHRNRNFRGYGDQLSRKTIGGWTNGFRCYHEALYLSKPRSEKQLWCPCNLLSGALISEGAELDKAAQTFKLSLLNKYNDDSSVWSRSGADLRTGSLTRYCAQYRSPYFAHRQSRNMVYLRERNPSFPTVGVVNWRNHTTIHGAHHVPHMRLLGGQWIASNRFPPTILKITPQAVILLLAYSRYKYLLLIREINNPARPCRCHHHAIQYEQFCARGSPQYYGGTLSYDRRRQGLTLQTVRDKRNKLPKQASIANHVLYSYLSQGDLSRSEDEHSVVGTFPAESVQMYCPIAFRQSLRCSSNAWLEPMLSWEAKQTSISEWPYVSDYLRPQLTEPGMRHKSLTPHSIRKSWQILDEAATRSNDSCVLIPQSKPHPVHLGRALEPNRSTLPTSFSNPLHNRQSGKSQDILSGRRTVFGAPTIPVARNWILAYSTMLENSSSYSSAHRVRKSSRQELQPNYSKNMHPMQTREKQRSRLYQALSVTATDERPILFRRDPERNNRITGRHCGPRNYWIRCSIFLAASIFVFNPRPFQCPWCRRADCLRCANPAVYTILYAVSDRSVMELPQKGPIGRAPTVPTQAASMAYCEHRSPRDAAWSQHQPHEIKNDKSALTAVDEEHILQSMQLVYSIIGISLSSVGAEAMKDGLVIVTSLVIALRLDCRDLSTITSECLTMIIGVGSFTPPVVTLVQSYNLSWLGDRINPRTKRLSRYDLPPSKTKCPWHTHGAFNRQGCGLVRPSTQNGQSSLNVQQDATSQRQHDVFLSFVANSHQTCLRLVYGIMGRRVYPQLVRVRNRSHGRGDKLYRPTLHLTILGGGVGLLTRCVVYLLTFRALFSRKSTIVEVRVLNELTLIPGSSPRTMKISRIRLYHYESACRKIAPERLNASRVNYSGLTGIKLKYHSNIRTI'"
      ]
     },
     "execution_count": 25,
     "metadata": {},
     "output_type": "execute_result"
    }
   ],
   "source": [
    "real_input = read_text('rosalind_prot.txt')\n",
    "\n",
    "\n",
    "translate_ran_into_protein(real_input)\n"
   ]
  },
  {
   "cell_type": "code",
   "execution_count": null,
   "metadata": {},
   "outputs": [],
   "source": []
  }
 ],
 "metadata": {
  "application/vnd.databricks.v1+notebook": {
   "dashboards": [],
   "environmentMetadata": {
    "base_environment": "",
    "client": "1"
   },
   "language": "python",
   "notebookMetadata": {
    "pythonIndentUnit": 4
   },
   "notebookName": "(Clone) test",
   "widgets": {}
  },
  "kernelspec": {
   "display_name": "rosalind-AUENTiOu-py3.12",
   "language": "python",
   "name": "python3"
  },
  "language_info": {
   "codemirror_mode": {
    "name": "ipython",
    "version": 3
   },
   "file_extension": ".py",
   "mimetype": "text/x-python",
   "name": "python",
   "nbconvert_exporter": "python",
   "pygments_lexer": "ipython3",
   "version": "3.12.5"
  }
 },
 "nbformat": 4,
 "nbformat_minor": 0
}
