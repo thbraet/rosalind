{
 "cells": [
  {
   "cell_type": "markdown",
   "metadata": {},
   "source": [
    "A sequence is an ordered collection of objects (usually numbers), which are allowed to repeat. Sequences can be finite or infinite. Two examples are the finite sequence (π,−2–√,0,π)\n",
    " and the infinite sequence of odd numbers (1,3,5,7,9,…)\n",
    ". We use the notation an\n",
    " to represent the n\n",
    "-th term of a sequence.\n",
    "\n",
    "A recurrence relation is a way of defining the terms of a sequence with respect to the values of previous terms. In the case of Fibonacci's rabbits from the introduction, any given month will contain the rabbits that were alive the previous month, plus any new offspring. A key observation is that the number of offspring in any month is equal to the number of rabbits that were alive two months prior. As a result, if Fn\n",
    " represents the number of rabbit pairs alive after the n\n",
    "-th month, then we obtain the Fibonacci sequence having terms Fn\n",
    " that are defined by the recurrence relation Fn=Fn−1+Fn−2\n",
    " (with F1=F2=1\n",
    " to initiate the sequence). Although the sequence bears Fibonacci's name, it was known to Indian mathematicians over two millennia ago.\n",
    "\n",
    "When finding the n\n",
    "-th term of a sequence defined by a recurrence relation, we can simply use the recurrence relation to generate terms for progressively larger values of n\n",
    ". This problem introduces us to the computational technique of dynamic programming, which successively builds up solutions by using the answers to smaller cases.\n",
    "\n",
    "Given: Positive integers n≤40\n",
    " and k≤5\n",
    ".\n",
    "\n",
    "Return: The total number of rabbit pairs that will be present after n\n",
    " months, if we begin with 1 pair and in each generation, every pair of reproduction-age rabbits produces a litter of k\n",
    " rabbit pairs (instead of only 1 pair)."
   ]
  },
  {
   "cell_type": "code",
   "execution_count": 2,
   "metadata": {
    "application/vnd.databricks.v1+cell": {
     "cellMetadata": {},
     "inputWidgets": {},
     "nuid": "f5fe6839-20e0-489b-8c0c-ff91a9e25fe0",
     "showTitle": false,
     "title": ""
    }
   },
   "outputs": [],
   "source": [
    "with open(\"./sample_input.txt\", \"r\") as file:\n",
    "    input = file.read()\n",
    "\n",
    "with open(\"./sample_output.txt\", \"r\") as file:\n",
    "    output = file.read()"
   ]
  },
  {
   "cell_type": "code",
   "execution_count": 6,
   "metadata": {},
   "outputs": [],
   "source": [
    "n = int(input.split(\" \")[0])\n",
    "k = int(input.split(\" \")[1])"
   ]
  },
  {
   "cell_type": "code",
   "execution_count": 7,
   "metadata": {},
   "outputs": [
    {
     "data": {
      "text/plain": [
       "[1, 1, 4, 7, 19]"
      ]
     },
     "execution_count": 7,
     "metadata": {},
     "output_type": "execute_result"
    }
   ],
   "source": [
    "def get_total_rabbits(n,k):\n",
    "    rabbits = [1,1]\n",
    "\n",
    "    for i in range(2,n):\n",
    "        rabbits.append(rabbits[i-1] + k*rabbits[i-2])\n",
    "        \n",
    "    return rabbits\n",
    "\n",
    "get_total_rabbits(n,k)            "
   ]
  },
  {
   "cell_type": "code",
   "execution_count": 8,
   "metadata": {},
   "outputs": [
    {
     "name": "stdout",
     "output_type": "stream",
     "text": [
      "[1, 1, 3, 5, 11, 21, 43, 85, 171, 341, 683, 1365, 2731, 5461, 10923, 21845, 43691, 87381, 174763, 349525, 699051, 1398101, 2796203, 5592405, 11184811, 22369621, 44739243, 89478485, 178956971]\n"
     ]
    }
   ],
   "source": [
    "with open(\"./rosalind_fib.txt\", \"r\") as file:\n",
    "    real_input = file.read()\n",
    "    n = int(real_input.split(\" \")[0])\n",
    "    k = int(real_input.split(\" \")[1])\n",
    "\n",
    "print(get_total_rabbits(n,k))\n"
   ]
  },
  {
   "cell_type": "code",
   "execution_count": null,
   "metadata": {},
   "outputs": [],
   "source": []
  }
 ],
 "metadata": {
  "application/vnd.databricks.v1+notebook": {
   "dashboards": [],
   "environmentMetadata": {
    "base_environment": "",
    "client": "1"
   },
   "language": "python",
   "notebookMetadata": {
    "pythonIndentUnit": 4
   },
   "notebookName": "(Clone) test",
   "widgets": {}
  },
  "kernelspec": {
   "display_name": "rosalind-AUENTiOu-py3.12",
   "language": "python",
   "name": "python3"
  },
  "language_info": {
   "codemirror_mode": {
    "name": "ipython",
    "version": 3
   },
   "file_extension": ".py",
   "mimetype": "text/x-python",
   "name": "python",
   "nbconvert_exporter": "python",
   "pygments_lexer": "ipython3",
   "version": "3.12.5"
  }
 },
 "nbformat": 4,
 "nbformat_minor": 0
}
