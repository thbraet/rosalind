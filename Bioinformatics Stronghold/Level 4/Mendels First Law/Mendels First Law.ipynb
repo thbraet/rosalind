{
 "cells": [
  {
   "cell_type": "markdown",
   "metadata": {},
   "source": [
    "Probability is the mathematical study of randomly occurring phenomena. We will model such a phenomenon with a random variable, which is simply a variable that can take a number of different distinct outcomes depending on the result of an underlying random process.\n",
    "\n",
    "For example, say that we have a bag containing 3 red balls and 2 blue balls. If we let X\n",
    " represent the random variable corresponding to the color of a drawn ball, then the probability of each of the two outcomes is given by Pr(X=red)=35\n",
    " and Pr(X=blue)=25\n",
    ".\n",
    "\n",
    "Random variables can be combined to yield new random variables. Returning to the ball example, let Y\n",
    " model the color of a second ball drawn from the bag (without replacing the first ball). The probability of Y\n",
    " being red depends on whether the first ball was red or blue. To represent all outcomes of X\n",
    " and Y\n",
    ", we therefore use a probability tree diagram. This branching diagram represents all possible individual probabilities for X\n",
    " and Y\n",
    ", with outcomes at the endpoints (\"leaves\") of the tree. The probability of any outcome is given by the product of probabilities along the path from the beginning of the tree; see Figure 2 for an illustrative example.\n",
    "\n",
    "An event is simply a collection of outcomes. Because outcomes are distinct, the probability of an event can be written as the sum of the probabilities of its constituent outcomes. For our colored ball example, let A\n",
    " be the event \"Y\n",
    " is blue.\" Pr(A)\n",
    " is equal to the sum of the probabilities of two different outcomes: Pr(X=blue and Y=blue)+Pr(X=red and Y=blue)\n",
    ", or 310+110=25\n",
    " (see Figure 2 above).\n",
    "\n",
    "Given: Three positive integers k\n",
    ", m\n",
    ", and n\n",
    ", representing a population containing k+m+n\n",
    " organisms: k\n",
    " individuals are homozygous dominant for a factor, m\n",
    " are heterozygous, and n\n",
    " are homozygous recessive.\n",
    "\n",
    "Return: The probability that two randomly selected mating organisms will produce an individual possessing a dominant allele (and thus displaying the dominant phenotype). Assume that any two organisms can mate."
   ]
  },
  {
   "cell_type": "code",
   "execution_count": 19,
   "metadata": {},
   "outputs": [],
   "source": [
    "def probability_dominant_allele(k,m,n):\n",
    "    prob_kk = k / (k + m + n) * (k - 1) / (k + m + n - 1)\n",
    "    prob_mm = m / (k + m + n) * (m - 1) / (k + m + n - 1)\n",
    "    prob_nn = n / (k + m + n) * (n - 1) / (k + m + n - 1)\n",
    "    prob_km = k / (k + m + n) * m / (k + m + n - 1) + m / (k + m + n) * k / (k + m + n - 1)\n",
    "    prob_kn = k / (k + m + n) * n / (k + m + n - 1) + n / (k + m + n) * k / (k + m + n - 1)\n",
    "    prob_mn = m / (k + m + n) * n / (k + m + n - 1) + n / (k + m + n) * m / (k + m + n - 1)\n",
    "\n",
    "    prob_kk_dom = 1\n",
    "    prob_mm_dom = 3/4\n",
    "    prob_nn_dom = 0\n",
    "    prob_km_dom = 1\n",
    "    prob_kn_dom = 1\n",
    "    prob_mn_dom = 1/2\n",
    "\n",
    "    prob_dom = prob_kk * prob_kk_dom + prob_mm * prob_mm_dom + prob_nn * prob_nn_dom + prob_km * prob_km_dom + prob_kn * prob_kn_dom + prob_mn * prob_mn_dom\n",
    "    \n",
    "    return prob_dom\n"
   ]
  },
  {
   "cell_type": "code",
   "execution_count": 20,
   "metadata": {
    "application/vnd.databricks.v1+cell": {
     "cellMetadata": {},
     "inputWidgets": {},
     "nuid": "f5fe6839-20e0-489b-8c0c-ff91a9e25fe0",
     "showTitle": false,
     "title": ""
    }
   },
   "outputs": [],
   "source": [
    "with open(\"./sample_input.txt\", \"r\") as file:\n",
    "    input = file.read()\n",
    "\n",
    "\n",
    "with open(\"./sample_output.txt\", \"r\") as file:\n",
    "    output = file.read()"
   ]
  },
  {
   "cell_type": "code",
   "execution_count": 21,
   "metadata": {},
   "outputs": [],
   "source": [
    "k = int(input.split()[0])\n",
    "m = int(input.split()[1])\n",
    "n = int(input.split()[2])"
   ]
  },
  {
   "cell_type": "code",
   "execution_count": 22,
   "metadata": {},
   "outputs": [
    {
     "data": {
      "text/plain": [
       "0.7833333333333332"
      ]
     },
     "execution_count": 22,
     "metadata": {},
     "output_type": "execute_result"
    }
   ],
   "source": [
    "probability_dominant_allele(k,m,n)"
   ]
  },
  {
   "cell_type": "code",
   "execution_count": 24,
   "metadata": {},
   "outputs": [
    {
     "name": "stdout",
     "output_type": "stream",
     "text": [
      "0.7206413730803976\n"
     ]
    }
   ],
   "source": [
    "with open(\"./rosalind_iprb.txt\", \"r\") as file:\n",
    "    input = file.read()\n",
    "    k = int(input.split()[0])\n",
    "    m = int(input.split()[1])\n",
    "    n = int(input.split()[2])\n",
    "\n",
    "print(probability_dominant_allele(k,m,n))\n"
   ]
  },
  {
   "cell_type": "code",
   "execution_count": null,
   "metadata": {},
   "outputs": [],
   "source": []
  }
 ],
 "metadata": {
  "application/vnd.databricks.v1+notebook": {
   "dashboards": [],
   "environmentMetadata": {
    "base_environment": "",
    "client": "1"
   },
   "language": "python",
   "notebookMetadata": {
    "pythonIndentUnit": 4
   },
   "notebookName": "(Clone) test",
   "widgets": {}
  },
  "kernelspec": {
   "display_name": "rosalind-AUENTiOu-py3.12",
   "language": "python",
   "name": "python3"
  },
  "language_info": {
   "codemirror_mode": {
    "name": "ipython",
    "version": 3
   },
   "file_extension": ".py",
   "mimetype": "text/x-python",
   "name": "python",
   "nbconvert_exporter": "python",
   "pygments_lexer": "ipython3",
   "version": "3.12.5"
  }
 },
 "nbformat": 4,
 "nbformat_minor": 0
}
