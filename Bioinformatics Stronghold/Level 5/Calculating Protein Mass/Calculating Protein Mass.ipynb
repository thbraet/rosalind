{
 "cells": [
  {
   "cell_type": "markdown",
   "metadata": {},
   "source": [
    "# Problem"
   ]
  },
  {
   "cell_type": "markdown",
   "metadata": {},
   "source": [
    "In a weighted alphabet, every symbol is assigned a positive real number called a weight. A string formed from a weighted alphabet is called a weighted string, and its weight is equal to the sum of the weights of its symbols.\n",
    "\n",
    "The standard weight assigned to each member of the 20-symbol amino acid alphabet is the monoisotopic mass of the corresponding amino acid.\n",
    "\n",
    "Given: A protein string P\n",
    " of length at most 1000 aa.\n",
    "\n",
    "Return: The total weight of P\n",
    ". Consult the monoisotopic mass table."
   ]
  },
  {
   "cell_type": "markdown",
   "metadata": {},
   "source": [
    "# Read Example Input and Output Files"
   ]
  },
  {
   "cell_type": "code",
   "execution_count": 3,
   "metadata": {
    "application/vnd.databricks.v1+cell": {
     "cellMetadata": {},
     "inputWidgets": {},
     "nuid": "f5fe6839-20e0-489b-8c0c-ff91a9e25fe0",
     "showTitle": false,
     "title": ""
    }
   },
   "outputs": [],
   "source": [
    "with open(\"./sample_input.txt\", \"r\") as file:\n",
    "    input = file.read()\n",
    "\n",
    "with open(\"./sample_output.txt\", \"r\") as file:\n",
    "    output = file.read()"
   ]
  },
  {
   "cell_type": "code",
   "execution_count": 2,
   "metadata": {},
   "outputs": [
    {
     "name": "stdout",
     "output_type": "stream",
     "text": [
      "{'A': 71.03711, 'C': 103.00919, 'D': 115.02694, 'E': 129.04259, 'F': 147.06841, 'G': 57.02146, 'H': 137.05891, 'I': 113.08406, 'K': 128.09496, 'L': 113.08406, 'M': 131.04049, 'N': 114.04293, 'P': 97.05276, 'Q': 128.05858, 'R': 156.10111, 'S': 87.03203, 'T': 101.04768, 'V': 99.06841, 'W': 186.07931, 'Y': 163.06333}\n"
     ]
    }
   ],
   "source": [
    "# Open the file in read mode\n",
    "with open('monoisotopic_mass.txt', 'r') as file:\n",
    "    data_dict = {}\n",
    "    \n",
    "    # Read each line from the file\n",
    "    for line in file:\n",
    "        # Split each line into key (the letter) and value (the number)\n",
    "        key, value = line.split()\n",
    "        # Add to dictionary, converting the value to a float\n",
    "        data_dict[key] = float(value)\n",
    "\n",
    "# Print the resulting dictionary\n",
    "print(data_dict)\n"
   ]
  },
  {
   "cell_type": "markdown",
   "metadata": {},
   "source": [
    "# Problem solving logic"
   ]
  },
  {
   "cell_type": "code",
   "execution_count": 7,
   "metadata": {},
   "outputs": [
    {
     "data": {
      "text/plain": [
       "821.3919199999999"
      ]
     },
     "execution_count": 7,
     "metadata": {},
     "output_type": "execute_result"
    }
   ],
   "source": [
    "def calculate_weight(input):\n",
    "    weight = 0\n",
    "    for c in input:\n",
    "        weight += data_dict[c]\n",
    "        \n",
    "    return weight\n",
    "\n",
    "calculate_weight(input)"
   ]
  },
  {
   "cell_type": "markdown",
   "metadata": {},
   "source": [
    "# Run real input"
   ]
  },
  {
   "cell_type": "code",
   "execution_count": 12,
   "metadata": {},
   "outputs": [
    {
     "name": "stdout",
     "output_type": "stream",
     "text": [
      "103372.12024000057\n"
     ]
    }
   ],
   "source": [
    "with open(\"./rosalind_prtm.txt\", \"r\") as file:\n",
    "    real_input = file.read()\n",
    "    input = real_input.split(\"\\n\")[0]   \n",
    "    print(calculate_weight(input))\n",
    "\n"
   ]
  },
  {
   "cell_type": "code",
   "execution_count": 11,
   "metadata": {},
   "outputs": [
    {
     "data": {
      "text/plain": [
       "'EGMYPEICGKYAFIYTQSSMAEPGPTRAWLDITYSTCIKAVAPNIKPSQGMIAYVAALNYTYRCIHELIKYMCQCLGRIGTFDHGKWVCDYDNREWSHFSPWCTSCFGWTLKLTMKHDHKLVIFEYELPTDPEFFPRMKFMSRKQGCLNCKEVPSRVYYRIFNSNDGEGYDVIWNQISAGGIPTKKLEGYMKDAPVYCLKWFNRYMWFEMMNTIVLDCVTHKRAKVKCWYKLVWTCATTRFFGCNWDLNEGRGNHWSTGHCIIFGEGSLEPPFEWMHPWMSPAFTIFLFSKEPKGFRDYECDYLLQACNPLKFWLWDDGDNKSTTEPYSVQLIIVNKHNIAVQHPILETKYDNLLTQYPYGRINNCRDDGQMPPSYWKEKTCLQCEAKLYVALDSSNITRAIANNIDIQKPGIGLGGMAHPKMHLGADHRPYDYGDGAFDGYTMFNSNRWAKVAKNCLWSENMVDHEISAGSNVEMHKNNIPHKIEWPRDVEGSWDRLGEHCPMHRNQNQFLDLYIEINEASKDTVKWYGHSGQGQCLWMDETLGHIVPDLIHANYWEHSACDDLRVPGEWHCTFMKFFQDVWGKGLACYKNFFLLEHKRHKKPHNQECPDIARQCWWHNVDARFALCVSHSWKQNMTTPENVLAWCEGVTLLSFYEGPADEFMKLLKMHEPLICENRPCWYAHVQTSALNMMCWKFSEHQDCKVLEGWFPSQWWHFMKKEWHLGLCFAQVWHDHPYEYWVRVPNDFQSYEPMNKNIIITFYHFQNKWMCSVHHPVGWILRKCRNNSCKKGMTLWSTYGTQLDYPWPRGIEHDYICDRYPLKDKEKGYMPGWEPSRKPSERAEIDWCAIKCTWHQMNVDMSVFPVNKVRHLSFFAH'"
      ]
     },
     "execution_count": 11,
     "metadata": {},
     "output_type": "execute_result"
    }
   ],
   "source": [
    "real_input.split(\"\\n\")[0]"
   ]
  },
  {
   "cell_type": "code",
   "execution_count": null,
   "metadata": {},
   "outputs": [],
   "source": []
  }
 ],
 "metadata": {
  "application/vnd.databricks.v1+notebook": {
   "dashboards": [],
   "environmentMetadata": {
    "base_environment": "",
    "client": "1"
   },
   "language": "python",
   "notebookMetadata": {
    "pythonIndentUnit": 4
   },
   "notebookName": "(Clone) test",
   "widgets": {}
  },
  "kernelspec": {
   "display_name": "rosalind-AUENTiOu-py3.12",
   "language": "python",
   "name": "python3"
  },
  "language_info": {
   "codemirror_mode": {
    "name": "ipython",
    "version": 3
   },
   "file_extension": ".py",
   "mimetype": "text/x-python",
   "name": "python",
   "nbconvert_exporter": "python",
   "pygments_lexer": "ipython3",
   "version": "3.12.5"
  }
 },
 "nbformat": 4,
 "nbformat_minor": 0
}
