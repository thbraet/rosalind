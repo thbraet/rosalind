{
 "cells": [
  {
   "cell_type": "markdown",
   "metadata": {},
   "source": [
    "# Problem"
   ]
  },
  {
   "cell_type": "markdown",
   "metadata": {},
   "source": [
    "Recall the definition of the Fibonacci numbers from “Rabbits and Recurrence Relations”, which followed the recurrence relation Fn=Fn−1+Fn−2\n",
    " and assumed that each pair of rabbits reaches maturity in one month and produces a single pair of offspring (one male, one female) each subsequent month.\n",
    "\n",
    "Our aim is to somehow modify this recurrence relation to achieve a dynamic programming solution in the case that all rabbits die out after a fixed number of months. See Figure 4 for a depiction of a rabbit tree in which rabbits live for three months (meaning that they reproduce only twice before dying).\n",
    "\n",
    "Given: Positive integers n≤100\n",
    " and m≤20\n",
    ".\n",
    "\n",
    "Return: The total number of pairs of rabbits that will remain after the n\n",
    "-th month if all rabbits live for m\n",
    " months."
   ]
  },
  {
   "cell_type": "markdown",
   "metadata": {},
   "source": [
    "# Read Example Input and Output Files"
   ]
  },
  {
   "cell_type": "code",
   "execution_count": 54,
   "metadata": {
    "application/vnd.databricks.v1+cell": {
     "cellMetadata": {},
     "inputWidgets": {},
     "nuid": "f5fe6839-20e0-489b-8c0c-ff91a9e25fe0",
     "showTitle": false,
     "title": ""
    }
   },
   "outputs": [],
   "source": [
    "with open(\"./sample_input.txt\", \"r\") as file:\n",
    "    input = file.read()\n",
    "\n",
    "with open(\"./sample_output.txt\", \"r\") as file:\n",
    "    output = file.read()"
   ]
  },
  {
   "cell_type": "code",
   "execution_count": 58,
   "metadata": {},
   "outputs": [],
   "source": [
    "month = int(input.split(\" \")[0])\n",
    "lifespan = int(input.split(\" \")[1])\n",
    "\n",
    "month = 87\n",
    "lifespan = 17"
   ]
  },
  {
   "cell_type": "markdown",
   "metadata": {},
   "source": [
    "# Problem solving logic"
   ]
  },
  {
   "cell_type": "code",
   "execution_count": 62,
   "metadata": {},
   "outputs": [
    {
     "data": {
      "text/plain": [
       "4"
      ]
     },
     "execution_count": 62,
     "metadata": {},
     "output_type": "execute_result"
    }
   ],
   "source": [
    "def get_mortal_fibonacci_rabbits(month, lifespan):\n",
    "    rabbits_m = []\n",
    "    m1 = [1] + [0] * (lifespan - 1)\n",
    "    rabbits_m = [m1]\n",
    "    for m in range(1, month):\n",
    "        new_rabbits = sum(rabbits_m[m-1]) - rabbits_m[m-1][0]\n",
    "        rabbits_i = [new_rabbits] + rabbits_m[m-1][:-1]\n",
    "        rabbits_m.append(rabbits_i)\n",
    "    return sum(rabbits_m[-1])\n",
    "\n",
    "get_mortal_fibonacci_rabbits(6,3)"
   ]
  },
  {
   "cell_type": "code",
   "execution_count": 46,
   "metadata": {},
   "outputs": [
    {
     "name": "stdout",
     "output_type": "stream",
     "text": [
      "4\n"
     ]
    }
   ],
   "source": [
    "# Recursive solution but takes too long to execute\n",
    "\n",
    "def get_newborns(t, L):\n",
    "    if t <= 0:\n",
    "        return 0\n",
    "    if t == 1:\n",
    "        return 1\n",
    "    else:\n",
    "        total = 0\n",
    "        for i in range(2, L+1):\n",
    "            total += get_newborns(t-i, L)\n",
    "        return total            \n",
    "\n",
    "def get_all_rabits(t, L):\n",
    "    total = 0\n",
    "    for i in range(1, L+1):\n",
    "        total += get_newborns(t-i+1, L)\n",
    "    return total\n",
    "\n",
    "print(get_all_rabits(month, lifespan))"
   ]
  },
  {
   "cell_type": "markdown",
   "metadata": {},
   "source": [
    "# Run real input"
   ]
  },
  {
   "cell_type": "code",
   "execution_count": 65,
   "metadata": {},
   "outputs": [
    {
     "name": "stdout",
     "output_type": "stream",
     "text": [
      "84 18\n"
     ]
    },
    {
     "data": {
      "text/plain": [
       "159659704963213182"
      ]
     },
     "execution_count": 65,
     "metadata": {},
     "output_type": "execute_result"
    }
   ],
   "source": [
    "with open(\"./rosalind_fibd.txt\", \"r\") as file:\n",
    "    real_input = file.read()\n",
    "\n",
    "month = int(real_input.split(\" \")[0])\n",
    "lifespan = int(real_input.split(\" \")[1])\n",
    "\n",
    "print(month, lifespan)\n",
    "get_mortal_fibonacci_rabbits(month,lifespan)"
   ]
  },
  {
   "cell_type": "code",
   "execution_count": null,
   "metadata": {},
   "outputs": [],
   "source": []
  }
 ],
 "metadata": {
  "application/vnd.databricks.v1+notebook": {
   "dashboards": [],
   "environmentMetadata": {
    "base_environment": "",
    "client": "1"
   },
   "language": "python",
   "notebookMetadata": {
    "pythonIndentUnit": 4
   },
   "notebookName": "(Clone) test",
   "widgets": {}
  },
  "kernelspec": {
   "display_name": "rosalind-AUENTiOu-py3.12",
   "language": "python",
   "name": "python3"
  },
  "language_info": {
   "codemirror_mode": {
    "name": "ipython",
    "version": 3
   },
   "file_extension": ".py",
   "mimetype": "text/x-python",
   "name": "python",
   "nbconvert_exporter": "python",
   "pygments_lexer": "ipython3",
   "version": "3.12.5"
  }
 },
 "nbformat": 4,
 "nbformat_minor": 0
}
