{
 "cells": [
  {
   "cell_type": "markdown",
   "metadata": {},
   "source": [
    "# Problem"
   ]
  },
  {
   "cell_type": "markdown",
   "metadata": {},
   "source": [
    "Lorem Ipsum"
   ]
  },
  {
   "cell_type": "markdown",
   "metadata": {},
   "source": [
    "# Read Example Input and Output Files"
   ]
  },
  {
   "cell_type": "code",
   "execution_count": 10,
   "metadata": {
    "application/vnd.databricks.v1+cell": {
     "cellMetadata": {},
     "inputWidgets": {},
     "nuid": "f5fe6839-20e0-489b-8c0c-ff91a9e25fe0",
     "showTitle": false,
     "title": ""
    }
   },
   "outputs": [],
   "source": [
    "with open(\"./sample_input.txt\", \"r\") as file:\n",
    "    input = file.read()\n",
    "\n",
    "with open(\"./sample_output.txt\", \"r\") as file:\n",
    "    output = file.read()"
   ]
  },
  {
   "cell_type": "code",
   "execution_count": 1,
   "metadata": {},
   "outputs": [
    {
     "name": "stdout",
     "output_type": "stream",
     "text": [
      "{'UUU': 'F', 'CUU': 'L', 'AUU': 'I', 'GUU': 'V', 'UUC': 'F', 'CUC': 'L', 'AUC': 'I', 'GUC': 'V', 'UUA': 'L', 'CUA': 'L', 'AUA': 'I', 'GUA': 'V', 'UUG': 'L', 'CUG': 'L', 'AUG': 'M', 'GUG': 'V', 'UCU': 'S', 'CCU': 'P', 'ACU': 'T', 'GCU': 'A', 'UCC': 'S', 'CCC': 'P', 'ACC': 'T', 'GCC': 'A', 'UCA': 'S', 'CCA': 'P', 'ACA': 'T', 'GCA': 'A', 'UCG': 'S', 'CCG': 'P', 'ACG': 'T', 'GCG': 'A', 'UAU': 'Y', 'CAU': 'H', 'AAU': 'N', 'GAU': 'D', 'UAC': 'Y', 'CAC': 'H', 'AAC': 'N', 'GAC': 'D', 'UAA': 'Stop', 'CAA': 'Q', 'AAA': 'K', 'GAA': 'E', 'UAG': 'Stop', 'CAG': 'Q', 'AAG': 'K', 'GAG': 'E', 'UGU': 'C', 'CGU': 'R', 'AGU': 'S', 'GGU': 'G', 'UGC': 'C', 'CGC': 'R', 'AGC': 'S', 'GGC': 'G', 'UGA': 'Stop', 'CGA': 'R', 'AGA': 'R', 'GGA': 'G', 'UGG': 'W', 'CGG': 'R', 'AGG': 'R', 'GGG': 'G'}\n"
     ]
    }
   ],
   "source": [
    "codon_dict = {}\n",
    "\n",
    "\n",
    "# Read the text file and process each line\n",
    "with open(\"./codon.txt\", 'r') as file:\n",
    "    for line in file:\n",
    "        # Split the line into codons and their corresponding amino acids\n",
    "        codons = line.split()\n",
    "        \n",
    "        # There should be four pairs (codon, amino acid) per line\n",
    "        for i in range(0, len(codons), 2):\n",
    "            codon = codons[i]\n",
    "            amino_acid = codons[i + 1]\n",
    "            \n",
    "            # Add the codon and its corresponding amino acid to the dictionary\n",
    "            codon_dict[codon] = amino_acid\n",
    "\n",
    "# Now codon_dict contains all codons as keys and their corresponding amino acids as values\n",
    "print(codon_dict)"
   ]
  },
  {
   "cell_type": "markdown",
   "metadata": {},
   "source": [
    "# Problem solving logic"
   ]
  },
  {
   "cell_type": "code",
   "execution_count": 13,
   "metadata": {},
   "outputs": [],
   "source": [
    "import pandas as pd\n",
    "\n",
    "protein_codon_freq = pd.DataFrame(codon_dict.items(), columns=['Codon', 'Amino Acid']).groupby('Amino Acid').count().to_dict().get('Codon')"
   ]
  },
  {
   "cell_type": "code",
   "execution_count": 16,
   "metadata": {},
   "outputs": [
    {
     "data": {
      "text/plain": [
       "{'A': 4,\n",
       " 'C': 2,\n",
       " 'D': 2,\n",
       " 'E': 2,\n",
       " 'F': 2,\n",
       " 'G': 4,\n",
       " 'H': 2,\n",
       " 'I': 3,\n",
       " 'K': 2,\n",
       " 'L': 6,\n",
       " 'M': 1,\n",
       " 'N': 2,\n",
       " 'P': 4,\n",
       " 'Q': 2,\n",
       " 'R': 6,\n",
       " 'S': 6,\n",
       " 'Stop': 3,\n",
       " 'T': 4,\n",
       " 'V': 4,\n",
       " 'W': 1,\n",
       " 'Y': 2}"
      ]
     },
     "execution_count": 16,
     "metadata": {},
     "output_type": "execute_result"
    }
   ],
   "source": [
    "protein_codon_freq"
   ]
  },
  {
   "cell_type": "code",
   "execution_count": 21,
   "metadata": {},
   "outputs": [
    {
     "data": {
      "text/plain": [
       "12"
      ]
     },
     "execution_count": 21,
     "metadata": {},
     "output_type": "execute_result"
    }
   ],
   "source": [
    "\n",
    "def get_possible_rna_sequences(input):\n",
    "    possible_sequences = 1\n",
    "    for aa in input:\n",
    "        possible_sequences *= protein_codon_freq.get(aa)\n",
    "    possible_sequences *= 3 # 3 stop codons\n",
    "    \n",
    "    return possible_sequences % 1000000\n",
    "\n",
    "get_possible_rna_sequences(input)"
   ]
  },
  {
   "cell_type": "markdown",
   "metadata": {},
   "source": [
    "# Run real input"
   ]
  },
  {
   "cell_type": "code",
   "execution_count": 22,
   "metadata": {},
   "outputs": [
    {
     "name": "stdout",
     "output_type": "stream",
     "text": [
      "956992\n"
     ]
    }
   ],
   "source": [
    "with open(\"./rosalind_mrna.txt\", \"r\") as file:\n",
    "    real_input = file.read().split(\"\\n\")[0]\n",
    "    \n",
    "    print(get_possible_rna_sequences(real_input))\n",
    "\n"
   ]
  },
  {
   "cell_type": "code",
   "execution_count": null,
   "metadata": {},
   "outputs": [],
   "source": []
  }
 ],
 "metadata": {
  "application/vnd.databricks.v1+notebook": {
   "dashboards": [],
   "environmentMetadata": {
    "base_environment": "",
    "client": "1"
   },
   "language": "python",
   "notebookMetadata": {
    "pythonIndentUnit": 4
   },
   "notebookName": "(Clone) test",
   "widgets": {}
  },
  "kernelspec": {
   "display_name": "rosalind-AUENTiOu-py3.12",
   "language": "python",
   "name": "python3"
  },
  "language_info": {
   "codemirror_mode": {
    "name": "ipython",
    "version": 3
   },
   "file_extension": ".py",
   "mimetype": "text/x-python",
   "name": "python",
   "nbconvert_exporter": "python",
   "pygments_lexer": "ipython3",
   "version": "3.12.5"
  }
 },
 "nbformat": 4,
 "nbformat_minor": 0
}
