{
 "cells": [
  {
   "cell_type": "markdown",
   "metadata": {},
   "source": [
    "# Finding a Most Likely Common Ancestor\n",
    "\n",
    "In [“Counting Point Mutations”](../../Level%204/Counting%20Point%20Mutations/Counting%20Point%20Mutations.html), we calculated the minimum number of symbol mismatches between two strings of equal length to model the problem of finding the minimum number of point mutations occurring on the evolutionary path between two homologous strands of DNA. If we instead have several homologous strands that we wish to analyze simultaneously, then the natural problem is to find an average-case strand to represent the most likely common ancestor of the given strands."
   ]
  },
  {
   "attachments": {
    "image.png": {
     "image/png": "[encoded data removed]"
    }
   },
   "cell_type": "markdown",
   "metadata": {},
   "source": [
    "## Problem\n",
    "\n",
    "A matrix is a rectangular table of values divided into rows and columns. An $m\\ ×\\ n$ matrix has $m$ rows and $n$ columns. Given a matrix $A$, we write $A_{i,j}$ to indicate the value found at the intersection of row $i$ and column $j$.\n",
    "\n",
    "Say that we have a collection of DNA strings, all having the same length $n$. Their profile matrix is a $4\\ ×\\ n$ matrix $P$ in which $P_{1,j}$ represents the number of times that 'A' occurs in the $j$th position of one of the strings, $P_{2,j}$ represents the number of times that C occurs in the $j$th position, and so on (see below).\n",
    "\n",
    "A consensus string $c$ is a string of length $n$ formed from our collection by taking the most common symbol at each position; the $j$th symbol of $c$ therefore corresponds to the symbol having the maximum value in the $j$-th column of the profile matrix. Of course, there may be more than one most common symbol, leading to multiple possible consensus strings.\n",
    "\n",
    "![image.png](attachment:image.png)\n",
    "\n",
    "\n",
    "\n",
    "<span style=\"color:rgba(70,165,70,255); font-weight:bold\">Given</span>: A collection of at most 10 DNA strings of equal length (at most 1 kbp) in FASTA format.\n",
    "\n",
    "\n",
    "<span style=\"color:rgba(70,165,70,255); font-weight:bold\">Return</span>:  A consensus string and profile matrix for the collection. (If several possible consensus strings exist, then you may return any one of them.)\n",
    "\n"
   ]
  },
  {
   "cell_type": "markdown",
   "metadata": {},
   "source": [
    "## Read Files"
   ]
  },
  {
   "cell_type": "code",
   "execution_count": 51,
   "metadata": {},
   "outputs": [],
   "source": [
    "%run ../../functions/read_files.ipynb"
   ]
  },
  {
   "cell_type": "code",
   "execution_count": 53,
   "metadata": {},
   "outputs": [],
   "source": [
    "df_input = read_fasta(\"./sample_input.txt\")\n",
    "output = read_text(\"./sample_output.txt\")"
   ]
  },
  {
   "cell_type": "markdown",
   "metadata": {},
   "source": [
    "## Solution"
   ]
  },
  {
   "cell_type": "code",
   "execution_count": 56,
   "metadata": {},
   "outputs": [],
   "source": [
    "def get_consensus_and_profile_matrix(input_path = './sample_input.txt', output_path = 'nucleotide_frequencies.txt' ):\n",
    "    \n",
    "    dna_strings = read_fasta(input_path)\n",
    "        \n",
    "    dna_strings_to_df = pd.DataFrame(dna_strings.Sequence.apply(list).tolist())\n",
    "\n",
    "    freq_df = pd.DataFrame(\n",
    "            ((dna_strings_to_df == 'A').sum().values,\n",
    "            (dna_strings_to_df == 'C').sum().values,\n",
    "            (dna_strings_to_df == 'G').sum().values,\n",
    "            (dna_strings_to_df == 'T').sum().values), index=['A', 'C', 'G', 'T'])\n",
    "\n",
    "\n",
    "\n",
    "\n",
    "    # Write to a text file\n",
    "    with open(output_path, 'w') as file:\n",
    "        file.write(''.join(freq_df.idxmax().values) + '\\n')\n",
    "\n",
    "        \n",
    "        for nucleotide, row in freq_df.iterrows():\n",
    "            formatted_row = f\"{nucleotide}: \" + \" \".join(map(str, row))\n",
    "            file.write(formatted_row + '\\n')\n",
    "\n",
    "    print(\"Output written to nucleotide_frequencies.txt\")"
   ]
  },
  {
   "cell_type": "code",
   "execution_count": 59,
   "metadata": {},
   "outputs": [
    {
     "name": "stdout",
     "output_type": "stream",
     "text": [
      "Output written to nucleotide_frequencies.txt\n"
     ]
    }
   ],
   "source": [
    "get_consensus_and_profile_matrix()"
   ]
  },
  {
   "cell_type": "markdown",
   "metadata": {},
   "source": [
    "## Submit problem"
   ]
  },
  {
   "cell_type": "code",
   "execution_count": 62,
   "metadata": {},
   "outputs": [
    {
     "name": "stdout",
     "output_type": "stream",
     "text": [
      "Output written to nucleotide_frequencies.txt\n"
     ]
    }
   ],
   "source": [
    "get_consensus_and_profile_matrix(input_path = './rosalind_cons.txt', output_path = 'nucleotide_frequencies_submission.txt')"
   ]
  }
 ],
 "metadata": {
  "application/vnd.databricks.v1+notebook": {
   "dashboards": [],
   "environmentMetadata": {
    "base_environment": "",
    "client": "1"
   },
   "language": "python",
   "notebookMetadata": {
    "pythonIndentUnit": 4
   },
   "notebookName": "(Clone) test",
   "widgets": {}
  },
  "kernelspec": {
   "display_name": "rosalind-AUENTiOu-py3.12",
   "language": "python",
   "name": "python3"
  },
  "language_info": {
   "codemirror_mode": {
    "name": "ipython",
    "version": 3
   },
   "file_extension": ".py",
   "mimetype": "text/x-python",
   "name": "python",
   "nbconvert_exporter": "python",
   "pygments_lexer": "ipython3",
   "version": "3.12.5"
  }
 },
 "nbformat": 4,
 "nbformat_minor": 0
}
