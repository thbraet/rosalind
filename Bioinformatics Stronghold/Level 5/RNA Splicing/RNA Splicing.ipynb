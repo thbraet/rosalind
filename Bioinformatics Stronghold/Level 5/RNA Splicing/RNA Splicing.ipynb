{
 "cells": [
  {
   "cell_type": "markdown",
   "metadata": {},
   "source": [
    "# Problem"
   ]
  },
  {
   "cell_type": "markdown",
   "metadata": {},
   "source": [
    "Lorem Ipsum"
   ]
  },
  {
   "cell_type": "markdown",
   "metadata": {},
   "source": [
    "# Read Example Input and Output Files"
   ]
  },
  {
   "cell_type": "code",
   "execution_count": 7,
   "metadata": {
    "application/vnd.databricks.v1+cell": {
     "cellMetadata": {},
     "inputWidgets": {},
     "nuid": "f5fe6839-20e0-489b-8c0c-ff91a9e25fe0",
     "showTitle": false,
     "title": ""
    }
   },
   "outputs": [],
   "source": [
    "with open(\"./sample_input.txt\", \"r\") as file:\n",
    "    input = file.read()\n",
    "\n",
    "with open(\"./sample_output.txt\", \"r\") as file:\n",
    "    output = file.read()"
   ]
  },
  {
   "cell_type": "code",
   "execution_count": 11,
   "metadata": {},
   "outputs": [
    {
     "name": "stdout",
     "output_type": "stream",
     "text": [
      "{'UUU': 'F', 'CUU': 'L', 'AUU': 'I', 'GUU': 'V', 'UUC': 'F', 'CUC': 'L', 'AUC': 'I', 'GUC': 'V', 'UUA': 'L', 'CUA': 'L', 'AUA': 'I', 'GUA': 'V', 'UUG': 'L', 'CUG': 'L', 'AUG': 'M', 'GUG': 'V', 'UCU': 'S', 'CCU': 'P', 'ACU': 'T', 'GCU': 'A', 'UCC': 'S', 'CCC': 'P', 'ACC': 'T', 'GCC': 'A', 'UCA': 'S', 'CCA': 'P', 'ACA': 'T', 'GCA': 'A', 'UCG': 'S', 'CCG': 'P', 'ACG': 'T', 'GCG': 'A', 'UAU': 'Y', 'CAU': 'H', 'AAU': 'N', 'GAU': 'D', 'UAC': 'Y', 'CAC': 'H', 'AAC': 'N', 'GAC': 'D', 'UAA': 'Stop', 'CAA': 'Q', 'AAA': 'K', 'GAA': 'E', 'UAG': 'Stop', 'CAG': 'Q', 'AAG': 'K', 'GAG': 'E', 'UGU': 'C', 'CGU': 'R', 'AGU': 'S', 'GGU': 'G', 'UGC': 'C', 'CGC': 'R', 'AGC': 'S', 'GGC': 'G', 'UGA': 'Stop', 'CGA': 'R', 'AGA': 'R', 'GGA': 'G', 'UGG': 'W', 'CGG': 'R', 'AGG': 'R', 'GGG': 'G'}\n"
     ]
    }
   ],
   "source": [
    "codon_dict = {}\n",
    "\n",
    "\n",
    "# Read the text file and process each line\n",
    "with open(\"./codon.txt\", 'r') as file:\n",
    "    for line in file:\n",
    "        # Split the line into codons and their corresponding amino acids\n",
    "        codons = line.split()\n",
    "        \n",
    "        # There should be four pairs (codon, amino acid) per line\n",
    "        for i in range(0, len(codons), 2):\n",
    "            codon = codons[i]\n",
    "            amino_acid = codons[i + 1]\n",
    "            \n",
    "            # Add the codon and its corresponding amino acid to the dictionary\n",
    "            codon_dict[codon] = amino_acid\n",
    "\n",
    "# Now codon_dict contains all codons as keys and their corresponding amino acids as values\n",
    "print(codon_dict)"
   ]
  },
  {
   "cell_type": "code",
   "execution_count": 16,
   "metadata": {},
   "outputs": [
    {
     "name": "stdout",
     "output_type": "stream",
     "text": [
      "ATGGTCTACATAGCTGACAAACAGCACGTAGCAATCGGTCGAATCTCGAGAGGCATATGGTCACATGATCGGTCGAGCGTGTTTCAAAGTTTGCGCCTAG\n",
      "['ATCGGTCGAA', 'ATCGGTCGAGCGTGT']\n"
     ]
    }
   ],
   "source": [
    "def read_fasta(file_path):\n",
    "    rna = \"\"\n",
    "    introns = []\n",
    "    current_sequence = []  # To collect sequence lines for each label\n",
    "    with open(file_path, 'r') as file:\n",
    "        for line in file:\n",
    "            line = line.strip()\n",
    "            if line.startswith('>'):\n",
    "                # Store the accumulated sequence when a new label is found\n",
    "                if current_sequence:\n",
    "                    if not rna:\n",
    "                        rna = ''.join(current_sequence)  # First sequence is RNA\n",
    "                    else:\n",
    "                        introns.append(''.join(current_sequence))  # Other sequences are introns\n",
    "                current_sequence = []  # Reset for the next sequence\n",
    "            else:\n",
    "                current_sequence.append(line)  # Collect sequence parts\n",
    "\n",
    "        # Handle the last sequence after loop ends\n",
    "        if current_sequence:\n",
    "            if not rna:\n",
    "                rna = ''.join(current_sequence)  # Assign to RNA if it's the first\n",
    "            else:\n",
    "                introns.append(''.join(current_sequence))  # Assign to introns if it's not the first\n",
    "\n",
    "    return rna, introns\n",
    "\n",
    "# Example usage\n",
    "file_path = \"./sample_input.txt\"\n",
    "rna, introns = read_fasta(file_path)\n",
    "\n",
    "print(rna)\n",
    "print(introns)\n",
    "# for label, sequence in fasta_sequences.items():\n",
    "#     print(f'{label}: {sequence}')\n"
   ]
  },
  {
   "cell_type": "markdown",
   "metadata": {},
   "source": [
    "# Problem solving logic"
   ]
  },
  {
   "cell_type": "code",
   "execution_count": 27,
   "metadata": {},
   "outputs": [
    {
     "name": "stdout",
     "output_type": "stream",
     "text": [
      "486\n",
      "Stop\n"
     ]
    }
   ],
   "source": [
    "def splice(rna, introns):\n",
    "    for intron in introns:\n",
    "        rna = rna.replace(intron, \"\")\n",
    "    rna = rna.replace(\"T\", \"U\")\n",
    "    return rna\n",
    "\n",
    "splice(rna, introns)\n",
    "\n",
    "def translate(spliced_rna, codon_dict):\n",
    "    protein = \"\"\n",
    "    print(len(spliced_rna))\n",
    "    for i in range(0, len(spliced_rna), 3):\n",
    "        codon = spliced_rna[i:i + 3]\n",
    "        # print(i, codon)\n",
    "        amino_acid = codon_dict[codon]\n",
    "        if amino_acid == \"Stop\":\n",
    "            print(\"Stop\")\n",
    "            break\n",
    "        protein += amino_acid\n",
    "    return protein\n",
    "\n",
    "translate(splice(rna, introns), codon_dict)\n",
    "\n",
    "def get_solution(file_path):\n",
    "    rna, introns = read_fasta(file_path)\n",
    "    spliced_rna = splice(rna, introns)\n",
    "    protein = translate(spliced_rna, codon_dict)\n",
    "    return protein"
   ]
  },
  {
   "cell_type": "markdown",
   "metadata": {},
   "source": [
    "# Run real input"
   ]
  },
  {
   "cell_type": "code",
   "execution_count": 29,
   "metadata": {},
   "outputs": [
    {
     "name": "stdout",
     "output_type": "stream",
     "text": [
      "585\n",
      "Stop\n"
     ]
    },
    {
     "data": {
      "text/plain": [
       "'MSWPREDTIGPPPKSRLDKHITCLGPKCNGISRVVTTLDRGLYDGMSPDHHVVPSAAYRQTRIVYEQCCAVRRWNQQRTQRSYRSYVPSQRTLRGDISVSLIALIFTPSSPCIPQTQAAYRHRPRDEEGTPPWEDPKVGPPILLSCRETYRSYSVFIRSLAISGGGHYLVNMEECGEASRVRHLALDSCRQAGQ'"
      ]
     },
     "execution_count": 29,
     "metadata": {},
     "output_type": "execute_result"
    }
   ],
   "source": [
    "get_solution(\"./rosalind_splc.txt\")"
   ]
  },
  {
   "cell_type": "code",
   "execution_count": null,
   "metadata": {},
   "outputs": [],
   "source": []
  }
 ],
 "metadata": {
  "application/vnd.databricks.v1+notebook": {
   "dashboards": [],
   "environmentMetadata": {
    "base_environment": "",
    "client": "1"
   },
   "language": "python",
   "notebookMetadata": {
    "pythonIndentUnit": 4
   },
   "notebookName": "(Clone) test",
   "widgets": {}
  },
  "kernelspec": {
   "display_name": "rosalind-AUENTiOu-py3.12",
   "language": "python",
   "name": "python3"
  },
  "language_info": {
   "codemirror_mode": {
    "name": "ipython",
    "version": 3
   },
   "file_extension": ".py",
   "mimetype": "text/x-python",
   "name": "python",
   "nbconvert_exporter": "python",
   "pygments_lexer": "ipython3",
   "version": "3.12.5"
  }
 },
 "nbformat": 4,
 "nbformat_minor": 0
}
