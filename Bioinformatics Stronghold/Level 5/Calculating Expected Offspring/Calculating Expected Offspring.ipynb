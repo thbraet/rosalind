{
 "cells": [
  {
   "cell_type": "markdown",
   "metadata": {},
   "source": [
    "# The Need for Averages\n",
    "Averages arise everywhere. In sports, we want to project the average number of games that a team is expected to win; in gambling, we want to project the average losses incurred playing blackjack; in business, companies want to calculate their average expected sales for the next quarter.\n",
    "\n",
    "Molecular biology is not immune from the need for averages. Researchers need to predict the expected number of antibiotic-resistant pathogenic bacteria in a future outbreak, estimate the predicted number of locations in the genome that will match a given motif, and study the distribution of alleles throughout an evolving population. In this problem, we will begin discussing the third issue; first, we need to have a better understanding of what it means to average a random process.\n",
    "\n",
    "[Link to Rosalind](https://rosalind.info/problems/iev/)"
   ]
  },
  {
   "cell_type": "markdown",
   "metadata": {},
   "source": [
    "# Problem\n",
    "For a random variable $X$ taking integer values between 1 and $n$, the expected value of $X$ is $E(X)=\\sum_{k=1}^{n}k*Pr(X=k)$. The expected value offers us a way of taking the long-term average of a random variable over a large number of trials.\n",
    "As a motivating example, let $X$ be the number on a six-sided die. Over a large number of rolls, we should expect to obtain an average of 3.5 on the die (even though it's not possible to roll a 3.5). The formula for expected value confirms that $E(X)=\\sum_{k=1}^{6}k*Pr(X=k)=3.5$.\n",
    "More generally, a random variable for which every one of a number of equally spaced outcomes has the same probability is called a uniform random variable (in the die example, this \"equal spacing\" is equal to 1). We can generalize our die example to find that if $X$ is a uniform random variable with minimum possible value $a$ and maximum possible value $b$, then $E(X)=\\frac{a+b}{2}$. You may also wish to verify that for the dice example, if $Y$ is the random variable associated with the outcome of a second die roll, then $E(X+Y)=7$.\n",
    "\n",
    "<span style=\"color:rgba(70,165,70,255); font-weight:bold\">Given</span>: Six nonnegative integers, each of which does not exceed 20,000. The integers correspond to the number of couples in a population possessing each genotype pairing for a given factor. In order, the six given integers represent the number of couples having the following genotypes:\n",
    "- AA-AA\n",
    "- AA-Aa\n",
    "- AA-aa\n",
    "- Aa-Aa\n",
    "- Aa-aa\n",
    "- aa-aa\n",
    "\n",
    "<span style=\"color:rgba(70,165,70,255); font-weight:bold\">Return</span>: The expected number of offspring displaying the dominant phenotype in the next generation, under the assumption that every couple has exactly two offspring.\n",
    "\n"
   ]
  },
  {
   "cell_type": "markdown",
   "metadata": {},
   "source": [
    "# Read Example Input and Output"
   ]
  },
  {
   "cell_type": "code",
   "execution_count": 12,
   "metadata": {},
   "outputs": [],
   "source": [
    "%run ../../functions/read_files.ipynb"
   ]
  },
  {
   "cell_type": "code",
   "execution_count": 13,
   "metadata": {},
   "outputs": [
    {
     "name": "stdout",
     "output_type": "stream",
     "text": [
      "1 0 0 1 0 1\n",
      "3.5\n"
     ]
    }
   ],
   "source": [
    "input = read_text('sample_input.txt')\n",
    "print(input)\n",
    "\n",
    "output = read_text('sample_output.txt')\n",
    "print(output)"
   ]
  },
  {
   "cell_type": "markdown",
   "metadata": {},
   "source": [
    "# Problem solving logic"
   ]
  },
  {
   "cell_type": "code",
   "execution_count": 14,
   "metadata": {},
   "outputs": [
    {
     "data": {
      "text/plain": [
       "3.5"
      ]
     },
     "execution_count": 14,
     "metadata": {},
     "output_type": "execute_result"
    }
   ],
   "source": [
    "def expected_dominant_offspring(input):\n",
    "    couples_AA_AA = int(input.split(\" \")[0])\n",
    "    couples_AA_Aa = int(input.split(\" \")[1])\n",
    "    couples_AA_aa = int(input.split(\" \")[2])\n",
    "    couples_Aa_Aa = int(input.split(\" \")[3])\n",
    "    couples_Aa_aa = int(input.split(\" \")[4])\n",
    "    couples_aa_aa = int(input.split(\" \")[5])\n",
    "    \n",
    "    prob_dom_AA_AA = 1\n",
    "    prob_dom_AA_Aa = 1\n",
    "    prob_dom_AA_aa = 1\n",
    "    prob_dom_Aa_Aa = 0.75\n",
    "    prob_dom_Aa_aa = 0.5\n",
    "    prob_dom_aa_aa = 0\n",
    "    \n",
    "    nr_of_offspring = 2\n",
    "\n",
    "    expected_dominant = nr_of_offspring * (couples_AA_AA * prob_dom_AA_AA + couples_AA_Aa * prob_dom_AA_Aa + couples_AA_aa * prob_dom_AA_aa + couples_Aa_Aa * prob_dom_Aa_Aa + couples_Aa_aa * prob_dom_Aa_aa + couples_aa_aa * prob_dom_aa_aa)\n",
    " \n",
    "    return expected_dominant   \n",
    "\n",
    "expected_dominant_offspring(input)"
   ]
  },
  {
   "cell_type": "code",
   "execution_count": 15,
   "metadata": {},
   "outputs": [
    {
     "data": {
      "text/plain": [
       "True"
      ]
     },
     "execution_count": 15,
     "metadata": {},
     "output_type": "execute_result"
    }
   ],
   "source": [
    "expected_dominant_offspring(input) == float(output)"
   ]
  },
  {
   "cell_type": "markdown",
   "metadata": {},
   "source": [
    "# Run real input"
   ]
  },
  {
   "cell_type": "code",
   "execution_count": 16,
   "metadata": {},
   "outputs": [
    {
     "data": {
      "text/plain": [
       "159103.0"
      ]
     },
     "execution_count": 16,
     "metadata": {},
     "output_type": "execute_result"
    }
   ],
   "source": [
    "with open(\"./rosalind_iev.txt\", \"r\") as file:\n",
    "    real_input = file.read()\n",
    "    \n",
    "expected_dominant_offspring(real_input)\n",
    "\n"
   ]
  }
 ],
 "metadata": {
  "application/vnd.databricks.v1+notebook": {
   "dashboards": [],
   "environmentMetadata": {
    "base_environment": "",
    "client": "1"
   },
   "language": "python",
   "notebookMetadata": {
    "pythonIndentUnit": 4
   },
   "notebookName": "(Clone) test",
   "widgets": {}
  },
  "kernelspec": {
   "display_name": "rosalind-AUENTiOu-py3.12",
   "language": "python",
   "name": "python3"
  },
  "language_info": {
   "codemirror_mode": {
    "name": "ipython",
    "version": 3
   },
   "file_extension": ".py",
   "mimetype": "text/x-python",
   "name": "python",
   "nbconvert_exporter": "python",
   "pygments_lexer": "ipython3",
   "version": "3.12.5"
  }
 },
 "nbformat": 4,
 "nbformat_minor": 0
}
