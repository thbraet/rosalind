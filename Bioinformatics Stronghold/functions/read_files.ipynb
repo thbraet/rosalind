{
 "cells": [
  {
   "cell_type": "code",
   "execution_count": 0,
   "metadata": {
    "application/vnd.databricks.v1+cell": {
     "cellMetadata": {
      "byteLimit": 2048000,
      "rowLimit": 10000
     },
     "inputWidgets": {},
     "nuid": "a70f3cbf-1217-40b8-b25a-96ad2d402da4",
     "showTitle": false,
     "tableResultSettingsMap": {},
     "title": ""
    }
   },
   "outputs": [],
   "source": [
    "import pandas as pd\n"
   ]
  },
  {
   "cell_type": "code",
   "execution_count": 0,
   "metadata": {
    "application/vnd.databricks.v1+cell": {
     "cellMetadata": {
      "byteLimit": 2048000,
      "rowLimit": 10000
     },
     "inputWidgets": {},
     "nuid": "a5e40a00-29e7-454c-88bb-b75fefcbe01a",
     "showTitle": false,
     "tableResultSettingsMap": {},
     "title": ""
    }
   },
   "outputs": [],
   "source": [
    "def read_text(file_path):\n",
    "    with open(file_path, \"r\") as file:\n",
    "        return file.read().strip()\n",
    "    \n",
    "\n",
    "def write_text(file_path, text):\n",
    "    with open(file_path, \"w\") as file:\n",
    "        file.write(text)"
   ]
  },
  {
   "cell_type": "code",
   "execution_count": 0,
   "metadata": {
    "application/vnd.databricks.v1+cell": {
     "cellMetadata": {
      "byteLimit": 2048000,
      "rowLimit": 10000
     },
     "inputWidgets": {},
     "nuid": "cccffc0c-e7d5-41d7-ad59-c3827ea70848",
     "showTitle": false,
     "tableResultSettingsMap": {},
     "title": ""
    }
   },
   "outputs": [],
   "source": [
    "\n",
    "def read_fasta(file_path):\n",
    "    data = {}\n",
    "\n",
    "    with open(file_path, 'r') as file:\n",
    "        identifier = None\n",
    "        for line in file:\n",
    "            line = line.strip()  # Remove any trailing newline characters\n",
    "            if line.startswith('>'):\n",
    "                identifier = line[1:]  # Remove '>' and store the identifier\n",
    "                data[identifier] = \"\"  # Initialize the sequence\n",
    "            else:\n",
    "                data[identifier] += line  # Append the sequence for the identifier\n",
    "\n",
    "    return pd.DataFrame(list(data.items()), columns=['Identifier', 'Sequence'])\n",
    "\n"
   ]
  },
  {
   "cell_type": "code",
   "execution_count": 0,
   "metadata": {
    "application/vnd.databricks.v1+cell": {
     "cellMetadata": {
      "byteLimit": 2048000,
      "rowLimit": 10000
     },
     "inputWidgets": {},
     "nuid": "aa224053-ad6b-4e98-86f2-3d4b073f14a5",
     "showTitle": false,
     "tableResultSettingsMap": {},
     "title": ""
    }
   },
   "outputs": [],
   "source": [
    "def read_codon_dict():\n",
    "    codon_dict = {}\n",
    "\n",
    "    # Read the text file and process each line\n",
    "    with open(\"/home/thbraet/rosalind/Bioinformatics Stronghold/functions/codon.txt\", 'r') as file:\n",
    "    # with open(\"/Workspace/Users/pmm203@fluvius.be/rosalind/Bioinformatics Stronghold/functions/codon.txt\", 'r') as file:\n",
    "        for line in file:\n",
    "            # Split the line into codons and their corresponding amino acids\n",
    "            codons = line.split()\n",
    "            \n",
    "            # There should be four pairs (codon, amino acid) per line\n",
    "            for i in range(0, len(codons), 2):\n",
    "                codon = codons[i]\n",
    "                amino_acid = codons[i + 1]\n",
    "                \n",
    "                # Add the codon and its corresponding amino acid to the dictionary\n",
    "                codon_dict[codon] = amino_acid\n",
    "    return codon_dict\n",
    "\n",
    "codon_dict = read_codon_dict();"
   ]
  },
  {
   "cell_type": "code",
   "execution_count": 0,
   "metadata": {
    "application/vnd.databricks.v1+cell": {
     "cellMetadata": {
      "byteLimit": 2048000,
      "rowLimit": 10000
     },
     "inputWidgets": {},
     "nuid": "5bac869d-77cb-4f07-a802-0e817d5f40d3",
     "showTitle": false,
     "tableResultSettingsMap": {},
     "title": ""
    }
   },
   "outputs": [],
   "source": [
    "def read_monoisotopic_mass():\n",
    "    protein_mass = {}\n",
    "\n",
    "    # Read the text file and process each line\n",
    "    with open(\"/home/thbraet/rosalind/Bioinformatics Stronghold/functions/monoisotopic_mass.txt\", 'r') as file:\n",
    "    # with open(\"/Workspace/Users/pmm203@fluvius.be/rosalind/Bioinformatics Stronghold/functions/monoisotopic_mass.txt\", 'r') as file:\n",
    "\n",
    "        for line in file:\n",
    "            # Split the line into amino acids and their corresponding monoisotopic masses\n",
    "            amino_acid, mass = line.split()\n",
    "            \n",
    "            # Add the amino acid and its corresponding mass to the dictionary\n",
    "            protein_mass[amino_acid] = float(mass)\n",
    "    return protein_mass\n",
    "\n",
    "monoisotopic_mass_dict = read_monoisotopic_mass();\n"
   ]
  },
  {
   "cell_type": "code",
   "execution_count": 0,
   "metadata": {
    "application/vnd.databricks.v1+cell": {
     "cellMetadata": {
      "byteLimit": 2048000,
      "rowLimit": 10000
     },
     "inputWidgets": {},
     "nuid": "ed8955e7-2a74-4717-b839-c58cb85ede0f",
     "showTitle": false,
     "tableResultSettingsMap": {},
     "title": ""
    }
   },
   "outputs": [],
   "source": []
  }
 ],
 "metadata": {
  "application/vnd.databricks.v1+notebook": {
   "computePreferences": null,
   "dashboards": [],
   "environmentMetadata": null,
   "language": "python",
   "notebookMetadata": {
    "pythonIndentUnit": 2
   },
   "notebookName": "read_files",
   "widgets": {}
  },
  "kernelspec": {
   "display_name": "rosalind-AUENTiOu-py3.12",
   "language": "python",
   "name": "python3"
  },
  "language_info": {
   "name": "python",
   "version": "3.12.5"
  }
 },
 "nbformat": 4,
 "nbformat_minor": 0
}
