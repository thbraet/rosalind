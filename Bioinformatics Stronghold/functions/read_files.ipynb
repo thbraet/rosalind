{
 "cells": [
  {
   "cell_type": "code",
   "execution_count": 4,
   "metadata": {},
   "outputs": [],
   "source": [
    "import pandas as pd\n"
   ]
  },
  {
   "cell_type": "code",
   "execution_count": 7,
   "metadata": {},
   "outputs": [],
   "source": [
    "def read_text(file_path):\n",
    "    with open(file_path, \"r\") as file:\n",
    "        return file.read().strip()\n",
    "    \n",
    "\n",
    "def write_text(file_path, text):\n",
    "    with open(file_path, \"w\") as file:\n",
    "        file.write(text)"
   ]
  },
  {
   "cell_type": "code",
   "execution_count": 6,
   "metadata": {},
   "outputs": [],
   "source": [
    "\n",
    "def read_fasta(file_path):\n",
    "    data = {}\n",
    "\n",
    "    with open(file_path, 'r') as file:\n",
    "        identifier = None\n",
    "        for line in file:\n",
    "            line = line.strip()  # Remove any trailing newline characters\n",
    "            if line.startswith('>'):\n",
    "                identifier = line[1:]  # Remove '>' and store the identifier\n",
    "                data[identifier] = \"\"  # Initialize the sequence\n",
    "            else:\n",
    "                data[identifier] += line  # Append the sequence for the identifier\n",
    "\n",
    "    return pd.DataFrame(list(data.items()), columns=['Identifier', 'Sequence'])\n",
    "\n"
   ]
  }
 ],
 "metadata": {
  "kernelspec": {
   "display_name": "rosalind-AUENTiOu-py3.12",
   "language": "python",
   "name": "python3"
  },
  "language_info": {
   "codemirror_mode": {
    "name": "ipython",
    "version": 3
   },
   "file_extension": ".py",
   "mimetype": "text/x-python",
   "name": "python",
   "nbconvert_exporter": "python",
   "pygments_lexer": "ipython3",
   "version": "3.12.5"
  }
 },
 "nbformat": 4,
 "nbformat_minor": 2
}
