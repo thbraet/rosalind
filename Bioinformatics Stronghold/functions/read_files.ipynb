{
 "cells": [
  {
   "cell_type": "code",
   "execution_count": 4,
   "metadata": {},
   "outputs": [],
   "source": [
    "import pandas as pd\n"
   ]
  },
  {
   "cell_type": "code",
   "execution_count": 7,
   "metadata": {},
   "outputs": [],
   "source": [
    "def read_text(file_path):\n",
    "    with open(file_path, \"r\") as file:\n",
    "        return file.read().strip()\n",
    "    \n",
    "\n",
    "def write_text(file_path, text):\n",
    "    with open(file_path, \"w\") as file:\n",
    "        file.write(text)"
   ]
  },
  {
   "cell_type": "code",
   "execution_count": 6,
   "metadata": {},
   "outputs": [],
   "source": [
    "\n",
    "def read_fasta(file_path):\n",
    "    data = {}\n",
    "\n",
    "    with open(file_path, 'r') as file:\n",
    "        identifier = None\n",
    "        for line in file:\n",
    "            line = line.strip()  # Remove any trailing newline characters\n",
    "            if line.startswith('>'):\n",
    "                identifier = line[1:]  # Remove '>' and store the identifier\n",
    "                data[identifier] = \"\"  # Initialize the sequence\n",
    "            else:\n",
    "                data[identifier] += line  # Append the sequence for the identifier\n",
    "\n",
    "    return pd.DataFrame(list(data.items()), columns=['Identifier', 'Sequence'])\n",
    "\n"
   ]
  },
  {
   "cell_type": "code",
   "execution_count": 14,
   "metadata": {},
   "outputs": [],
   "source": [
    "def read_codon_dict():\n",
    "    codon_dict = {}\n",
    "\n",
    "    # Read the text file and process each line\n",
    "    with open(\"/home/thbraet/rosalind/Bioinformatics Stronghold/functions/codon.txt\", 'r') as file:\n",
    "        for line in file:\n",
    "            # Split the line into codons and their corresponding amino acids\n",
    "            codons = line.split()\n",
    "            \n",
    "            # There should be four pairs (codon, amino acid) per line\n",
    "            for i in range(0, len(codons), 2):\n",
    "                codon = codons[i]\n",
    "                amino_acid = codons[i + 1]\n",
    "                \n",
    "                # Add the codon and its corresponding amino acid to the dictionary\n",
    "                codon_dict[codon] = amino_acid\n",
    "    return codon_dict\n",
    "\n",
    "codon_dict = read_codon_dict();\n"
   ]
  },
  {
   "cell_type": "code",
   "execution_count": 19,
   "metadata": {},
   "outputs": [],
   "source": [
    "def read_monoisotopic_mass():\n",
    "    protein_mass = {}\n",
    "\n",
    "    # Read the text file and process each line\n",
    "    with open(\"/home/thbraet/rosalind/Bioinformatics Stronghold/functions/monoisotopic_mass.txt\", 'r') as file:\n",
    "        for line in file:\n",
    "            # Split the line into amino acids and their corresponding monoisotopic masses\n",
    "            amino_acid, mass = line.split()\n",
    "            \n",
    "            # Add the amino acid and its corresponding mass to the dictionary\n",
    "            protein_mass[amino_acid] = float(mass)\n",
    "    return protein_mass\n",
    "\n",
    "monoisotopic_mass_dict = read_monoisotopic_mass();\n"
   ]
  },
  {
   "cell_type": "code",
   "execution_count": 20,
   "metadata": {},
   "outputs": [
    {
     "data": {
      "text/plain": [
       "{'A': 71.03711,\n",
       " 'C': 103.00919,\n",
       " 'D': 115.02694,\n",
       " 'E': 129.04259,\n",
       " 'F': 147.06841,\n",
       " 'G': 57.02146,\n",
       " 'H': 137.05891,\n",
       " 'I': 113.08406,\n",
       " 'K': 128.09496,\n",
       " 'L': 113.08406,\n",
       " 'M': 131.04049,\n",
       " 'N': 114.04293,\n",
       " 'P': 97.05276,\n",
       " 'Q': 128.05858,\n",
       " 'R': 156.10111,\n",
       " 'S': 87.03203,\n",
       " 'T': 101.04768,\n",
       " 'V': 99.06841,\n",
       " 'W': 186.07931,\n",
       " 'Y': 163.06333}"
      ]
     },
     "execution_count": 20,
     "metadata": {},
     "output_type": "execute_result"
    }
   ],
   "source": [
    "monoisotopic_mass_dict"
   ]
  },
  {
   "cell_type": "code",
   "execution_count": null,
   "metadata": {},
   "outputs": [],
   "source": []
  }
 ],
 "metadata": {
  "kernelspec": {
   "display_name": "rosalind-AUENTiOu-py3.12",
   "language": "python",
   "name": "python3"
  },
  "language_info": {
   "codemirror_mode": {
    "name": "ipython",
    "version": 3
   },
   "file_extension": ".py",
   "mimetype": "text/x-python",
   "name": "python",
   "nbconvert_exporter": "python",
   "pygments_lexer": "ipython3",
   "version": "3.12.5"
  }
 },
 "nbformat": 4,
 "nbformat_minor": 2
}
