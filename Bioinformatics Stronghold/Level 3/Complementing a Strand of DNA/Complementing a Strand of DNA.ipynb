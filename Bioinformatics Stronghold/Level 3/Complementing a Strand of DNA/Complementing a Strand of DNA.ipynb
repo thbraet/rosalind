{
 "cells": [
  {
   "cell_type": "markdown",
   "metadata": {},
   "source": [
    "# The Secondary and Tertiary Structures of DNA\n",
    "In [“Counting DNA Nucleotides”](../../Level%201/Counting%20DNA%20Nucleotides/Counting%20DNA%20Nucleotides.html), we introduced nucleic acids, and we saw that the primary structure of a nucleic acid is determined by the ordering of its nucleobases along the sugar-phosphate backbone that constitutes the bonds of the nucleic acid polymer. Yet primary structure tells us nothing about the larger, 3-dimensional shape of the molecule, which is vital for a complete understanding of nucleic acids.\n",
    "\n",
    "The search for a complete chemical structure of nucleic acids was central to molecular biology research in the mid-20th Century, culminating in 1953 with a publication in Nature of fewer than 800 words by James Watson and Francis Crick. Consolidating a high resolution X-ray image created by Rosalind Franklin and Raymond Gosling with a number of established chemical results, Watson and Crick proposed the following structure for DNA:\n",
    "\n",
    "1. The DNA molecule is made up of two strands, running in opposite directions.\n",
    "2. Each base bonds to a base in the opposite strand. Adenine always bonds with thymine, and cytosine always bonds with guanine; the complement of a base is the base to which it always bonds; see Figure 1.\n",
    "3. The two strands are twisted together into a long spiral staircase structure called a double helix; see Figure 2.\n",
    "Because they dictate how bases from different strands interact with each other, (1) and (2) above compose the secondary structure of DNA. (3) describes the 3-dimensional shape of the DNA molecule, or its tertiary structure.\n",
    "\n",
    "In light of Watson and Crick's model, the bonding of two complementary bases is called a base pair (bp). Therefore, the length of a DNA molecule will commonly be given in bp instead of nt. By complementarity, once we know the order of bases on one strand, we can immediately deduce the sequence of bases in the complementary strand. These bases will run in the opposite order to match the fact that the two strands of DNA run in opposite directions.\n",
    "\n",
    "[Link to Rosalind](https://rosalind.info/problems/revc/)"
   ]
  },
  {
   "cell_type": "markdown",
   "metadata": {},
   "source": [
    "# Problem\n",
    "In DNA strings, symbols 'A' and 'T' are complements of each other, as are 'C' and 'G'.\n",
    "\n",
    "The reverse complement of a DNA string s\n",
    " is the string sc\n",
    " formed by reversing the symbols of s\n",
    ", then taking the complement of each symbol (e.g., the reverse complement of \"GTCA\" is \"TGAC\").\n",
    "\n",
    "<span style=\"color:rgba(70,165,70,255); font-weight:bold\">Given</span>: A DNA string $s$ of length at most 1000 bp.\n",
    "\n",
    "<span style=\"color:rgba(70,165,70,255); font-weight:bold\">Return</span>: The reverse complement $sc$ of $s$."
   ]
  },
  {
   "cell_type": "markdown",
   "metadata": {},
   "source": [
    "# Read Example Input and Output Files"
   ]
  },
  {
   "cell_type": "code",
   "execution_count": 11,
   "metadata": {},
   "outputs": [],
   "source": [
    "%run ../../functions/read_files.ipynb"
   ]
  },
  {
   "cell_type": "code",
   "execution_count": 12,
   "metadata": {},
   "outputs": [
    {
     "name": "stdout",
     "output_type": "stream",
     "text": [
      "AAAACCCGGT\n",
      "ACCGGGTTTT\n"
     ]
    }
   ],
   "source": [
    "input = read_text('sample_input.txt')\n",
    "print(input)\n",
    "\n",
    "output = read_text('sample_output.txt')\n",
    "print(output)"
   ]
  },
  {
   "cell_type": "markdown",
   "metadata": {},
   "source": [
    "# Problem Solving Logic"
   ]
  },
  {
   "cell_type": "code",
   "execution_count": 13,
   "metadata": {},
   "outputs": [
    {
     "data": {
      "text/plain": [
       "'ACCGGGTTTT'"
      ]
     },
     "execution_count": 13,
     "metadata": {},
     "output_type": "execute_result"
    }
   ],
   "source": [
    "def complement_strand_of_dna(dna_sequence):\n",
    "    # Define the translation table for nucleotide replacement\n",
    "    translation_table = str.maketrans('ATCG', 'TAGC')\n",
    "    # Reverse the DNA sequence and translate it using the table\n",
    "    return dna_sequence[::-1].translate(translation_table)\n",
    "\n",
    "complement_strand_of_dna(input)\n"
   ]
  },
  {
   "cell_type": "code",
   "execution_count": 14,
   "metadata": {
    "application/vnd.databricks.v1+cell": {
     "cellMetadata": {},
     "inputWidgets": {},
     "nuid": "8c27520c-dc63-4c84-99fc-a948199f8778",
     "showTitle": false,
     "title": ""
    }
   },
   "outputs": [
    {
     "data": {
      "text/plain": [
       "True"
      ]
     },
     "execution_count": 14,
     "metadata": {},
     "output_type": "execute_result"
    }
   ],
   "source": [
    "complement_strand_of_dna(input) == output"
   ]
  },
  {
   "cell_type": "markdown",
   "metadata": {},
   "source": [
    "# Run Real Input"
   ]
  },
  {
   "cell_type": "code",
   "execution_count": 15,
   "metadata": {},
   "outputs": [
    {
     "data": {
      "text/plain": [
       "'ACCATTGTTTAACGCATTGAAACTATGGTCTCTTCCCAAACGAAGTGCGGGTGGATCGCATGGGAATGAAAATAACAGGTAAAATGTCCCCGATGTATAAGATAGAGCGGACCCCCGCGGTTTCCCGTCCTCCTCTCATGACCTCTGTTTATACTTTAAAAACACACGAGAGGTTTTTAGATCAATCTGCGGTGCATCTCATAGCTGATTTCGCCAGATCCGAATTTGTAACTCAACAGATACTAGTTCATTCAGTGTAAAAACGGCTCTTACCAAAACGCATTGATACTATTTCTTGTACAAGGGCAAGTTGTGGAATATGATTTATGCTTATGCACAATATCTCTACGGTCCGTACTACCTCTTGGCTGTTTTGGGTATGTCTACATGTTGTTCGTTGTGTGCCAGGGACGATACTGATGAGAAGCGCCAAGTAAAGAAAGCAGTGAATATCTGCGAATTCCTGGTGCCGGGTCACTCGAGCGACCCGGGAGCACCCCTTCGGGCAAGAGAACTTTCGGGCTTAAGCAGAGTCTGCGTAACGGAGACCACCACCGTTAGGAGTCGTATATGGCTTCAATCCAAGTGACTGTGGTTAGATATTGTGGCAAACCGCCTGTTGCTCCAGCTCGACAGACCAAGGTTAACCAGGCTGTAAAATGTGCGTACTTATCTTCTTTTAAGAGCCAGACCCTATTGGGGGGGAGGGTTGCATCAGTAAACAGTGCTCCATCTTAACACACAATAAGAATGTCGATTCCACAATGCTGCCCAAATTGACACGTCTACGCACGGGATCAGCGGGCCTGCCCCCCGCTTCAAGTCGCGCTCCGCACGCCAGAACGGT'"
      ]
     },
     "execution_count": 15,
     "metadata": {},
     "output_type": "execute_result"
    }
   ],
   "source": [
    "real_input = read_text('rosalind_revc.txt')\n",
    "\n",
    "complement_strand_of_dna(real_input)\n"
   ]
  }
 ],
 "metadata": {
  "application/vnd.databricks.v1+notebook": {
   "dashboards": [],
   "environmentMetadata": {
    "base_environment": "",
    "client": "1"
   },
   "language": "python",
   "notebookMetadata": {
    "pythonIndentUnit": 4
   },
   "notebookName": "(Clone) test",
   "widgets": {}
  },
  "kernelspec": {
   "display_name": "rosalind-AUENTiOu-py3.12",
   "language": "python",
   "name": "python3"
  },
  "language_info": {
   "codemirror_mode": {
    "name": "ipython",
    "version": 3
   },
   "file_extension": ".py",
   "mimetype": "text/x-python",
   "name": "python",
   "nbconvert_exporter": "python",
   "pygments_lexer": "ipython3",
   "version": "3.12.5"
  }
 },
 "nbformat": 4,
 "nbformat_minor": 0
}
