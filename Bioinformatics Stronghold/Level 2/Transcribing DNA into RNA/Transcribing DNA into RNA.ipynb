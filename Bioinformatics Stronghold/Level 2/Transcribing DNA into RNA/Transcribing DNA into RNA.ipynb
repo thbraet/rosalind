{
 "cells": [
  {
   "cell_type": "markdown",
   "metadata": {},
   "source": [
    "# The Second Nucleic Acid\n",
    "\n",
    "In [“Counting DNA Nucleotides”](../../Level%201/Counting%20DNA%20Nucleotides/Counting%20DNA%20Nucleotides.html), we described the primary structure of a nucleic acid as a polymer of nucleotide units, and we mentioned that the omnipresent nucleic acid DNA is composed of a varied sequence of four bases.\n",
    "\n",
    "Yet a second nucleic acid exists alongside DNA in the chromatin; this molecule, which possesses a different sugar called ribose, came to be known as ribose nucleic acid, or RNA. RNA differs further from DNA in that it contains a base called uracil in place of thymine; structural differences between DNA and RNA are shown in Figure 1. Biologists initially believed that RNA was only contained in plant cells, whereas DNA was restricted to animal cells. However, this hypothesis dissipated as improved chemical methods discovered both nucleic acids in the cells of all life forms on Earth.\n",
    "\n",
    "The primary structure of DNA and RNA is so similar because the former serves as a blueprint for the creation of a special kind of RNA molecule called messenger RNA, or mRNA. mRNA is created during RNA transcription, during which a strand of DNA is used as a template for constructing a strand of RNA by copying nucleotides one at a time, where uracil is used in place of thymine.\n",
    "\n",
    "In eukaryotes, DNA remains in the nucleus, while RNA can enter the far reaches of the cell to carry out DNA's instructions. In future problems, we will examine the process and ramifications of RNA transcription in more detail.\n",
    "\n",
    "[Link to Rosalind](https://rosalind.info/problems/rna/)"
   ]
  },
  {
   "cell_type": "markdown",
   "metadata": {},
   "source": [
    "# Problem\n",
    "\n",
    "An RNA string is a string formed from the alphabet containing 'A', 'C', 'G', and 'U'.\n",
    "\n",
    "Given a DNA string *t* corresponding to a coding strand, its transcribed RNA string *u* is formed by replacing all occurrences of 'T' in *t* with 'U' in *u*.\n",
    "\n",
    "<span style=\"color:rgba(70,165,70,255); font-weight:bold\">Given</span>: A DNA string *t* having length at most 1000 nt.\n",
    "\n",
    "<span style=\"color:rgba(70,165,70,255); font-weight:bold\">Return</span>: The transcribed RNA string of *t*\n",
    "\n"
   ]
  },
  {
   "cell_type": "markdown",
   "metadata": {},
   "source": [
    "# Read Example Input and Output Files"
   ]
  },
  {
   "cell_type": "code",
   "execution_count": 7,
   "metadata": {},
   "outputs": [],
   "source": [
    "%run ../../functions/read_files.ipynb"
   ]
  },
  {
   "cell_type": "code",
   "execution_count": 1,
   "metadata": {},
   "outputs": [
    {
     "name": "stdout",
     "output_type": "stream",
     "text": [
      "Test workflow\n"
     ]
    },
    {
     "ename": "NameError",
     "evalue": "name 'tgest' is not defined",
     "output_type": "error",
     "traceback": [
      "\u001b[0;31m---------------------------------------------------------------------------\u001b[0m",
      "\u001b[0;31mNameError\u001b[0m                                 Traceback (most recent call last)",
      "Cell \u001b[0;32mIn[1], line 3\u001b[0m\n\u001b[1;32m      1\u001b[0m \u001b[38;5;28mprint\u001b[39m(\u001b[38;5;124m\"\u001b[39m\u001b[38;5;124mTest workflow\u001b[39m\u001b[38;5;124m\"\u001b[39m)\n\u001b[0;32m----> 3\u001b[0m \u001b[43mtgest\u001b[49m\n",
      "\u001b[0;31mNameError\u001b[0m: name 'tgest' is not defined"
     ]
    }
   ],
   "source": [
    "print(\"Test workflow 22/12\")\n",
    "\n",
    "tgest"
   ]
  },
  {
   "cell_type": "code",
   "execution_count": 8,
   "metadata": {
    "application/vnd.databricks.v1+cell": {
     "cellMetadata": {},
     "inputWidgets": {},
     "nuid": "f5fe6839-20e0-489b-8c0c-ff91a9e25fe0",
     "showTitle": false,
     "title": ""
    }
   },
   "outputs": [
    {
     "name": "stdout",
     "output_type": "stream",
     "text": [
      "GATGGAACTTGACTACGTAAATT\n",
      "GAUGGAACUUGACUACGUAAAUU\n"
     ]
    }
   ],
   "source": [
    "input = read_text('sample_input.txt')\n",
    "print(input)\n",
    "\n",
    "output = read_text('sample_output.txt')\n",
    "print(output)"
   ]
  },
  {
   "cell_type": "markdown",
   "metadata": {},
   "source": [
    "# Problem solving logic"
   ]
  },
  {
   "cell_type": "code",
   "execution_count": 9,
   "metadata": {},
   "outputs": [
    {
     "data": {
      "text/plain": [
       "'GAUGGAACUUGACUACGUAAAUU'"
      ]
     },
     "execution_count": 9,
     "metadata": {},
     "output_type": "execute_result"
    }
   ],
   "source": [
    "def transcribe_dna_to_rna(dna_sequence):\n",
    "    return dna_sequence.replace(\"T\", \"U\")\n",
    "\n",
    "transcribe_dna_to_rna(input)"
   ]
  },
  {
   "cell_type": "code",
   "execution_count": 10,
   "metadata": {},
   "outputs": [
    {
     "data": {
      "text/plain": [
       "True"
      ]
     },
     "execution_count": 10,
     "metadata": {},
     "output_type": "execute_result"
    }
   ],
   "source": [
    "transcribe_dna_to_rna(input) == output"
   ]
  },
  {
   "cell_type": "markdown",
   "metadata": {},
   "source": [
    "# Run real input"
   ]
  },
  {
   "cell_type": "code",
   "execution_count": 11,
   "metadata": {},
   "outputs": [
    {
     "data": {
      "text/plain": [
       "'UAAGUUUGUGGCGAUAAUGUGGCAGAUAUAACCGUGGCUACGAUUGGUAGCUCAGUGAAUUCGUCACUAUCCAUAAUACCCAAAGGUUCUUAUGAGAUACAUAAGUGCCAAUCCUCCAGAAUCAACUUACAUUUUGGAUGUUUAGAACUUACGCAGCGAGGGUGUCUCCACCGCCGCGAAGAACACGUGAUUCCGUGCCCCUUCGCGAAACGCCCAAGCUGCAGCUGGACCCGAAGCCCGCAAGGUCUAUGAAAACAGCAACCUUUUCCUGUCGGAUAUGCAUAGUCGGGACCAAGCGCUUAUGGGAGGGCGAACAUCACCGGGUCUCGUUCUAACGAGAGUCCGCGAGCGCUCGCUGAUAUCUACAUCACUUCUAAUCAGUAGGCCAAUAAGCGGGGAAGAGAUGUCAUCCAUCCUGUCCCUAGACCGCGUGCAGUCGCUGCUGUAGAGUAGUCGCCGUGCGAUUUGAAAGCAGCGCACUGAACGUUAUAUGGGCCUCUCAACGGAGGCAACUGGAGUUGGCUCCAAUGCGGUUCUCGAGCGCCUCUAGGUUUCUCAGAUCCAAAGCGUAGGUAUUCUGAGAUCCUUGUCAUCAUUGUGCGACCGUCAGUAGACAUUUCGUCUGCAACAGUGGAGACCGAACUAUCAGUGUGCAGGGGACGUUACACAGCUGGCUGUGCUAGUUCUUCCCUAAAGACACUUGCUCAGCGCCCACGACGCCGUGCGAGCGUGUAACAUACGAUGAAUCAUCCGUUGUCAUCGCGCUAACACUGCCAGGGUCCGAGAGGGCCGACGUCGUAAUAAUGUAGCUAUACGGUCUAAAUGGUCAUGGUUCACGAAUAGAAAGAGUGUCUGGUGUACUUGAUCACGCUCGCUAAAAAACACUACGAGUGAAAGUCGGCAUGAAGUCAUGGUCCAUAACUGUGGUUCCAAAAAUCCGCCCCUGUACACACAUAUCUGGAGGGGUUGUG'"
      ]
     },
     "execution_count": 11,
     "metadata": {},
     "output_type": "execute_result"
    }
   ],
   "source": [
    "dna = read_text('rosalind_rna.txt')\n",
    "    \n",
    "transcribe_dna_to_rna(dna)\n",
    "\n"
   ]
  }
 ],
 "metadata": {
  "application/vnd.databricks.v1+notebook": {
   "dashboards": [],
   "environmentMetadata": {
    "base_environment": "",
    "client": "1"
   },
   "language": "python",
   "notebookMetadata": {
    "pythonIndentUnit": 4
   },
   "notebookName": "(Clone) test",
   "widgets": {}
  },
  "kernelspec": {
   "display_name": ".venv",
   "language": "python",
   "name": "python3"
  },
  "language_info": {
   "codemirror_mode": {
    "name": "ipython",
    "version": 3
   },
   "file_extension": ".py",
   "mimetype": "text/x-python",
   "name": "python",
   "nbconvert_exporter": "python",
   "pygments_lexer": "ipython3",
   "version": "3.13.1"
  }
 },
 "nbformat": 4,
 "nbformat_minor": 0
}
