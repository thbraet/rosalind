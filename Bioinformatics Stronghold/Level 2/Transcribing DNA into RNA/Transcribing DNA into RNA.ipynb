{
 "cells": [
  {
   "cell_type": "markdown",
   "metadata": {},
   "source": [
    "Problem\n",
    "An RNA string is a string formed from the alphabet containing 'A', 'C', 'G', and 'U'.\n",
    "\n",
    "Given a DNA string t\n",
    " corresponding to a coding strand, its transcribed RNA string u\n",
    " is formed by replacing all occurrences of 'T' in t\n",
    " with 'U' in u\n",
    ".\n",
    "\n",
    "Given: A DNA string t\n",
    " having length at most 1000 nt.\n",
    "\n",
    "Return: The transcribed RNA string of t\n",
    "."
   ]
  },
  {
   "cell_type": "code",
   "execution_count": 1,
   "metadata": {},
   "outputs": [],
   "source": [
    "with open(\"./sample_input.txt\", \"r\") as file:\n",
    "    input = file.read()\n",
    "\n",
    "with open(\"./sample_output.txt\", \"r\") as file:\n",
    "    output = file.read()"
   ]
  },
  {
   "cell_type": "code",
   "execution_count": 2,
   "metadata": {},
   "outputs": [
    {
     "data": {
      "text/plain": [
       "'GAUGGAACUUGACUACGUAAAUU'"
      ]
     },
     "execution_count": 2,
     "metadata": {},
     "output_type": "execute_result"
    }
   ],
   "source": [
    "def transcribe_dna_to_rna(dna_sequence):\n",
    "    return dna_sequence.replace(\"T\", \"U\")\n",
    "\n",
    "transcribe_dna_to_rna(input)"
   ]
  },
  {
   "cell_type": "code",
   "execution_count": 3,
   "metadata": {
    "application/vnd.databricks.v1+cell": {
     "cellMetadata": {},
     "inputWidgets": {},
     "nuid": "8c27520c-dc63-4c84-99fc-a948199f8778",
     "showTitle": false,
     "title": ""
    }
   },
   "outputs": [],
   "source": [
    "\n",
    "def test_transcribe_dna_to_rna():\n",
    "    assert transcribe_dna_to_rna(input) == output, \"Test failed: DNA to RNA transcription error\"\n",
    "\n",
    "test_transcribe_dna_to_rna()"
   ]
  },
  {
   "cell_type": "code",
   "execution_count": 4,
   "metadata": {},
   "outputs": [
    {
     "data": {
      "text/plain": [
       "'UAAGUUUGUGGCGAUAAUGUGGCAGAUAUAACCGUGGCUACGAUUGGUAGCUCAGUGAAUUCGUCACUAUCCAUAAUACCCAAAGGUUCUUAUGAGAUACAUAAGUGCCAAUCCUCCAGAAUCAACUUACAUUUUGGAUGUUUAGAACUUACGCAGCGAGGGUGUCUCCACCGCCGCGAAGAACACGUGAUUCCGUGCCCCUUCGCGAAACGCCCAAGCUGCAGCUGGACCCGAAGCCCGCAAGGUCUAUGAAAACAGCAACCUUUUCCUGUCGGAUAUGCAUAGUCGGGACCAAGCGCUUAUGGGAGGGCGAACAUCACCGGGUCUCGUUCUAACGAGAGUCCGCGAGCGCUCGCUGAUAUCUACAUCACUUCUAAUCAGUAGGCCAAUAAGCGGGGAAGAGAUGUCAUCCAUCCUGUCCCUAGACCGCGUGCAGUCGCUGCUGUAGAGUAGUCGCCGUGCGAUUUGAAAGCAGCGCACUGAACGUUAUAUGGGCCUCUCAACGGAGGCAACUGGAGUUGGCUCCAAUGCGGUUCUCGAGCGCCUCUAGGUUUCUCAGAUCCAAAGCGUAGGUAUUCUGAGAUCCUUGUCAUCAUUGUGCGACCGUCAGUAGACAUUUCGUCUGCAACAGUGGAGACCGAACUAUCAGUGUGCAGGGGACGUUACACAGCUGGCUGUGCUAGUUCUUCCCUAAAGACACUUGCUCAGCGCCCACGACGCCGUGCGAGCGUGUAACAUACGAUGAAUCAUCCGUUGUCAUCGCGCUAACACUGCCAGGGUCCGAGAGGGCCGACGUCGUAAUAAUGUAGCUAUACGGUCUAAAUGGUCAUGGUUCACGAAUAGAAAGAGUGUCUGGUGUACUUGAUCACGCUCGCUAAAAAACACUACGAGUGAAAGUCGGCAUGAAGUCAUGGUCCAUAACUGUGGUUCCAAAAAUCCGCCCCUGUACACACAUAUCUGGAGGGGUUGUG\\n'"
      ]
     },
     "execution_count": 4,
     "metadata": {},
     "output_type": "execute_result"
    }
   ],
   "source": [
    "with open(\"./rosalind_rna.txt\", \"r\") as file:\n",
    "    real_input = file.read()\n",
    "\n",
    "transcribe_dna_to_rna(real_input)"
   ]
  }
 ],
 "metadata": {
  "application/vnd.databricks.v1+notebook": {
   "dashboards": [],
   "environmentMetadata": {
    "base_environment": "",
    "client": "1"
   },
   "language": "python",
   "notebookMetadata": {
    "pythonIndentUnit": 4
   },
   "notebookName": "(Clone) test",
   "widgets": {}
  },
  "kernelspec": {
   "display_name": "rosalind-AUENTiOu-py3.12",
   "language": "python",
   "name": "python3"
  },
  "language_info": {
   "codemirror_mode": {
    "name": "ipython",
    "version": 3
   },
   "file_extension": ".py",
   "mimetype": "text/x-python",
   "name": "python",
   "nbconvert_exporter": "python",
   "pygments_lexer": "ipython3",
   "version": "3.12.5"
  }
 },
 "nbformat": 4,
 "nbformat_minor": 0
}
