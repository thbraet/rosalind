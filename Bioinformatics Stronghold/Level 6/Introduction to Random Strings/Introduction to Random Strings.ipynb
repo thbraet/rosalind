{
 "cells": [
  {
   "cell_type": "markdown",
   "metadata": {},
   "source": [
    "# INSERT TITEL"
   ]
  },
  {
   "cell_type": "markdown",
   "metadata": {},
   "source": [
    "# Problem\n",
    "\n",
    "Lorem Ipsum\n",
    "\n",
    "<span style=\"color:rgba(70,165,70,255); font-weight:bold\">Given</span>: ...\n",
    "\n",
    "<span style=\"color:rgba(70,165,70,255); font-weight:bold\">Return</span>: ...\n",
    "\n"
   ]
  },
  {
   "cell_type": "markdown",
   "metadata": {},
   "source": [
    "# Read Files"
   ]
  },
  {
   "cell_type": "code",
   "execution_count": 1,
   "metadata": {},
   "outputs": [],
   "source": [
    "%run ../../functions/read_files.ipynb"
   ]
  },
  {
   "cell_type": "code",
   "execution_count": 2,
   "metadata": {
    "application/vnd.databricks.v1+cell": {
     "cellMetadata": {},
     "inputWidgets": {},
     "nuid": "f5fe6839-20e0-489b-8c0c-ff91a9e25fe0",
     "showTitle": false,
     "title": ""
    }
   },
   "outputs": [
    {
     "name": "stdout",
     "output_type": "stream",
     "text": [
      "ACGATACAA\n",
      "0.129 0.287 0.423 0.476 0.641 0.742 0.783\n",
      "-5.737 -5.217 -5.263 -5.360 -5.958 -6.628 -7.009\n"
     ]
    }
   ],
   "source": [
    "input = read_text('sample_input.txt')\n",
    "print(input)\n",
    "\n",
    "output = read_text('sample_output.txt')\n",
    "print(output)"
   ]
  },
  {
   "cell_type": "markdown",
   "metadata": {},
   "source": [
    "# Solution"
   ]
  },
  {
   "cell_type": "code",
   "execution_count": 16,
   "metadata": {},
   "outputs": [
    {
     "name": "stdout",
     "output_type": "stream",
     "text": [
      "-5.737 -5.217 -5.263 -5.360 -5.958 -6.628 -7.009\n"
     ]
    }
   ],
   "source": [
    "def get_log_probability(gc_content, dna):\n",
    "    prob_log = 0\n",
    "    frequency_map = {\n",
    "        'A': (1-gc_content)/2,\n",
    "        'C': gc_content/2,\n",
    "        'T': (1-gc_content)/2,\n",
    "        'G': gc_content/2\n",
    "        }\n",
    "    \n",
    "    for char in dna:\n",
    "        prob_log += np.log10(frequency_map[char])\n",
    "        \n",
    "    return prob_log\n",
    "\n",
    "# input_dna = input.split('\\n')[0]\n",
    "# gc_content = float(input.split('\\n')[1].split(' ')[0])\n",
    "\n",
    "def get_all_log_probability(input):\n",
    "    input_dna = input.split('\\n')[0]\n",
    "    gc_contents = [float(num) for num in input.split('\\n')[1].split()]\n",
    "    \n",
    "    output_string = ''\t\n",
    "    \n",
    "    for gc_content in gc_contents:\n",
    "        prob = get_log_probability(gc_content, input_dna)\n",
    "        output_string += f\"{prob:.3f}\" + ' '\n",
    "        \n",
    "    return output_string.rstrip()\n",
    "    \n",
    "\n",
    "print(get_all_log_probability(input))"
   ]
  },
  {
   "cell_type": "code",
   "execution_count": 17,
   "metadata": {},
   "outputs": [
    {
     "data": {
      "text/plain": [
       "True"
      ]
     },
     "execution_count": 17,
     "metadata": {},
     "output_type": "execute_result"
    }
   ],
   "source": [
    "get_all_log_probability(input) == output"
   ]
  },
  {
   "cell_type": "markdown",
   "metadata": {},
   "source": [
    "# Submit solution"
   ]
  },
  {
   "cell_type": "code",
   "execution_count": 18,
   "metadata": {},
   "outputs": [
    {
     "data": {
      "text/plain": [
       "'-72.067 -64.517 -56.167 -53.731 -51.787 -49.664 -49.081 -48.546 -48.178 -48.339 -48.619 -49.428 -50.411 -51.888 -56.452 -59.667 -66.093 -75.507'"
      ]
     },
     "execution_count": 18,
     "metadata": {},
     "output_type": "execute_result"
    }
   ],
   "source": [
    "real_input = read_text('rosalind_prob.txt')\n",
    "\n",
    "get_all_log_probability(real_input)"
   ]
  },
  {
   "cell_type": "code",
   "execution_count": null,
   "metadata": {},
   "outputs": [],
   "source": []
  }
 ],
 "metadata": {
  "application/vnd.databricks.v1+notebook": {
   "dashboards": [],
   "environmentMetadata": {
    "base_environment": "",
    "client": "1"
   },
   "language": "python",
   "notebookMetadata": {
    "pythonIndentUnit": 4
   },
   "notebookName": "(Clone) test",
   "widgets": {}
  },
  "kernelspec": {
   "display_name": "rosalind-AUENTiOu-py3.12",
   "language": "python",
   "name": "python3"
  },
  "language_info": {
   "codemirror_mode": {
    "name": "ipython",
    "version": 3
   },
   "file_extension": ".py",
   "mimetype": "text/x-python",
   "name": "python",
   "nbconvert_exporter": "python",
   "pygments_lexer": "ipython3",
   "version": "3.12.5"
  }
 },
 "nbformat": 4,
 "nbformat_minor": 0
}
