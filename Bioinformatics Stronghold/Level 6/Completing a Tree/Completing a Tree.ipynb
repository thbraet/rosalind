{
 "cells": [
  {
   "cell_type": "markdown",
   "metadata": {},
   "source": [
    "# INSERT TITEL"
   ]
  },
  {
   "cell_type": "markdown",
   "metadata": {},
   "source": [
    "# Problem\n",
    "\n",
    "Lorem Ipsum\n",
    "\n",
    "<span style=\"color:rgba(70,165,70,255); font-weight:bold\">Given</span>: ...\n",
    "\n",
    "<span style=\"color:rgba(70,165,70,255); font-weight:bold\">Return</span>: ...\n",
    "\n"
   ]
  },
  {
   "cell_type": "markdown",
   "metadata": {},
   "source": [
    "# Read Files"
   ]
  },
  {
   "cell_type": "code",
   "execution_count": 25,
   "metadata": {},
   "outputs": [],
   "source": [
    "%run ../../functions/read_files.ipynb"
   ]
  },
  {
   "cell_type": "code",
   "execution_count": 26,
   "metadata": {
    "application/vnd.databricks.v1+cell": {
     "cellMetadata": {},
     "inputWidgets": {},
     "nuid": "f5fe6839-20e0-489b-8c0c-ff91a9e25fe0",
     "showTitle": false,
     "title": ""
    }
   },
   "outputs": [
    {
     "name": "stdout",
     "output_type": "stream",
     "text": [
      "10\n",
      "1 2\n",
      "2 8\n",
      "4 10\n",
      "5 9\n",
      "6 10\n",
      "7 9\n",
      "3\n"
     ]
    }
   ],
   "source": [
    "input = read_text('sample_input.txt')\n",
    "print(input)\n",
    "\n",
    "output = read_text('sample_output.txt')\n",
    "print(output)"
   ]
  },
  {
   "cell_type": "markdown",
   "metadata": {},
   "source": [
    "# Solution"
   ]
  },
  {
   "cell_type": "code",
   "execution_count": 27,
   "metadata": {},
   "outputs": [],
   "source": [
    "def merge_sets(sets):\n",
    "    while True:\n",
    "        merged = False\n",
    "        for i in range(len(sets)):\n",
    "            for j in range(i + 1, len(sets)):\n",
    "                if sets[i].intersection(sets[j]):\n",
    "                    sets[i] = sets[i].union(sets[j])\n",
    "                    sets.pop(j)\n",
    "                    merged = True\n",
    "                    break\n",
    "            if merged:\n",
    "                break\n",
    "        if not merged:\n",
    "            break\n",
    "    return sets\n"
   ]
  },
  {
   "cell_type": "code",
   "execution_count": 28,
   "metadata": {},
   "outputs": [],
   "source": [
    "def add_single_nodes(n, sets):\n",
    "    for i in range(1,n+1):\n",
    "        found = False\n",
    "        for s in sets:\n",
    "            if i in s:\n",
    "                found = True\n",
    "                break\n",
    "        if not found:\n",
    "            sets.append({i})\n",
    "    \n",
    "    return sets"
   ]
  },
  {
   "cell_type": "code",
   "execution_count": 29,
   "metadata": {},
   "outputs": [],
   "source": [
    "def have_common_elements(sets):\n",
    "    for i in range(len(sets)):\n",
    "        for j in range(i + 1, len(sets)):\n",
    "            if sets[i] & sets[j]:  # Check for intersection\n",
    "                return True\n",
    "    return False"
   ]
  },
  {
   "cell_type": "code",
   "execution_count": 30,
   "metadata": {},
   "outputs": [
    {
     "name": "stdout",
     "output_type": "stream",
     "text": [
      "10\n"
     ]
    },
    {
     "data": {
      "text/plain": [
       "3"
      ]
     },
     "execution_count": 30,
     "metadata": {},
     "output_type": "execute_result"
    }
   ],
   "source": [
    "def complete_a_tree(input):\n",
    "    n = int(input.split('\\n')[0])\n",
    "    \n",
    "    print(n)\n",
    "    \n",
    "    sets = []\n",
    "    for t in input.split('\\n')[1:]:\n",
    "        t = tuple(map(int, t.split(' ')))\n",
    "        merged = False\n",
    "        for s in sets:\n",
    "            if t[0] in s or t[1] in s:\n",
    "                s.add(t[0])\n",
    "                s.add(t[1])\n",
    "                merged = True\n",
    "                break\n",
    "        if not merged:\n",
    "            sets.append(set(t))\n",
    "                \n",
    "    \n",
    "    sets = merge_sets(sets)\n",
    "        \n",
    "    \n",
    "    sets = add_single_nodes(n, sets)\n",
    "                \n",
    "    return len(sets) - 1\n",
    "        \n",
    "    # print(input)\n",
    "    \n",
    "complete_a_tree(input)"
   ]
  },
  {
   "cell_type": "code",
   "execution_count": 31,
   "metadata": {},
   "outputs": [
    {
     "name": "stdout",
     "output_type": "stream",
     "text": [
      "10\n"
     ]
    },
    {
     "data": {
      "text/plain": [
       "True"
      ]
     },
     "execution_count": 31,
     "metadata": {},
     "output_type": "execute_result"
    }
   ],
   "source": [
    "complete_a_tree(input) == int(output)"
   ]
  },
  {
   "cell_type": "markdown",
   "metadata": {},
   "source": [
    "# Submit solution"
   ]
  },
  {
   "cell_type": "code",
   "execution_count": 35,
   "metadata": {},
   "outputs": [
    {
     "name": "stdout",
     "output_type": "stream",
     "text": [
      "951\n"
     ]
    }
   ],
   "source": [
    "real_input = read_text('rosalind_tree.txt')\n",
    "\n",
    "output = complete_a_tree(real_input)"
   ]
  },
  {
   "cell_type": "code",
   "execution_count": 36,
   "metadata": {},
   "outputs": [
    {
     "data": {
      "text/plain": [
       "80"
      ]
     },
     "execution_count": 36,
     "metadata": {},
     "output_type": "execute_result"
    }
   ],
   "source": [
    "output"
   ]
  },
  {
   "cell_type": "code",
   "execution_count": 34,
   "metadata": {},
   "outputs": [
    {
     "ename": "TypeError",
     "evalue": "object of type 'int' has no len()",
     "output_type": "error",
     "traceback": [
      "\u001b[0;31m---------------------------------------------------------------------------\u001b[0m",
      "\u001b[0;31mTypeError\u001b[0m                                 Traceback (most recent call last)",
      "Cell \u001b[0;32mIn[34], line 1\u001b[0m\n\u001b[0;32m----> 1\u001b[0m \u001b[43mhave_common_elements\u001b[49m\u001b[43m(\u001b[49m\u001b[43moutput\u001b[49m\u001b[43m)\u001b[49m\n",
      "Cell \u001b[0;32mIn[29], line 2\u001b[0m, in \u001b[0;36mhave_common_elements\u001b[0;34m(sets)\u001b[0m\n\u001b[1;32m      1\u001b[0m \u001b[38;5;28;01mdef\u001b[39;00m \u001b[38;5;21mhave_common_elements\u001b[39m(sets):\n\u001b[0;32m----> 2\u001b[0m     \u001b[38;5;28;01mfor\u001b[39;00m i \u001b[38;5;129;01min\u001b[39;00m \u001b[38;5;28mrange\u001b[39m(\u001b[38;5;28;43mlen\u001b[39;49m\u001b[43m(\u001b[49m\u001b[43msets\u001b[49m\u001b[43m)\u001b[49m):\n\u001b[1;32m      3\u001b[0m         \u001b[38;5;28;01mfor\u001b[39;00m j \u001b[38;5;129;01min\u001b[39;00m \u001b[38;5;28mrange\u001b[39m(i \u001b[38;5;241m+\u001b[39m \u001b[38;5;241m1\u001b[39m, \u001b[38;5;28mlen\u001b[39m(sets)):\n\u001b[1;32m      4\u001b[0m             \u001b[38;5;28;01mif\u001b[39;00m sets[i] \u001b[38;5;241m&\u001b[39m sets[j]:  \u001b[38;5;66;03m# Check for intersection\u001b[39;00m\n",
      "\u001b[0;31mTypeError\u001b[0m: object of type 'int' has no len()"
     ]
    }
   ],
   "source": [
    "have_common_elements(output)"
   ]
  },
  {
   "cell_type": "code",
   "execution_count": 27,
   "metadata": {},
   "outputs": [
    {
     "name": "stdout",
     "output_type": "stream",
     "text": [
      "816\n",
      "[{760, 425}, {508, 375}, {769, 382, 791}, {595, 109, 423}, {241, 171, 684, 789}, {97, 578, 236, 144, 319}, {256, 316}, {801, 740, 389, 392, 625, 628, 793, 698, 60, 30}, {723, 198}, {257, 486, 233, 662, 344}, {579, 644, 331, 77, 660, 347, 411, 349, 93, 32, 738, 357, 294, 422, 167, 359, 686, 240, 437, 117, 124, 639}, {561, 531, 604}, {617, 125, 679}, {546, 780, 621}, {380, 484}, {1, 643, 420, 646, 44, 173, 465, 147, 757, 733}, {34, 107, 332, 46, 53, 573}, {641, 712, 397, 719, 307, 695, 697, 702}, {163, 741, 237, 242, 115, 597, 158}, {648, 361, 521, 246}, {292, 551, 703}, {50, 636, 446}, {368, 772, 76}, {761, 124, 399}, {327, 749, 730, 379, 222}, {172, 606}, {128, 355, 42, 525, 526, 84, 148, 86, 280, 570, 27, 671}, {210, 499, 404, 675}, {451, 428, 270, 687}, {129, 290, 207, 343, 122}, {613, 614, 201, 557, 338, 51, 436, 20, 693}, {152, 18, 267, 6}, {712, 762}, {476, 291, 212}, {384, 412, 788, 430}, {81, 795, 812, 70}, {192, 187, 260}, {577, 525}, {196, 745, 810, 140, 204, 443, 445}, {350, 343}, {385, 259, 68, 365, 624, 275, 500, 181, 406, 22, 26, 62}, {12, 549, 189}, {777, 59}, {804, 262, 649, 123, 238, 751, 464, 539, 447}, {744, 619, 363, 303, 311, 31}, {515, 518, 784, 405, 726, 535, 727, 472, 598, 284, 33, 165, 176, 756, 56, 571}, {728, 676}, {490, 42, 590, 627, 61}, {24, 273, 304}, {497, 722, 444}, {323, 4, 774, 103, 138, 783, 466, 659, 381, 501, 341, 729, 221}, {512, 748, 189}, {503, 471}, {384, 166, 102, 140, 620, 654, 15, 274, 626, 29, 543}, {264, 514, 661}, {705, 322, 199, 714, 523, 269, 527, 28, 413, 670, 225, 353, 489, 372, 629, 246, 127}, {355, 766}, {321, 195, 231, 555, 524, 211, 596, 214, 694, 29}, {136, 556}, {226, 479}, {642, 706, 328, 75, 656, 658, 339, 603, 540, 605, 223, 352, 351, 802, 100, 743, 680, 296, 807, 424, 41, 234, 558, 45, 366, 429, 177, 438, 55, 58}, {224, 288, 800}, {307, 403, 285}, {33, 488, 592, 407, 94}, {673, 610, 605}, {324, 520, 142, 16, 82, 537, 217, 283, 35, 623, 115, 180, 566, 572, 317}, {320, 414, 259, 278}, {101, 39, 43, 336, 245, 534, 442, 701, 222, 255}, {401, 667, 468}, {3, 133, 5, 6, 8, 9, 136, 522, 11, 781, 14, 782, 272, 785, 531, 150, 664, 541, 286, 415, 36, 37, 421, 40, 169, 808, 426, 174, 50, 52, 569, 315, 188, 63, 581, 73, 586, 720, 213, 342, 607, 735, 480, 608, 375, 360, 492, 110, 754, 244, 247, 637}, {34, 219, 261}, {65, 611, 39, 268, 14, 816, 340, 478}, {456, 504}, {208, 433, 763, 89}, {258, 67, 574, 149, 794, 475, 156, 159, 672, 164, 292, 39, 41, 435, 563, 183, 505, 125, 190}, {332, 542}, {809, 770, 261}, {797, 599}, {64, 162, 70, 40, 493, 271, 560, 721, 690, 179, 755, 313, 250}, {304, 669, 495}, {496, 376, 221}, {787, 773}, {523, 583}, {739, 164, 312, 249, 717}, {652, 493}, {266, 287}, {387, 264, 203, 79, 17, 23, 91, 95, 97, 38, 681, 106, 305, 692, 309, 118, 120, 122}, {58, 371, 742}, {711, 491, 92, 431}, {1, 2, 3, 516, 4, 773, 7, 519, 16, 17, 277, 22, 536, 27, 285, 30, 799, 32, 293, 299, 815, 562, 308, 568, 314, 576, 582, 335, 80, 594, 89, 348, 96, 99, 358, 108, 369, 633, 634, 123, 380, 638, 132, 651, 139, 396, 653, 402, 151, 665, 409, 160, 161, 418, 677, 678, 172, 175, 689, 691, 696, 198, 458, 718, 215, 474, 481, 232, 746, 498, 765, 510}, {480, 683}, {185, 383}, {786, 414}, {768, 771, 4, 775, 263, 265, 778, 13, 19, 20, 21, 24, 281, 282, 796, 31, 33, 34, 547, 548, 298, 811, 302, 49, 57, 318, 71, 72, 584, 329, 585, 78, 591, 337, 83, 599, 346, 98, 104, 105, 364, 622, 370, 374, 630, 631, 378, 126, 386, 130, 134, 135, 650, 394, 398, 143, 400, 145, 657, 146, 154, 155, 410, 157, 416, 674, 419, 171, 685, 688, 432, 184, 699, 187, 704, 193, 707, 453, 455, 200, 457, 202, 716, 461, 462, 463, 210, 467, 218, 220, 224, 737, 226, 483, 230, 233, 502, 248, 252, 509, 254, 767}, {682, 581}, {450, 708, 325, 69, 517, 454, 137, 779, 76, 588, 205, 212, 470, 88, 153, 601, 25, 544, 354, 612, 676, 550, 295, 616, 362, 427, 813, 567, 59}, {635, 764}, {449, 553, 587, 529, 663, 602, 317}, {194, 759}, {482, 388, 186, 750, 119, 408, 441, 58}, {409, 459}, {417, 401, 345, 559}, {538, 253}, {640, 5, 390, 391, 530, 276, 25, 545, 289, 168, 552, 47, 434, 182, 310, 440, 66, 452, 326, 74, 334, 209, 121, 227, 485, 239, 753, 243, 373, 377, 635}, {506, 203}, {803, 758}, {256, 776, 9, 266, 10, 12, 270, 15, 528, 790, 279, 792, 28, 798, 805, 806, 297, 554, 300, 301, 814, 48, 306, 565, 54, 575, 580, 330, 589, 593, 85, 87, 90, 92, 609, 356, 618, 111, 367, 113, 114, 116, 632, 131, 645, 393, 395, 141, 655, 666, 170, 439, 700, 191, 194, 197, 456, 713, 715, 460, 206, 725, 469, 471, 216, 473, 731, 732, 734, 736, 229, 487, 235, 494, 752, 251, 253, 511}, {533, 709}, {724, 668}, {112}, {178}, {228}, {333}, {448}, {477}, {507}, {513}, {532}, {564}, {600}, {615}, {647}, {710}, {747}]\n"
     ]
    },
    {
     "data": {
      "text/plain": [
       "[(1, 69),\n",
       " (4, 93),\n",
       " (5, 86),\n",
       " (6, 106),\n",
       " (7, 89),\n",
       " (8, 89),\n",
       " (9, 93),\n",
       " (10, 23),\n",
       " (10, 89),\n",
       " (11, 69),\n",
       " (12, 74),\n",
       " (14, 89),\n",
       " (15, 89),\n",
       " (16, 70),\n",
       " (16, 75),\n",
       " (16, 93),\n",
       " (17, 32),\n",
       " (17, 62),\n",
       " (18, 65),\n",
       " (19, 55),\n",
       " (20, 74),\n",
       " (21, 69),\n",
       " (22, 95),\n",
       " (24, 67),\n",
       " (25, 89),\n",
       " (26, 37),\n",
       " (26, 47),\n",
       " (26, 56),\n",
       " (26, 89),\n",
       " (27, 93),\n",
       " (28, 106),\n",
       " (29, 39),\n",
       " (29, 86),\n",
       " (30, 93),\n",
       " (31, 69),\n",
       " (33, 95),\n",
       " (34, 53),\n",
       " (35, 78),\n",
       " (36, 93),\n",
       " (38, 53),\n",
       " (40, 66),\n",
       " (40, 89),\n",
       " (41, 51),\n",
       " (41, 106),\n",
       " (42, 95),\n",
       " (43, 89),\n",
       " (44, 93),\n",
       " (45, 63),\n",
       " (45, 93),\n",
       " (46, 95),\n",
       " (48, 79),\n",
       " (48, 93),\n",
       " (50, 80),\n",
       " (50, 89),\n",
       " (50, 93),\n",
       " (52, 106),\n",
       " (53, 57),\n",
       " (53, 106),\n",
       " (54, 86),\n",
       " (55, 82),\n",
       " (55, 106),\n",
       " (58, 69),\n",
       " (59, 93),\n",
       " (60, 64),\n",
       " (60, 74),\n",
       " (60, 87),\n",
       " (60, 99),\n",
       " (61, 93),\n",
       " (62, 89),\n",
       " (63, 93),\n",
       " (65, 89),\n",
       " (65, 97),\n",
       " (66, 92),\n",
       " (67, 71),\n",
       " (67, 74),\n",
       " (68, 101),\n",
       " (69, 71),\n",
       " (69, 78),\n",
       " (69, 89),\n",
       " (69, 90),\n",
       " (69, 94),\n",
       " (69, 103),\n",
       " (69, 106),\n",
       " (70, 76),\n",
       " (70, 93),\n",
       " (71, 74),\n",
       " (72, 106),\n",
       " (73, 89),\n",
       " (74, 83),\n",
       " (77, 93),\n",
       " (78, 84),\n",
       " (81, 89),\n",
       " (85, 106),\n",
       " (86, 89),\n",
       " (86, 104),\n",
       " (87, 99),\n",
       " (88, 106),\n",
       " (89, 93),\n",
       " (89, 100),\n",
       " (95, 103),\n",
       " (96, 103),\n",
       " (98, 106),\n",
       " (102, 106)]"
      ]
     },
     "execution_count": 27,
     "metadata": {},
     "output_type": "execute_result"
    }
   ],
   "source": [
    "def find_sets_with_common_elements(list_of_sets):\n",
    "    result = []\n",
    "    # Iterate over each pair of sets in the list\n",
    "    for i in range(len(list_of_sets)):\n",
    "        for j in range(i + 1, len(list_of_sets)):\n",
    "            # Check if the sets have common elements\n",
    "            if list_of_sets[i] & list_of_sets[j]:  # This is the set intersection operator\n",
    "                result.append((i, j))  # Store the indices of the sets with common elements\n",
    "    return result\n",
    "\n",
    "find_sets_with_common_elements(complete_a_tree(real_input))"
   ]
  },
  {
   "cell_type": "code",
   "execution_count": null,
   "metadata": {},
   "outputs": [],
   "source": []
  }
 ],
 "metadata": {
  "application/vnd.databricks.v1+notebook": {
   "dashboards": [],
   "environmentMetadata": {
    "base_environment": "",
    "client": "1"
   },
   "language": "python",
   "notebookMetadata": {
    "pythonIndentUnit": 4
   },
   "notebookName": "(Clone) test",
   "widgets": {}
  },
  "kernelspec": {
   "display_name": "rosalind-AUENTiOu-py3.12",
   "language": "python",
   "name": "python3"
  },
  "language_info": {
   "codemirror_mode": {
    "name": "ipython",
    "version": 3
   },
   "file_extension": ".py",
   "mimetype": "text/x-python",
   "name": "python",
   "nbconvert_exporter": "python",
   "pygments_lexer": "ipython3",
   "version": "3.12.5"
  }
 },
 "nbformat": 4,
 "nbformat_minor": 0
}
