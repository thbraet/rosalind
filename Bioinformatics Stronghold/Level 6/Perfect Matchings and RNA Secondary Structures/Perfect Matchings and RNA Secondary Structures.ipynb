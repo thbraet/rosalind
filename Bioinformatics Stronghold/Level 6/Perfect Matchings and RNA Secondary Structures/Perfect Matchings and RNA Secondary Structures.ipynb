{
 "cells": [
  {
   "cell_type": "markdown",
   "metadata": {},
   "source": [
    "# INSERT TITEL"
   ]
  },
  {
   "cell_type": "markdown",
   "metadata": {},
   "source": [
    "# Problem\n",
    "\n",
    "Lorem Ipsum\n",
    "\n",
    "<span style=\"color:rgba(70,165,70,255); font-weight:bold\">Given</span>: ...\n",
    "\n",
    "<span style=\"color:rgba(70,165,70,255); font-weight:bold\">Return</span>: ...\n",
    "\n"
   ]
  },
  {
   "cell_type": "markdown",
   "metadata": {},
   "source": [
    "# Read Files"
   ]
  },
  {
   "cell_type": "code",
   "execution_count": 1,
   "metadata": {},
   "outputs": [],
   "source": [
    "%run ../../functions/read_files.ipynb"
   ]
  },
  {
   "cell_type": "code",
   "execution_count": 2,
   "metadata": {
    "application/vnd.databricks.v1+cell": {
     "cellMetadata": {},
     "inputWidgets": {},
     "nuid": "f5fe6839-20e0-489b-8c0c-ff91a9e25fe0",
     "showTitle": false,
     "title": ""
    }
   },
   "outputs": [
    {
     "name": "stdout",
     "output_type": "stream",
     "text": [
      "    Identifier    Sequence\n",
      "0  Rosalind_23  AGCUAGUCAU\n",
      "12\n"
     ]
    }
   ],
   "source": [
    "input = read_fasta('sample_input.txt')\n",
    "print(input)\n",
    "\n",
    "output = read_text('sample_output.txt')\n",
    "print(output)"
   ]
  },
  {
   "cell_type": "markdown",
   "metadata": {},
   "source": [
    "# Solution"
   ]
  },
  {
   "cell_type": "code",
   "execution_count": 3,
   "metadata": {},
   "outputs": [
    {
     "name": "stdout",
     "output_type": "stream",
     "text": [
      "AGCUAGUCAU\n"
     ]
    },
    {
     "data": {
      "text/plain": [
       "12"
      ]
     },
     "execution_count": 3,
     "metadata": {},
     "output_type": "execute_result"
    }
   ],
   "source": [
    "import math\n",
    "\n",
    "def get_perfect_matchings(input):\n",
    "    rna_strand = input.Sequence[0]\n",
    "    print(rna_strand)\n",
    "    \n",
    "    count_A = rna_strand.count('A')\n",
    "    count_U = rna_strand.count('U')\n",
    "    count_C = rna_strand.count('C')\n",
    "    count_G = rna_strand.count('G')\n",
    "    \n",
    "    if count_A != count_U or count_C != count_G:\n",
    "        print(\"Invalid String, no perfect matching possible\")\n",
    "        return 0\n",
    "    \n",
    "    return math.factorial(count_A) * math.factorial(count_C)\n",
    "    \n",
    "    \n",
    "get_perfect_matchings(input)"
   ]
  },
  {
   "cell_type": "code",
   "execution_count": 4,
   "metadata": {},
   "outputs": [
    {
     "name": "stdout",
     "output_type": "stream",
     "text": [
      "AGCUAGUCAU\n"
     ]
    },
    {
     "data": {
      "text/plain": [
       "True"
      ]
     },
     "execution_count": 4,
     "metadata": {},
     "output_type": "execute_result"
    }
   ],
   "source": [
    "get_perfect_matchings(input) == int(output)"
   ]
  },
  {
   "cell_type": "markdown",
   "metadata": {},
   "source": [
    "# Submit solution"
   ]
  },
  {
   "cell_type": "code",
   "execution_count": 5,
   "metadata": {},
   "outputs": [
    {
     "name": "stdout",
     "output_type": "stream",
     "text": [
      "GCCGCAAUGGGAACACCCGCGGGGCCGGACGUGCCCUCCUAUUCUAAUUUGCGUAGUUGACAUGCUCGAGACAUGA\n"
     ]
    },
    {
     "data": {
      "text/plain": [
       "23517231061249970679935139840000000"
      ]
     },
     "execution_count": 5,
     "metadata": {},
     "output_type": "execute_result"
    }
   ],
   "source": [
    "real_input = read_fasta('rosalind_pmch.txt')\n",
    "\n",
    "get_perfect_matchings(real_input)"
   ]
  },
  {
   "cell_type": "code",
   "execution_count": null,
   "metadata": {},
   "outputs": [],
   "source": []
  }
 ],
 "metadata": {
  "application/vnd.databricks.v1+notebook": {
   "dashboards": [],
   "environmentMetadata": {
    "base_environment": "",
    "client": "1"
   },
   "language": "python",
   "notebookMetadata": {
    "pythonIndentUnit": 4
   },
   "notebookName": "(Clone) test",
   "widgets": {}
  },
  "kernelspec": {
   "display_name": ".venv",
   "language": "python",
   "name": "python3"
  },
  "language_info": {
   "codemirror_mode": {
    "name": "ipython",
    "version": 3
   },
   "file_extension": ".py",
   "mimetype": "text/x-python",
   "name": "python",
   "nbconvert_exporter": "python",
   "pygments_lexer": "ipython3",
   "version": "3.12.8"
  }
 },
 "nbformat": 4,
 "nbformat_minor": 0
}
