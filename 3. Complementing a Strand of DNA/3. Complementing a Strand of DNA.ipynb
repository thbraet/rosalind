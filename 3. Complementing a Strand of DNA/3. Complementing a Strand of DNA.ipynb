{
 "cells": [
  {
   "cell_type": "code",
   "execution_count": 7,
   "metadata": {},
   "outputs": [],
   "source": [
    "%run ../Init.ipynb"
   ]
  },
  {
   "cell_type": "code",
   "execution_count": 8,
   "metadata": {},
   "outputs": [
    {
     "data": {
      "text/plain": [
       "'/home/thbraet/rosalind/'"
      ]
     },
     "execution_count": 8,
     "metadata": {},
     "output_type": "execute_result"
    }
   ],
   "source": [
    "home_path"
   ]
  },
  {
   "cell_type": "markdown",
   "metadata": {},
   "source": [
    "In DNA strings, symbols 'A' and 'T' are complements of each other, as are 'C' and 'G'.\n",
    "\n",
    "The reverse complement of a DNA string s\n",
    " is the string sc\n",
    " formed by reversing the symbols of s\n",
    ", then taking the complement of each symbol (e.g., the reverse complement of \"GTCA\" is \"TGAC\").\n",
    "\n",
    "Given: A DNA string s\n",
    " of length at most 1000 bp.\n",
    "\n",
    "Return: The reverse complement sc\n",
    " of s\n",
    "."
   ]
  },
  {
   "cell_type": "code",
   "execution_count": 9,
   "metadata": {
    "application/vnd.databricks.v1+cell": {
     "cellMetadata": {},
     "inputWidgets": {},
     "nuid": "f5fe6839-20e0-489b-8c0c-ff91a9e25fe0",
     "showTitle": false,
     "title": ""
    }
   },
   "outputs": [],
   "source": [
    "with open(home_path+\"3. Complementing a Strand of DNA/sample_input.txt\", \"r\") as file:\n",
    "    input = file.read()\n",
    "\n",
    "with open(home_path+\"3. Complementing a Strand of DNA/sample_output.txt\", \"r\") as file:\n",
    "    output = file.read()"
   ]
  },
  {
   "cell_type": "code",
   "execution_count": 10,
   "metadata": {},
   "outputs": [
    {
     "data": {
      "text/plain": [
       "'ACCGGGTTTT'"
      ]
     },
     "execution_count": 10,
     "metadata": {},
     "output_type": "execute_result"
    }
   ],
   "source": [
    "def complement_strand_of_dna(dna_sequence):\n",
    "    # Define the translation table for nucleotide replacement\n",
    "    translation_table = str.maketrans('ATCG', 'TAGC')\n",
    "    # Reverse the DNA sequence and translate it using the table\n",
    "    return dna_sequence[::-1].translate(translation_table)\n",
    "\n",
    "complement_strand_of_dna(input)"
   ]
  },
  {
   "cell_type": "code",
   "execution_count": 11,
   "metadata": {
    "application/vnd.databricks.v1+cell": {
     "cellMetadata": {},
     "inputWidgets": {},
     "nuid": "8c27520c-dc63-4c84-99fc-a948199f8778",
     "showTitle": false,
     "title": ""
    }
   },
   "outputs": [],
   "source": [
    "def test_complement_strand_of_dna():\n",
    "    assert complement_strand_of_dna(input) == output, \"Test failed\"\n",
    "\n",
    "test_complement_strand_of_dna()"
   ]
  },
  {
   "cell_type": "code",
   "execution_count": 12,
   "metadata": {},
   "outputs": [
    {
     "data": {
      "text/plain": [
       "'\\nACCATTGTTTAACGCATTGAAACTATGGTCTCTTCCCAAACGAAGTGCGGGTGGATCGCATGGGAATGAAAATAACAGGTAAAATGTCCCCGATGTATAAGATAGAGCGGACCCCCGCGGTTTCCCGTCCTCCTCTCATGACCTCTGTTTATACTTTAAAAACACACGAGAGGTTTTTAGATCAATCTGCGGTGCATCTCATAGCTGATTTCGCCAGATCCGAATTTGTAACTCAACAGATACTAGTTCATTCAGTGTAAAAACGGCTCTTACCAAAACGCATTGATACTATTTCTTGTACAAGGGCAAGTTGTGGAATATGATTTATGCTTATGCACAATATCTCTACGGTCCGTACTACCTCTTGGCTGTTTTGGGTATGTCTACATGTTGTTCGTTGTGTGCCAGGGACGATACTGATGAGAAGCGCCAAGTAAAGAAAGCAGTGAATATCTGCGAATTCCTGGTGCCGGGTCACTCGAGCGACCCGGGAGCACCCCTTCGGGCAAGAGAACTTTCGGGCTTAAGCAGAGTCTGCGTAACGGAGACCACCACCGTTAGGAGTCGTATATGGCTTCAATCCAAGTGACTGTGGTTAGATATTGTGGCAAACCGCCTGTTGCTCCAGCTCGACAGACCAAGGTTAACCAGGCTGTAAAATGTGCGTACTTATCTTCTTTTAAGAGCCAGACCCTATTGGGGGGGAGGGTTGCATCAGTAAACAGTGCTCCATCTTAACACACAATAAGAATGTCGATTCCACAATGCTGCCCAAATTGACACGTCTACGCACGGGATCAGCGGGCCTGCCCCCCGCTTCAAGTCGCGCTCCGCACGCCAGAACGGT'"
      ]
     },
     "execution_count": 12,
     "metadata": {},
     "output_type": "execute_result"
    }
   ],
   "source": [
    "with open(home_path+\"3. Complementing a Strand of DNA/rosalind_revc.txt\", \"r\") as file:\n",
    "    real_input = file.read()\n",
    "\n",
    "complement_strand_of_dna(real_input)\n"
   ]
  }
 ],
 "metadata": {
  "application/vnd.databricks.v1+notebook": {
   "dashboards": [],
   "environmentMetadata": {
    "base_environment": "",
    "client": "1"
   },
   "language": "python",
   "notebookMetadata": {
    "pythonIndentUnit": 4
   },
   "notebookName": "(Clone) test",
   "widgets": {}
  },
  "kernelspec": {
   "display_name": "Python 3",
   "language": "python",
   "name": "python3"
  },
  "language_info": {
   "codemirror_mode": {
    "name": "ipython",
    "version": 3
   },
   "file_extension": ".py",
   "mimetype": "text/x-python",
   "name": "python",
   "nbconvert_exporter": "python",
   "pygments_lexer": "ipython3",
   "version": "3.12.5"
  }
 },
 "nbformat": 4,
 "nbformat_minor": 0
}
