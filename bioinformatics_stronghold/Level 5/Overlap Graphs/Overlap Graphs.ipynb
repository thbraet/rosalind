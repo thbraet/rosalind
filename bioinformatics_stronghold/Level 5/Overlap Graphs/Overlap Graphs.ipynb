{
 "cells": [
  {
   "cell_type": "markdown",
   "metadata": {},
   "source": [
    "# A Brief Introduction to Graph Theory\n",
    "\n",
    "Networks arise everywhere in the practical world, especially in biology. Networks are prevalent in popular applications such as modeling the spread of disease, but the extent of network applications spreads far beyond popular science. Our first question asks how to computationally model a network without actually needing to render a picture of the network.\n",
    "\n",
    "First, some terminology: graph is the technical term for a network; a graph is made up of hubs called nodes (or vertices), pairs of which are connected via segments/curves called edges. If an edge connects nodes $v$ and $w$, then it is denoted by $v$, $w$ (or equivalently $w$, $v$).\n",
    "\n",
    "- an edge $v$, $w$ is incident to nodes $v$ and $w$; we say that $v$ and $w$ are adjacent to each other;\n",
    "- the degree of $v$ is the number of edges incident to it;\n",
    "- a walk is an ordered collection of edges for which the ending node of one edge is the starting node of the next (e.g., $\\{v_{1},v_{2}\\}$,$\\{v_{2},v_{3}\\}$, $\\{v_{3},v_{4}\\}$, etc.);\n",
    "- a path is a walk in which every node appears in at most two edges;\n",
    "- path length is the number of edges in the path;\n",
    "- a cycle is a path whose final node is equal to its first node (so that every node is incident to exactly two edges in the cycle); and\n",
    "- the distance between two vertices is the length of the shortest path connecting them.\n",
    "\n",
    "Graph theory is the abstract mathematical study of graphs and their properties.\n",
    "\n",
    "[Link to Rosalind](https://rosalind.info/problems/grph/)"
   ]
  },
  {
   "cell_type": "markdown",
   "metadata": {},
   "source": [
    "# Problem\n",
    "\n",
    "A graph whose nodes have all been labeled can be represented by an adjacency list, in which each row of the list contains the two node labels corresponding to a unique edge.\n",
    "\n",
    "A directed graph (or digraph) is a graph containing directed edges, each of which has an orientation. That is, a directed edge is represented by an arrow instead of a line segment; the starting and ending nodes of an edge form its tail and head, respectively. The directed edge with tail $v$ and head $w$ is represented by $(v, w)$ (but not by $(w,v)$). A directed loop is a directed edge of the form $(v,v)$.\n",
    "\n",
    "For a collection of strings and a positive integer $k$, the overlap graph for the strings is a directed graph $O_{k}$ in which each string is represented by a node, and string $s$ is connected to string $t$ with a directed edge when there is a length $k$ suffix of $s$ that matches a length $k$ prefix of $t$, as long as $s≠t$; we demand $s≠t$ to prevent directed loops in the overlap graph (although directed cycles may be present).\n",
    "\n",
    "<span style=\"color:rgba(70,165,70,255); font-weight:bold\">Given</span>: A collection of DNA strings in FASTA format having total length at most 10 kbp.\n",
    "\n",
    "<span style=\"color:rgba(70,165,70,255); font-weight:bold\">Return</span>: The adjacency list corresponding to $O_{3}$\n",
    "\n"
   ]
  },
  {
   "cell_type": "markdown",
   "metadata": {},
   "source": [
    "# Read Files"
   ]
  },
  {
   "cell_type": "code",
   "execution_count": 1,
   "metadata": {},
   "outputs": [],
   "source": [
    "%run ../../functions/read_files.ipynb"
   ]
  },
  {
   "cell_type": "code",
   "execution_count": 3,
   "metadata": {
    "application/vnd.databricks.v1+cell": {
     "cellMetadata": {},
     "inputWidgets": {},
     "nuid": "f5fe6839-20e0-489b-8c0c-ff91a9e25fe0",
     "showTitle": false,
     "title": ""
    }
   },
   "outputs": [
    {
     "name": "stdout",
     "output_type": "stream",
     "text": [
      "      Identifier Sequence\n",
      "0  Rosalind_0498  AAATAAA\n",
      "1  Rosalind_2391  AAATTTT\n",
      "2  Rosalind_2323  TTTTCCC\n",
      "3  Rosalind_0442  AAATCCC\n",
      "4  Rosalind_5013  GGGTGGG\n",
      "Rosalind_0498 Rosalind_2391\n",
      "Rosalind_0498 Rosalind_0442\n",
      "Rosalind_2391 Rosalind_2323\n"
     ]
    }
   ],
   "source": [
    "input = read_fasta('sample_input.txt')\n",
    "print(input)\n",
    "\n",
    "output = read_text('sample_output.txt')\n",
    "print(output)"
   ]
  },
  {
   "cell_type": "markdown",
   "metadata": {},
   "source": [
    "# Solution"
   ]
  },
  {
   "cell_type": "code",
   "execution_count": 16,
   "metadata": {},
   "outputs": [
    {
     "data": {
      "text/plain": [
       "'Rosalind_0498 Rosalind_2391\\nRosalind_0498 Rosalind_0442\\nRosalind_2391 Rosalind_2323\\n'"
      ]
     },
     "execution_count": 16,
     "metadata": {},
     "output_type": "execute_result"
    }
   ],
   "source": [
    "def get_overlap_graph(input, k=3):\n",
    "    result = \"\"\n",
    "    for i,row_suffix in input.iterrows():\n",
    "        for j, row_prefix in input.iterrows():\n",
    "            if i!=j:\n",
    "                if row_suffix.Sequence[-k:] == row_prefix.Sequence[:k]:\n",
    "                    result += row_suffix.Identifier + \" \" + row_prefix.Identifier + \"\\n\"\n",
    "\n",
    "    return result\n",
    "\n",
    "get_overlap_graph(input)\n"
   ]
  },
  {
   "cell_type": "code",
   "execution_count": 19,
   "metadata": {},
   "outputs": [
    {
     "name": "stdout",
     "output_type": "stream",
     "text": [
      "Rosalind_0498 Rosalind_2391\n",
      "Rosalind_0498 Rosalind_0442\n",
      "Rosalind_2391 Rosalind_2323\n",
      "\n",
      "\n",
      "OUTPUT:\n",
      "Rosalind_0498 Rosalind_2391\n",
      "Rosalind_0498 Rosalind_0442\n",
      "Rosalind_2391 Rosalind_2323\n"
     ]
    }
   ],
   "source": [
    "print(get_overlap_graph(input))\n",
    "print(\"\\nOUTPUT:\")\n",
    "print(output)"
   ]
  },
  {
   "cell_type": "markdown",
   "metadata": {},
   "source": [
    "# Submit solution"
   ]
  },
  {
   "cell_type": "code",
   "execution_count": 22,
   "metadata": {},
   "outputs": [
    {
     "name": "stdout",
     "output_type": "stream",
     "text": [
      "Rosalind_7803 Rosalind_4226\n",
      "Rosalind_0184 Rosalind_1277\n",
      "Rosalind_0184 Rosalind_8036\n",
      "Rosalind_7259 Rosalind_7594\n",
      "Rosalind_7259 Rosalind_0069\n",
      "Rosalind_8388 Rosalind_1644\n",
      "Rosalind_8388 Rosalind_4183\n",
      "Rosalind_8388 Rosalind_3451\n",
      "Rosalind_8388 Rosalind_5132\n",
      "Rosalind_8388 Rosalind_5894\n",
      "Rosalind_8388 Rosalind_1896\n",
      "Rosalind_9478 Rosalind_8334\n",
      "Rosalind_9478 Rosalind_2015\n",
      "Rosalind_9478 Rosalind_3322\n",
      "Rosalind_7594 Rosalind_4888\n",
      "Rosalind_7594 Rosalind_4267\n",
      "Rosalind_8864 Rosalind_2541\n",
      "Rosalind_8864 Rosalind_3778\n",
      "Rosalind_7914 Rosalind_7803\n",
      "Rosalind_7914 Rosalind_3273\n",
      "Rosalind_7894 Rosalind_7803\n",
      "Rosalind_7894 Rosalind_3273\n",
      "Rosalind_1233 Rosalind_0184\n",
      "Rosalind_1233 Rosalind_5989\n",
      "Rosalind_4930 Rosalind_2541\n",
      "Rosalind_4930 Rosalind_3778\n",
      "Rosalind_0427 Rosalind_5141\n",
      "Rosalind_9175 Rosalind_9927\n",
      "Rosalind_9175 Rosalind_5227\n",
      "Rosalind_8334 Rosalind_2180\n",
      "Rosalind_6689 Rosalind_4648\n",
      "Rosalind_6689 Rosalind_2940\n",
      "Rosalind_1277 Rosalind_1233\n",
      "Rosalind_1277 Rosalind_6689\n",
      "Rosalind_1277 Rosalind_4583\n",
      "Rosalind_1277 Rosalind_8945\n",
      "Rosalind_1277 Rosalind_8207\n",
      "Rosalind_8036 Rosalind_1574\n",
      "Rosalind_4493 Rosalind_1233\n",
      "Rosalind_4493 Rosalind_6689\n",
      "Rosalind_4493 Rosalind_4583\n",
      "Rosalind_4493 Rosalind_8945\n",
      "Rosalind_4493 Rosalind_8207\n",
      "Rosalind_3749 Rosalind_7259\n",
      "Rosalind_3749 Rosalind_0017\n",
      "Rosalind_3749 Rosalind_7776\n",
      "Rosalind_3749 Rosalind_0284\n",
      "Rosalind_3749 Rosalind_0313\n",
      "Rosalind_4331 Rosalind_7369\n",
      "Rosalind_1574 Rosalind_6406\n",
      "Rosalind_1574 Rosalind_3197\n",
      "Rosalind_1574 Rosalind_1406\n",
      "Rosalind_3455 Rosalind_5520\n",
      "Rosalind_3455 Rosalind_0286\n",
      "Rosalind_7460 Rosalind_1920\n",
      "Rosalind_7460 Rosalind_7610\n",
      "Rosalind_7765 Rosalind_4500\n",
      "Rosalind_5989 Rosalind_5141\n",
      "Rosalind_2415 Rosalind_7076\n",
      "Rosalind_6447 Rosalind_7803\n",
      "Rosalind_6447 Rosalind_3273\n",
      "Rosalind_2015 Rosalind_2180\n",
      "Rosalind_7369 Rosalind_0245\n",
      "Rosalind_7369 Rosalind_8753\n",
      "Rosalind_4583 Rosalind_5141\n",
      "Rosalind_6200 Rosalind_5141\n",
      "Rosalind_9927 Rosalind_8741\n",
      "Rosalind_9927 Rosalind_8974\n",
      "Rosalind_1644 Rosalind_4226\n",
      "Rosalind_7778 Rosalind_1920\n",
      "Rosalind_7778 Rosalind_7610\n",
      "Rosalind_4888 Rosalind_7259\n",
      "Rosalind_4888 Rosalind_0017\n",
      "Rosalind_4888 Rosalind_7776\n",
      "Rosalind_4888 Rosalind_0284\n",
      "Rosalind_4888 Rosalind_0313\n",
      "Rosalind_0069 Rosalind_0245\n",
      "Rosalind_0069 Rosalind_8753\n",
      "Rosalind_5520 Rosalind_7914\n",
      "Rosalind_5520 Rosalind_6243\n",
      "Rosalind_7076 Rosalind_7765\n",
      "Rosalind_6694 Rosalind_4912\n",
      "Rosalind_4267 Rosalind_5465\n",
      "Rosalind_6406 Rosalind_0184\n",
      "Rosalind_6406 Rosalind_5989\n",
      "Rosalind_3778 Rosalind_2180\n",
      "Rosalind_4500 Rosalind_2659\n",
      "Rosalind_3322 Rosalind_1574\n",
      "Rosalind_5465 Rosalind_4226\n",
      "Rosalind_2940 Rosalind_0703\n",
      "Rosalind_2940 Rosalind_0809\n",
      "Rosalind_8108 Rosalind_6406\n",
      "Rosalind_8108 Rosalind_3197\n",
      "Rosalind_8108 Rosalind_1406\n",
      "Rosalind_6556 Rosalind_5134\n",
      "Rosalind_5134 Rosalind_4226\n",
      "Rosalind_7776 Rosalind_6406\n",
      "Rosalind_7776 Rosalind_3197\n",
      "Rosalind_7776 Rosalind_1406\n",
      "Rosalind_8066 Rosalind_8741\n",
      "Rosalind_8066 Rosalind_8974\n",
      "Rosalind_4912 Rosalind_8741\n",
      "Rosalind_4912 Rosalind_8974\n",
      "Rosalind_0809 Rosalind_7076\n",
      "Rosalind_3071 Rosalind_9478\n",
      "Rosalind_3071 Rosalind_4930\n",
      "Rosalind_3628 Rosalind_7076\n",
      "Rosalind_2180 Rosalind_5134\n",
      "Rosalind_0284 Rosalind_2541\n",
      "Rosalind_0284 Rosalind_3778\n",
      "Rosalind_2659 Rosalind_6556\n",
      "Rosalind_9362 Rosalind_5465\n",
      "Rosalind_4183 Rosalind_7803\n",
      "Rosalind_4183 Rosalind_3273\n",
      "Rosalind_7482 Rosalind_4226\n",
      "Rosalind_5141 Rosalind_9280\n",
      "Rosalind_5141 Rosalind_9362\n",
      "Rosalind_3197 Rosalind_1277\n",
      "Rosalind_3197 Rosalind_8036\n",
      "Rosalind_8945 Rosalind_2203\n",
      "Rosalind_8945 Rosalind_4725\n",
      "Rosalind_5227 Rosalind_2180\n",
      "Rosalind_9126 Rosalind_3455\n",
      "Rosalind_9126 Rosalind_6354\n",
      "Rosalind_5894 Rosalind_1644\n",
      "Rosalind_5894 Rosalind_4183\n",
      "Rosalind_5894 Rosalind_3451\n",
      "Rosalind_5894 Rosalind_5132\n",
      "Rosalind_5894 Rosalind_1896\n",
      "Rosalind_1896 Rosalind_2415\n",
      "Rosalind_6243 Rosalind_3455\n",
      "Rosalind_6243 Rosalind_6354\n",
      "Rosalind_3273 Rosalind_4648\n",
      "Rosalind_3273 Rosalind_2940\n",
      "Rosalind_8207 Rosalind_3749\n",
      "Rosalind_8207 Rosalind_4331\n",
      "Rosalind_8207 Rosalind_6447\n",
      "Rosalind_8207 Rosalind_0070\n",
      "Rosalind_6354 Rosalind_7765\n",
      "Rosalind_4725 Rosalind_0245\n",
      "Rosalind_4725 Rosalind_8753\n",
      "Rosalind_4232 Rosalind_4888\n",
      "Rosalind_4232 Rosalind_4267\n",
      "Rosalind_6771 Rosalind_4912\n",
      "Rosalind_4226 Rosalind_2203\n",
      "Rosalind_4226 Rosalind_4725\n",
      "\n"
     ]
    }
   ],
   "source": [
    "real_input = read_fasta('rosalind_grph.txt')\n",
    "\n",
    "print(get_overlap_graph(real_input))"
   ]
  },
  {
   "cell_type": "code",
   "execution_count": null,
   "metadata": {},
   "outputs": [],
   "source": []
  }
 ],
 "metadata": {
  "application/vnd.databricks.v1+notebook": {
   "dashboards": [],
   "environmentMetadata": {
    "base_environment": "",
    "client": "1"
   },
   "language": "python",
   "notebookMetadata": {
    "pythonIndentUnit": 4
   },
   "notebookName": "(Clone) test",
   "widgets": {}
  },
  "kernelspec": {
   "display_name": "rosalind-AUENTiOu-py3.12",
   "language": "python",
   "name": "python3"
  },
  "language_info": {
   "codemirror_mode": {
    "name": "ipython",
    "version": 3
   },
   "file_extension": ".py",
   "mimetype": "text/x-python",
   "name": "python",
   "nbconvert_exporter": "python",
   "pygments_lexer": "ipython3",
   "version": "3.12.5"
  }
 },
 "nbformat": 4,
 "nbformat_minor": 0
}
