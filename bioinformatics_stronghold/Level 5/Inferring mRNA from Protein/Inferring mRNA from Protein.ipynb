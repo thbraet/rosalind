{
 "cells": [
  {
   "cell_type": "markdown",
   "metadata": {},
   "source": [
    "# Pitfalls of reversing translation\n",
    "\n",
    "When researchers discover a new protein, they would like to infer the strand of mRNA from which this protein could have been translated, thus allowing them to locate genes associated with this protein on the genome.\n",
    "\n",
    "Unfortunately, although any RNA string can be translated into a unique protein string, reversing the process yields a huge number of possible RNA strings from a single protein string because most amino acids correspond to multiple RNA codons (see the RNA Codon Table).\n",
    "\n",
    "Because of memory considerations, most data formats that are built into languages have upper bounds on how large an integer can be: in some versions of Python, an \"int\" variable may be required to be no larger than $2^{31}−1$, or 2,147,483,647. As a result, to deal with very large numbers in Rosalind, we need to devise a system that allows us to manipulate large numbers without actually having to store large numbers.\n",
    "\n",
    "[Link to Rosalind](https://rosalind.info/problems/mrna/)"
   ]
  },
  {
   "cell_type": "markdown",
   "metadata": {},
   "source": [
    "# Problem\n",
    "\n",
    "For positive integers $a$ and $n$, $a$ modulo $n$ (written $a\\ mod\\ n$ in shorthand) is the remainder when $a$ is divided by $n$. For example, $29\\ mod\\ 11 = 7$ because $29 = 11 * 2 + 7$.\n",
    "\n",
    "Modular arithmetic is the study of addition, subtraction, multiplication, and division with respect to the modulo operation. We say that $a$ and $b$  are congruent modulo $n$ if $a\\ mod\\ n = b\\ mod\\ n$; in this case, we use the notation $a≡b\\ mod\\ n$.\n",
    "\n",
    "Two useful facts in modular arithmetic are that if $a ≡ b\\ mod\\ n$ and $c\\ ≡\\ d\\ mod\\ n$, then $a+c≡b+d\\ mod\\ n$ and $a*c≡b*d\\ mod\\ n$. To check your understanding of these rules, you may wish to verify these relationships for $a=29$, $b=73$, $c=10$, $d=32$, and $n=11$.\n",
    "\n",
    "As you will see in this exercise, some Rosalind problems will ask for a (very large) integer solution modulo a smaller number to avoid the computational pitfalls that arise with storing such large numbers.\n",
    "\n",
    "<span style=\"color:rgba(70,165,70,255); font-weight:bold\">Given</span>: A protein string of length at most 1000 aa.\n",
    "\n",
    "<span style=\"color:rgba(70,165,70,255); font-weight:bold\">Return</span>: The total number of different RNA strings from which the protein could have been translated, modulo 1,000,000. (Don't neglect the importance of the stop codon in protein translation.)"
   ]
  },
  {
   "cell_type": "markdown",
   "metadata": {},
   "source": [
    "# Read Example Input and Output Files"
   ]
  },
  {
   "cell_type": "code",
   "execution_count": 17,
   "metadata": {},
   "outputs": [],
   "source": [
    "%run ../../functions/read_files.ipynb"
   ]
  },
  {
   "cell_type": "code",
   "execution_count": 18,
   "metadata": {},
   "outputs": [
    {
     "name": "stdout",
     "output_type": "stream",
     "text": [
      "MA\n",
      "12\n"
     ]
    }
   ],
   "source": [
    "input = read_text('sample_input.txt')\n",
    "print(input)\n",
    "\n",
    "output = read_text('sample_output.txt')\n",
    "print(output)"
   ]
  },
  {
   "cell_type": "markdown",
   "metadata": {},
   "source": [
    "# Problem solving logic"
   ]
  },
  {
   "cell_type": "code",
   "execution_count": 19,
   "metadata": {},
   "outputs": [
    {
     "data": {
      "text/plain": [
       "12"
      ]
     },
     "execution_count": 19,
     "metadata": {},
     "output_type": "execute_result"
    }
   ],
   "source": [
    "\n",
    "def get_possible_rna_sequences(input):\n",
    "    protein_codon_freq = pd.DataFrame(codon_dict.items(), columns=['Codon', 'Amino Acid']).groupby('Amino Acid').count().to_dict().get('Codon')\n",
    "    \n",
    "    possible_sequences = 1\n",
    "    for aa in input:\n",
    "        possible_sequences *= protein_codon_freq.get(aa)\n",
    "    possible_sequences *= 3 # 3 stop codons\n",
    "    \n",
    "    return possible_sequences % 1000000\n",
    "\n",
    "get_possible_rna_sequences(input)"
   ]
  },
  {
   "cell_type": "code",
   "execution_count": 20,
   "metadata": {},
   "outputs": [
    {
     "data": {
      "text/plain": [
       "True"
      ]
     },
     "execution_count": 20,
     "metadata": {},
     "output_type": "execute_result"
    }
   ],
   "source": [
    "get_possible_rna_sequences(input) == int(output)"
   ]
  },
  {
   "cell_type": "markdown",
   "metadata": {},
   "source": [
    "# Run real input"
   ]
  },
  {
   "cell_type": "code",
   "execution_count": 21,
   "metadata": {},
   "outputs": [
    {
     "data": {
      "text/plain": [
       "956992"
      ]
     },
     "execution_count": 21,
     "metadata": {},
     "output_type": "execute_result"
    }
   ],
   "source": [
    "real_input = read_text('rosalind_mrna.txt')\n",
    "\n",
    "get_possible_rna_sequences(real_input)"
   ]
  }
 ],
 "metadata": {
  "application/vnd.databricks.v1+notebook": {
   "dashboards": [],
   "environmentMetadata": {
    "base_environment": "",
    "client": "1"
   },
   "language": "python",
   "notebookMetadata": {
    "pythonIndentUnit": 4
   },
   "notebookName": "(Clone) test",
   "widgets": {}
  },
  "kernelspec": {
   "display_name": "rosalind-AUENTiOu-py3.12",
   "language": "python",
   "name": "python3"
  },
  "language_info": {
   "codemirror_mode": {
    "name": "ipython",
    "version": 3
   },
   "file_extension": ".py",
   "mimetype": "text/x-python",
   "name": "python",
   "nbconvert_exporter": "python",
   "pygments_lexer": "ipython3",
   "version": "3.12.5"
  }
 },
 "nbformat": 4,
 "nbformat_minor": 0
}
