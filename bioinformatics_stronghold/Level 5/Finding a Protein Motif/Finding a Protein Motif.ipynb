{
 "cells": [
  {
   "cell_type": "markdown",
   "metadata": {},
   "source": [
    "# Finding a Protein Motif"
   ]
  },
  {
   "cell_type": "markdown",
   "metadata": {},
   "source": [
    "## Read Sample Input and Output"
   ]
  },
  {
   "cell_type": "code",
   "execution_count": 1,
   "metadata": {},
   "outputs": [],
   "source": [
    "from rosalind.string_algorithms import find_glycosylation_motifs\n",
    "from rosalind.read_files import read_text, write_text"
   ]
  },
  {
   "cell_type": "code",
   "execution_count": 18,
   "metadata": {},
   "outputs": [
    {
     "name": "stdout",
     "output_type": "stream",
     "text": [
      "Sample Input:\n",
      " A2Z669\n",
      "B5ZC00\n",
      "P07204_TRBM_HUMAN\n",
      "P20840_SAG1_YEAST\n",
      "\n",
      "Sample Output:\n",
      " B5ZC00\n",
      "85 118 142 306 395\n",
      "P07204_TRBM_HUMAN\n",
      "47 115 116 382 409\n",
      "P20840_SAG1_YEAST\n",
      "79 109 135 248 306 348 364 402 485 501 614\n",
      "\n"
     ]
    }
   ],
   "source": [
    "sample_input = read_text('sample_input.txt')\n",
    "print(\"Sample Input:\\n\", sample_input)\n",
    "\n",
    "sample_output = read_text('sample_output.txt')+\"\\n\"\n",
    "print(\"\\nSample Output:\\n\",sample_output)"
   ]
  },
  {
   "cell_type": "markdown",
   "metadata": {},
   "source": [
    "## Solve Sample Problem"
   ]
  },
  {
   "cell_type": "code",
   "execution_count": 19,
   "metadata": {},
   "outputs": [],
   "source": [
    "def solve_problem(input):\n",
    "    output_str = \"\"\n",
    "    for i in input.split(\"\\n\"):\n",
    "        motifs = find_glycosylation_motifs(i)\n",
    "        if motifs:\n",
    "            output_str += i + \"\\n\" + motifs + \"\\n\"\n",
    "    return output_str\n"
   ]
  },
  {
   "cell_type": "code",
   "execution_count": 20,
   "metadata": {},
   "outputs": [
    {
     "name": "stdout",
     "output_type": "stream",
     "text": [
      "No glycosylation motifs found for A2Z669.\n",
      "B5ZC00\n",
      "85 118 142 306 395\n",
      "P07204_TRBM_HUMAN\n",
      "47 115 116 382 409\n",
      "P20840_SAG1_YEAST\n",
      "79 109 135 248 306 348 364 402 485 501 614\n",
      "\n"
     ]
    }
   ],
   "source": [
    "my_sample_output = solve_problem(sample_input)\n",
    "print(my_sample_output)"
   ]
  },
  {
   "cell_type": "code",
   "execution_count": 21,
   "metadata": {},
   "outputs": [],
   "source": [
    "def print_output(output, file_path = 'output.txt'):\n",
    "    output_string = str(output)\n",
    "    \n",
    "    write_text(output_string, file_path)\n",
    "    \n",
    "    print(\"Output String:\\n\",output_string)\n",
    "        \n",
    "    return output_string\n",
    "\n"
   ]
  },
  {
   "cell_type": "code",
   "execution_count": 22,
   "metadata": {},
   "outputs": [
    {
     "name": "stdout",
     "output_type": "stream",
     "text": [
      "Output String:\n",
      " B5ZC00\n",
      "85 118 142 306 395\n",
      "P07204_TRBM_HUMAN\n",
      "47 115 116 382 409\n",
      "P20840_SAG1_YEAST\n",
      "79 109 135 248 306 348 364 402 485 501 614\n",
      "\n"
     ]
    },
    {
     "data": {
      "text/plain": [
       "True"
      ]
     },
     "execution_count": 22,
     "metadata": {},
     "output_type": "execute_result"
    }
   ],
   "source": [
    "print_output(my_sample_output, \"my_sample_output.txt\") == sample_output"
   ]
  },
  {
   "cell_type": "markdown",
   "metadata": {},
   "source": [
    "## Run Real Input"
   ]
  },
  {
   "cell_type": "code",
   "execution_count": 23,
   "metadata": {},
   "outputs": [
    {
     "name": "stdout",
     "output_type": "stream",
     "text": [
      "No glycosylation motifs found for Q9CE42.\n",
      "No glycosylation motifs found for Q83I57.\n",
      "No glycosylation motifs found for Q8WW18.\n",
      "No glycosylation motifs found for Q28409.\n",
      "Output String:\n",
      " P10643_CO7_HUMAN\n",
      "202 754\n",
      "Q3Z2Z2\n",
      "49\n",
      "P02725_GLP_PIG\n",
      "16 19 39\n",
      "P07359_GPBA_HUMAN\n",
      "37 175 362 398\n",
      "P07585_PGS2_HUMAN\n",
      "211 262 303\n",
      "P01880_DTC_HUMAN\n",
      "225 316 367\n",
      "P72173\n",
      "87 284 383\n",
      "Q90304_C166_CARAU\n",
      "92 171 350 441 465\n",
      "\n"
     ]
    }
   ],
   "source": [
    "real_input = read_text('rosalind_mprt.txt')\n",
    "\n",
    "print_output(solve_problem(real_input), \"my_rosalind_mprt_output.txt\");"
   ]
  }
 ],
 "metadata": {
  "application/vnd.databricks.v1+notebook": {
   "dashboards": [],
   "environmentMetadata": {
    "base_environment": "",
    "client": "1"
   },
   "language": "python",
   "notebookMetadata": {
    "pythonIndentUnit": 4
   },
   "notebookName": "(Clone) test",
   "widgets": {}
  },
  "kernelspec": {
   "display_name": ".venv",
   "language": "python",
   "name": "python3"
  },
  "language_info": {
   "codemirror_mode": {
    "name": "ipython",
    "version": 3
   },
   "file_extension": ".py",
   "mimetype": "text/x-python",
   "name": "python",
   "nbconvert_exporter": "python",
   "pygments_lexer": "ipython3",
   "version": "3.12.8"
  }
 },
 "nbformat": 4,
 "nbformat_minor": 0
}
