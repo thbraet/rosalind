{
 "cells": [
  {
   "cell_type": "markdown",
   "metadata": {},
   "source": [
    "# Consensus and Profile"
   ]
  },
  {
   "cell_type": "markdown",
   "metadata": {},
   "source": [
    "## Read Sample Input and Output"
   ]
  },
  {
   "cell_type": "code",
   "execution_count": 1,
   "metadata": {},
   "outputs": [],
   "source": [
    "from rosalind.string_algorithms import get_consensus_string, get_profile_matrix\n",
    "from rosalind.read_files import read_text, write_text, read_fasta\n",
    "import pandas as pd"
   ]
  },
  {
   "cell_type": "code",
   "execution_count": 18,
   "metadata": {},
   "outputs": [
    {
     "name": "stdout",
     "output_type": "stream",
     "text": [
      "Sample Input:\n",
      "    Identifier  Sequence\n",
      "0  Rosalind_1  ATCCAGCT\n",
      "1  Rosalind_2  GGGCAACT\n",
      "2  Rosalind_3  ATGGATCT\n",
      "3  Rosalind_4  AAGCAACC\n",
      "4  Rosalind_5  TTGGAACT\n",
      "5  Rosalind_6  ATGCCATT\n",
      "6  Rosalind_7  ATGGCACT\n",
      "\n",
      "Sample Output:\n",
      " ATGCAACT\n",
      "A: 5 1 0 0 5 5 0 0\n",
      "C: 0 0 1 4 2 0 6 1\n",
      "G: 1 1 6 3 0 1 0 0\n",
      "T: 1 5 0 0 0 1 1 6\n",
      "\n"
     ]
    }
   ],
   "source": [
    "sample_input = read_fasta('sample_input.txt')\n",
    "print(\"Sample Input:\\n\", sample_input)\n",
    "\n",
    "sample_output = read_text('sample_output.txt')+ \"\\n\"\n",
    "print(\"\\nSample Output:\\n\",sample_output)"
   ]
  },
  {
   "cell_type": "markdown",
   "metadata": {},
   "source": [
    "## Solve Sample Problem"
   ]
  },
  {
   "cell_type": "code",
   "execution_count": 19,
   "metadata": {},
   "outputs": [],
   "source": [
    "def solve_problem(input):\n",
    "    dna_list = pd.DataFrame(input.Sequence.apply(list).tolist())\n",
    "    consensus_string = get_consensus_string(dna_list)\n",
    "    profile_matrix = get_profile_matrix(dna_list)\n",
    "    \n",
    "    return consensus_string, profile_matrix\n",
    "        # dna_strings_to_df = pd.DataFrame(df_fasta.Sequence.apply(list).tolist())\n"
   ]
  },
  {
   "cell_type": "code",
   "execution_count": 20,
   "metadata": {},
   "outputs": [
    {
     "data": {
      "text/plain": [
       "('ATGCAACT',\n",
       "    0  1  2  3  4  5  6  7\n",
       " A  5  1  0  0  5  5  0  0\n",
       " C  0  0  1  4  2  0  6  1\n",
       " G  1  1  6  3  0  1  0  0\n",
       " T  1  5  0  0  0  1  1  6)"
      ]
     },
     "execution_count": 20,
     "metadata": {},
     "output_type": "execute_result"
    }
   ],
   "source": [
    "my_sample_output = solve_problem(sample_input)\n",
    "my_sample_output"
   ]
  },
  {
   "cell_type": "code",
   "execution_count": 21,
   "metadata": {},
   "outputs": [],
   "source": [
    "def print_output(output, file_path = 'output.txt'):\n",
    "    # Write to a text file\n",
    "    with open(file_path, 'w') as file:\n",
    "        file.write(output[0])\n",
    "        file.write('\\n')\n",
    "\n",
    "        \n",
    "        for nucleotide, row in output[1].iterrows():\n",
    "            formatted_row = f\"{nucleotide}: \" + \" \".join(map(str, row))\n",
    "            file.write(formatted_row + '\\n')\n",
    "    # output_string = str(output)\n",
    "    \n",
    "    with open(file_path, 'r') as file:\n",
    "        output_string = file.read()\n",
    "    \n",
    "    # write_text(output_string, file_path)\n",
    "    \n",
    "    print(\"Output String:\\n\",output_string)\n",
    "        \n",
    "    return output_string\n",
    "\n"
   ]
  },
  {
   "cell_type": "code",
   "execution_count": 22,
   "metadata": {},
   "outputs": [
    {
     "name": "stdout",
     "output_type": "stream",
     "text": [
      "Output String:\n",
      " ATGCAACT\n",
      "A: 5 1 0 0 5 5 0 0\n",
      "C: 0 0 1 4 2 0 6 1\n",
      "G: 1 1 6 3 0 1 0 0\n",
      "T: 1 5 0 0 0 1 1 6\n",
      "\n"
     ]
    },
    {
     "data": {
      "text/plain": [
       "True"
      ]
     },
     "execution_count": 22,
     "metadata": {},
     "output_type": "execute_result"
    }
   ],
   "source": [
    "print_output(my_sample_output, \"my_sample_output.txt\") == sample_output"
   ]
  },
  {
   "cell_type": "markdown",
   "metadata": {},
   "source": [
    "## Run Real Input"
   ]
  },
  {
   "cell_type": "code",
   "execution_count": 24,
   "metadata": {},
   "outputs": [
    {
     "name": "stdout",
     "output_type": "stream",
     "text": [
      "Output String:\n",
      " GTAAACCTAGCAGATGGGTCGCGGCGGTCCTGGAGGACCCTTAACCCCGAGGGTAATAGCAGCAGACAATCCAAAGGCACGCAGTTAAAGAGATCTGAGACCATACCTCGAGGGATGACGCAGTCAATACCCTATCCCCCTGGCCGCCTATACTGCGGCAGTTTGGCGTAAATACTGACAAATGTTCAACCTTAAAACGGCTAACAAGACAAATGCTATCATACACGACAAAAGCAGAACATACCCACCCAAAAAAAGAGCGTGCCATATGCTATCGCTCTGCCATCCCCCCAATCCAGCACGCATTATCTGTTCTGGGTTAATACGACCCACGGAGTAAACAACGAGTTTGGCTTGCGAAGAGACGCTTGGTACCTTAATTATGACCCCAAAGGGCGCGAGGAGAAGCGAAATTACACACAGACACCAGAAAGGTATACGTAGAAACGCCGAAGAAAGAACATAATAACTCCCATCCAGCATGACAAAATCTCGTAAAAACGATGGAATCCGTAATCGAGACAGGTACGAGCTTAGTTTGCACGTCATGTGGACGACTGGGTCATGACCTACCTAACATGGGATGCGCAGAACATCGAGTGCTAAGGCGATCCACGACGGTAAAAGACGATAGCAAAGAACGCTTAGTTCGGCGCCCTGTGACGAGCCATCGAGCGTCTCGTGAAAACTAGAGGGCGGGAGAGTTCCAAAGAGACAATAGAGGGCACTATCCCCGAAAACGGGCTCGAGTGAAACGTCAGTCGTGCTCTCTCGTCCGCTCAGCTCAATGCTGACGCACAGAATATACAACGAGCGCGTCATTGGATCAGACGGAGCTCCATCCCAACAGTATAACCAGACGACGGCGCCGGTACAAAAATTTAATTCACCCTACCTACGCAATATTTATAGCCCCGCGGCCCGAAATCACCAAATAGAACAGAATCGTGAGGAACGACCAAATGCCTACACCGTAACTTA\n",
      "A: 1 1 5 3 3 2 2 3 3 0 2 4 2 3 2 0 3 3 2 2 3 2 2 2 1 3 2 1 2 2 1 1 1 4 3 1 5 2 1 3 3 2 6 3 1 1 2 2 0 3 2 1 3 1 3 3 2 5 2 1 3 0 2 4 3 4 3 5 3 3 2 2 4 3 6 3 3 1 5 1 2 2 5 2 3 2 5 4 3 2 3 2 3 3 2 0 2 4 1 3 2 0 4 2 3 1 2 3 2 1 4 0 1 1 3 2 4 4 2 1 2 3 1 2 3 3 3 1 3 2 2 2 3 3 3 1 2 1 2 2 4 2 1 2 3 1 1 1 3 5 1 4 1 1 3 1 2 3 2 4 1 3 1 2 0 3 0 2 2 5 3 3 3 3 1 2 3 3 2 4 4 4 0 2 2 0 2 4 4 2 2 2 2 3 5 3 4 2 2 1 1 1 4 4 2 3 6 1 3 1 4 4 3 1 3 3 2 5 2 2 3 0 6 1 5 2 0 3 3 3 3 3 4 3 1 5 1 5 3 0 3 2 3 1 3 1 4 2 2 1 5 3 4 3 3 3 5 3 3 2 2 2 2 3 1 3 4 2 4 2 0 2 2 5 3 2 0 2 0 1 2 2 2 1 4 1 2 3 2 3 1 1 4 5 2 3 4 4 1 2 3 2 2 2 3 3 1 3 2 3 2 1 3 2 0 3 1 1 2 1 2 3 4 4 3 2 1 5 2 0 2 4 0 2 3 3 1 1 4 4 5 1 3 4 0 1 3 2 1 1 1 1 3 2 1 2 2 2 3 4 3 1 4 2 3 1 1 2 1 3 2 2 3 4 2 4 1 2 5 4 2 2 4 0 2 4 2 1 1 2 5 3 4 2 2 1 3 3 2 3 4 3 2 3 2 5 3 2 3 1 4 3 3 1 3 4 2 3 2 3 2 4 2 6 3 3 1 2 4 2 4 5 3 1 1 3 6 1 3 3 1 1 4 1 3 3 4 2 1 2 1 2 4 5 2 4 3 4 2 4 4 2 4 2 3 3 2 7 4 4 3 1 2 4 3 3 3 2 4 2 2 4 3 3 3 2 5 5 3 3 2 1 1 1 3 3 5 3 4 4 5 2 2 3 2 1 0 5 4 3 2 1 2 2 4 3 2 2 3 4 2 3 1 4 0 2 1 5 1 3 3 3 2 2 3 4 2 3 1 1 1 0 3 0 2 1 2 4 3 2 3 2 2 5 3 2 3 1 2 3 2 2 2 1 4 0 2 4 1 2 3 4 2 0 0 3 4 2 4 0 2 0 3 4 2 2 0 1 2 3 1 3 3 2 7 0 3 2 5 2 1 3 2 3 4 3 2 1 1 3 4 2 1 2 5 1 0 3 2 2 1 3 3 6 5 3 0 4 2 0 4 3 4 3 0 4 4 4 3 4 3 2 3 2 0 3 3 3 3 2 3 2 0 2 2 3 2 2 2 2 2 4 6 1 2 5 3 1 1 3 3 1 2 3 3 2 2 2 1 0 2 2 3 3 3 5 4 5 2 3 3 2 5 0 3 1 3 2 2 3 3 2 3 2 2 2 2 0 5 4 3 2 4 2 4 2 5 3 2 5 1 4 3 1 3 2 3 3 3 5 3 2 2 2 2 1 3 4 4 3 2 0 2 1 2 3 2 3 5 1 1 2 4 3 4 0 2 1 2 4 3 2 2 2 1 0 2 1 2 1 2 1 2 2 3 2 2 2 2 0 2 5 3 1 1 3 4 4 2 1 2 1 1 3 2 2 2 4 1 4 2 5 3 2 4 2 3 2 3 4 2 1 4 2 2 3 1 2 1 1 3 2 2 2 1 3 3 3 3 1 4 2 2 1 4 2 1 2 3 1 3 3 1 2 2 3 3 2 3 3 1 3 1 4 4 2 1 3 2 4 1 2 4 3 2 2 3 3 1 2 2 2 1 3 3 3 4 5 5 4 2 0 1 3 3 2 0 1 4 1 1 3 2 5 2 2 1 5 1 2 0 3 3 2 5 1 1 2 4 2 4 2 1 3 2 2 0 3 0 1 2 1 2 2 5 4 4 3 1 4 1 3 3 4 4 3 3 3 4 3 0 5 2 6 5 2 2 2 3 3 6 3 1 4 5 1 2 4 1 2 5 4 3 2 1 1 1 2 3 1 3 2 2 1 1 3 5 2 1 1 3\n",
      "C: 2 1 2 2 2 5 3 2 3 3 3 2 2 3 2 3 2 1 2 4 0 5 2 3 5 1 2 3 4 3 3 2 2 2 3 1 1 4 4 4 2 2 0 3 4 4 3 5 1 2 3 0 3 3 3 2 3 0 1 4 2 2 3 2 1 1 4 1 3 2 3 4 3 3 2 1 0 4 0 3 2 3 2 3 1 1 1 2 3 2 1 0 3 1 4 2 1 2 2 2 3 4 2 2 3 3 6 2 3 0 2 2 2 3 2 2 0 1 4 1 4 3 2 2 4 2 1 1 1 4 3 5 2 3 2 3 3 4 6 3 1 3 2 4 4 1 6 5 1 0 3 0 4 2 1 4 3 2 5 1 0 3 3 2 2 1 4 3 1 1 2 2 2 2 4 1 1 2 3 2 2 0 3 2 1 1 5 3 0 4 4 2 2 3 2 2 2 4 1 1 6 2 3 3 3 2 2 2 2 5 0 3 2 2 2 4 2 1 3 4 1 1 2 3 3 4 3 3 4 3 2 2 3 1 4 1 2 2 3 6 3 1 3 6 6 4 2 3 3 5 2 3 2 3 3 2 3 1 2 2 4 3 1 0 3 4 2 1 4 3 3 3 1 3 1 5 3 6 2 5 3 1 4 4 1 3 4 4 5 4 5 5 2 3 3 5 5 1 0 5 2 4 3 3 3 0 2 3 2 5 3 0 3 2 4 1 3 1 1 2 3 2 3 1 3 5 3 1 5 5 5 4 5 1 1 2 2 3 0 3 1 4 2 3 4 3 1 2 2 2 3 2 3 5 3 3 3 3 2 1 2 1 2 1 2 3 3 4 1 2 2 2 2 1 5 5 2 1 2 0 3 2 2 3 1 3 3 4 5 3 1 3 1 2 2 2 4 1 3 2 1 3 2 3 2 4 3 2 4 2 2 2 3 3 2 3 4 3 4 2 4 4 0 2 4 3 6 4 0 2 1 0 3 2 2 1 0 2 3 5 2 2 2 2 1 1 3 4 3 5 4 1 1 1 1 1 3 3 2 2 1 4 1 1 3 2 3 0 0 5 0 3 6 5 1 3 5 4 1 1 5 3 3 2 2 4 4 2 2 1 3 4 2 3 2 1 1 3 2 2 1 4 1 2 2 1 2 1 2 1 3 5 1 0 1 3 1 3 0 3 2 1 5 1 3 2 3 1 4 0 2 2 4 1 1 3 2 0 3 3 3 5 3 5 2 3 7 3 0 0 2 2 1 4 5 3 3 6 3 1 1 2 2 4 1 1 2 3 3 3 1 3 3 4 3 3 2 3 1 1 2 0 0 3 2 2 4 2 4 1 1 3 3 4 1 3 4 1 2 2 2 2 3 2 3 1 2 2 4 1 2 2 4 3 3 5 3 2 3 0 3 1 3 2 2 2 3 1 4 3 3 3 1 1 5 1 1 2 2 1 1 4 2 5 0 2 2 3 1 1 5 2 4 4 2 4 4 6 3 1 3 0 0 5 3 1 1 4 4 2 1 6 2 2 0 4 2 3 4 3 5 0 1 3 2 1 1 2 5 2 3 1 1 2 0 3 4 2 0 1 1 2 3 2 1 2 3 5 2 2 2 3 0 0 2 4 1 3 2 1 2 4 1 1 0 7 2 4 1 1 1 3 5 6 4 1 2 3 0 3 3 4 2 1 5 0 3 1 3 3 2 2 2 2 2 5 2 2 3 2 3 1 4 2 2 3 3 3 3 3 3 2 4 1 3 4 4 1 4 3 3 2 1 7 2 5 4 2 3 1 4 3 2 3 4 2 3 2 3 2 2 2 3 1 0 2 1 3 3 2 6 2 3 2 3 3 4 2 3 4 2 2 1 3 3 2 1 5 3 1 1 4 3 1 0 0 4 3 4 3 2 1 4 3 4 1 3 3 3 1 1 3 2 3 3 4 6 1 2 2 6 0 0 4 2 2 4 2 4 3 2 2 3 3 5 2 2 0 0 3 2 1 2 2 2 3 3 4 4 4 4 5 2 3 6 3 1 2 4 1 7 3 1 1 2 2 2 3 0 3 3 2 3 4 6 6 2 4 2 3 5 4 3 0 1 2 2 1 3 4 5 5 1 1 2 3 3 1 3 3 4 4 3 4 0 1 4 1 2 1 1 3 1 3 2 4 1 2 3 4 0 1 3 3 3 4 6 0 2 5 3 6 4 1 2 3 3 3 2 3 3\n",
      "G: 5 3 2 3 2 1 3 1 1 4 2 4 3 1 2 5 4 4 2 1 4 1 3 4 2 4 5 1 2 2 2 4 4 1 4 5 1 3 1 2 0 2 1 2 4 4 3 0 6 3 4 5 4 2 1 3 0 3 4 3 2 4 3 3 4 4 3 3 2 1 3 1 2 2 0 5 4 1 4 3 4 2 2 4 2 3 2 1 1 3 3 5 3 2 2 3 5 2 5 2 2 4 3 2 1 3 2 0 2 5 3 4 4 4 2 1 5 1 2 5 2 1 5 2 2 3 3 2 3 2 2 0 0 3 1 3 3 2 0 3 0 4 5 1 1 5 2 3 2 3 1 4 2 2 4 4 4 5 3 4 5 0 2 1 4 4 4 5 2 2 3 3 0 2 2 3 6 2 2 2 0 4 3 4 3 2 2 1 4 3 1 1 2 3 0 2 2 1 4 4 0 2 3 0 2 3 1 5 2 1 3 2 3 3 4 1 2 0 1 1 3 2 0 3 2 1 5 2 1 2 2 2 2 5 2 3 4 1 1 2 3 3 2 2 1 2 2 3 3 3 2 1 1 2 2 3 1 4 2 3 2 4 3 5 3 1 1 3 1 1 5 3 3 0 2 2 4 1 3 2 0 6 0 3 1 1 0 0 1 2 1 1 1 0 0 2 0 3 5 2 3 2 4 3 2 3 3 2 2 2 1 5 0 2 3 2 4 4 4 1 1 2 1 0 3 1 5 4 2 4 0 1 2 6 4 3 5 2 3 2 3 4 2 1 4 4 3 5 2 2 2 4 4 3 2 1 4 2 5 1 3 4 1 4 2 3 4 0 3 1 4 5 1 2 3 0 3 3 2 3 1 1 0 3 4 2 3 4 1 3 4 2 3 4 3 4 2 4 2 4 4 4 4 2 4 0 2 5 2 5 3 3 2 2 1 2 1 2 1 3 3 2 5 2 2 2 3 2 3 3 4 2 1 4 5 1 1 1 3 1 5 3 3 4 3 3 1 3 4 2 2 5 2 2 4 2 2 3 3 1 4 2 1 3 3 3 0 1 2 0 1 3 1 0 3 0 1 1 2 4 1 1 0 4 3 1 1 3 2 3 1 4 3 3 4 2 3 1 2 1 2 3 6 3 1 6 6 3 3 2 2 2 4 3 4 2 3 2 4 2 4 3 2 3 4 3 2 1 3 4 3 4 0 1 2 1 3 3 1 2 4 2 3 3 3 2 0 2 2 4 0 3 5 0 1 4 3 0 1 5 4 4 1 2 3 2 4 1 3 2 2 1 3 3 2 2 2 2 1 4 3 7 4 1 1 4 2 4 1 3 4 3 2 2 1 1 2 4 0 5 3 4 3 1 1 3 4 4 2 4 3 1 4 2 2 3 4 2 2 4 4 2 2 1 2 2 4 3 3 4 3 0 2 4 3 3 4 0 4 4 3 2 5 2 4 1 2 4 0 3 1 5 5 3 4 1 1 0 1 4 1 5 2 2 4 2 6 3 1 3 2 1 3 3 5 0 4 1 2 3 3 5 2 4 3 3 3 1 2 1 2 5 1 6 5 4 0 3 4 5 3 4 1 3 3 1 3 2 1 4 3 4 4 5 3 2 3 3 1 3 5 1 4 4 4 1 2 2 1 1 1 2 2 1 3 6 2 3 3 2 2 6 4 4 2 3 2 4 2 5 2 4 2 2 2 4 4 3 3 2 4 3 2 4 3 5 3 2 2 1 3 3 2 4 0 1 1 5 2 3 3 0 4 1 2 1 0 1 1 5 3 2 4 2 2 5 2 1 3 1 5 1 2 3 2 2 3 2 2 4 1 4 1 4 2 4 4 6 2 2 3 1 3 4 4 2 2 1 2 4 2 2 4 4 4 5 3 1 1 3 2 2 2 2 1 3 1 2 2 4 2 2 3 1 3 1 2 3 3 3 2 4 3 3 4 5 1 4 2 3 5 4 1 2 1 3 1 2 2 3 2 3 1 2 3 0 0 2 0 4 2 1 1 1 0 3 0 1 2 6 0 3 3 3 0 1 2 1 4 0 1 3 3 1 0 1 6 2 6 6 2 3 2 6 3 3 2 2 3 1 0 1 3 1 4 0 2 5 2 2 4 0 4 0 3 3 1 4 1 6 1 4 5 3 1 4 5 1 3 1 2 1 3 1 4 4 1 2 3 1 2 0 0 4 2 1 0 3 2 1 1\n",
      "T: 2 5 1 2 3 2 2 4 3 3 3 0 3 3 4 2 1 2 4 3 3 2 3 1 2 2 1 5 2 3 4 3 3 3 0 3 3 1 4 1 5 4 3 2 1 1 2 3 3 2 1 4 0 4 3 2 5 2 3 2 3 4 2 1 2 1 0 1 2 4 2 3 1 2 2 1 3 4 1 3 2 3 1 1 4 4 2 3 3 3 3 3 1 4 2 5 2 2 2 3 3 2 1 4 3 3 0 5 3 4 1 4 3 2 3 5 1 4 2 3 2 3 2 4 1 2 3 6 3 2 3 3 5 1 4 3 2 3 2 2 5 1 2 3 2 3 1 1 4 2 5 2 3 5 2 1 1 0 0 1 4 4 4 5 4 2 2 0 5 2 2 2 5 3 3 4 0 3 3 2 4 2 4 2 4 7 1 2 2 1 3 5 4 1 3 3 2 3 3 4 3 5 0 3 3 2 1 2 3 3 3 1 2 4 1 2 4 4 4 3 3 7 2 3 0 3 2 2 2 2 3 3 1 1 3 1 3 2 3 2 1 4 2 1 0 3 2 2 2 1 1 3 3 2 2 2 1 2 3 3 2 1 4 2 3 2 3 4 1 4 2 2 4 2 4 1 3 1 5 2 5 1 4 2 4 5 4 3 2 1 3 3 3 2 5 0 1 2 4 1 2 2 1 2 2 4 4 2 4 0 4 4 4 4 3 4 2 4 3 6 4 3 2 5 1 2 1 0 1 1 3 1 3 1 2 2 2 4 3 1 1 1 3 2 2 2 3 1 5 5 4 3 0 0 4 4 1 3 0 4 2 4 3 3 3 3 2 4 5 4 2 1 4 3 0 1 4 4 1 3 4 5 4 4 3 1 2 1 3 2 0 2 2 2 3 3 1 2 3 1 1 0 2 2 2 1 2 1 1 2 1 2 2 4 4 1 3 2 3 2 1 0 3 0 1 2 0 2 3 3 1 3 3 3 2 5 3 6 1 1 2 4 1 3 3 3 2 1 2 1 3 2 3 2 3 3 2 0 3 3 1 2 4 4 1 2 5 2 4 1 6 3 1 1 3 4 1 3 3 3 2 2 4 1 2 3 0 0 3 3 4 1 4 3 1 4 1 3 2 3 2 1 1 2 5 2 2 1 1 4 3 2 3 5 1 2 4 3 3 1 2 3 2 2 3 3 4 3 2 3 2 1 4 6 4 2 3 4 5 4 2 3 1 2 3 4 1 1 5 4 5 3 2 1 1 1 1 3 4 1 3 2 5 3 2 7 2 2 3 3 4 2 2 3 5 2 2 3 4 5 3 3 3 2 5 2 4 3 3 3 4 1 2 2 1 6 1 3 3 1 4 1 2 4 2 3 2 3 3 2 1 5 1 3 0 1 3 3 3 4 2 4 2 1 1 3 3 2 1 3 0 4 3 2 2 2 1 4 1 1 3 2 0 1 6 4 3 0 6 4 1 1 1 1 2 2 3 2 4 3 4 1 2 2 1 2 0 2 4 2 4 2 3 2 2 4 2 4 3 4 0 3 4 0 2 1 2 2 1 4 2 2 3 2 2 2 3 3 4 1 3 2 3 3 4 5 2 3 2 0 2 1 2 3 1 2 1 1 5 1 2 1 2 4 3 0 3 1 5 3 5 3 1 1 1 2 3 0 3 2 3 0 2 4 1 4 3 2 0 1 5 2 2 3 2 1 2 4 2 2 0 4 2 2 4 2 2 4 3 5 2 4 2 3 4 3 3 2 2 4 2 3 2 1 5 1 2 3 4 3 1 4 3 2 2 1 3 3 3 3 1 2 2 4 4 4 3 3 2 0 1 3 2 2 3 0 1 0 4 3 2 5 4 1 2 3 4 1 2 4 3 2 1 4 2 3 2 4 2 3 3 4 3 3 3 3 3 3 2 2 6 2 4 2 0 3 1 3 3 1 1 4 3 0 2 1 2 1 3 2 1 2 5 2 1 2 3 3 3 0 4 6 6 3 2 5 7 3 2 1 3 1 5 1 2 2 8 2 3 1 3 1 3 4 3 6 5 4 2 5 2 3 3 2 2 1 2 1 2 0 1 2 3 2 1 1 2 4 3 1 4 1 3 4 0 4 2 1 1 2 2 1 1 0 2 4 3 3 4 0 2 0 3 0 2 1 2 3 3 3 3 4 1 4 2 1 2 6 2 3 2 2 4 4 5 3 2 2 5 5 3\n",
      "\n"
     ]
    }
   ],
   "source": [
    "real_input = read_fasta('rosalind_cons (1).txt')\n",
    "\n",
    "print_output(solve_problem(real_input), \"my_rosalind_cons_output.txt\");"
   ]
  },
  {
   "cell_type": "markdown",
   "metadata": {},
   "source": [
    "## Solution"
   ]
  },
  {
   "cell_type": "code",
   "execution_count": 56,
   "metadata": {},
   "outputs": [],
   "source": [
    "def get_consensus_and_profile_matrix(input_path = './sample_input.txt', output_path = 'nucleotide_frequencies.txt' ):\n",
    "    \n",
    "    dna_strings = read_fasta(input_path)\n",
    "        \n",
    "    dna_strings_to_df = pd.DataFrame(dna_strings.Sequence.apply(list).tolist())\n",
    "\n",
    "    freq_df = pd.DataFrame(\n",
    "            ((dna_strings_to_df == 'A').sum().values,\n",
    "            (dna_strings_to_df == 'C').sum().values,\n",
    "            (dna_strings_to_df == 'G').sum().values,\n",
    "            (dna_strings_to_df == 'T').sum().values), index=['A', 'C', 'G', 'T'])\n",
    "\n",
    "\n",
    "\n",
    "\n",
    "    # Write to a text file\n",
    "    with open(output_path, 'w') as file:\n",
    "        file.write(''.join(freq_df.idxmax().values) + '\\n')\n",
    "\n",
    "        \n",
    "        for nucleotide, row in freq_df.iterrows():\n",
    "            formatted_row = f\"{nucleotide}: \" + \" \".join(map(str, row))\n",
    "            file.write(formatted_row + '\\n')\n",
    "\n",
    "    print(\"Output written to nucleotide_frequencies.txt\")"
   ]
  },
  {
   "cell_type": "code",
   "execution_count": 59,
   "metadata": {},
   "outputs": [
    {
     "name": "stdout",
     "output_type": "stream",
     "text": [
      "Output written to nucleotide_frequencies.txt\n"
     ]
    }
   ],
   "source": [
    "get_consensus_and_profile_matrix()"
   ]
  },
  {
   "cell_type": "markdown",
   "metadata": {},
   "source": [
    "## Submit problem"
   ]
  },
  {
   "cell_type": "code",
   "execution_count": 62,
   "metadata": {},
   "outputs": [
    {
     "name": "stdout",
     "output_type": "stream",
     "text": [
      "Output written to nucleotide_frequencies.txt\n"
     ]
    }
   ],
   "source": [
    "get_consensus_and_profile_matrix(input_path = './rosalind_cons.txt', output_path = 'nucleotide_frequencies_submission.txt')"
   ]
  }
 ],
 "metadata": {
  "application/vnd.databricks.v1+notebook": {
   "dashboards": [],
   "environmentMetadata": {
    "base_environment": "",
    "client": "1"
   },
   "language": "python",
   "notebookMetadata": {
    "pythonIndentUnit": 4
   },
   "notebookName": "(Clone) test",
   "widgets": {}
  },
  "kernelspec": {
   "display_name": ".venv",
   "language": "python",
   "name": "python3"
  },
  "language_info": {
   "codemirror_mode": {
    "name": "ipython",
    "version": 3
   },
   "file_extension": ".py",
   "mimetype": "text/x-python",
   "name": "python",
   "nbconvert_exporter": "python",
   "pygments_lexer": "ipython3",
   "version": "3.12.8"
  }
 },
 "nbformat": 4,
 "nbformat_minor": 0
}
