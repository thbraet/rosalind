{
 "cells": [
  {
   "cell_type": "markdown",
   "metadata": {},
   "source": [
    "# Locating Restriction Sites"
   ]
  },
  {
   "cell_type": "markdown",
   "metadata": {},
   "source": [
    "## Read Sample Input and Output"
   ]
  },
  {
   "cell_type": "code",
   "execution_count": 8,
   "metadata": {},
   "outputs": [],
   "source": [
    "from rosalind.string_algorithms import find_reverse_palindromes\n",
    "from rosalind.read_files import read_text, write_text, read_fasta"
   ]
  },
  {
   "cell_type": "code",
   "execution_count": 19,
   "metadata": {},
   "outputs": [
    {
     "name": "stdout",
     "output_type": "stream",
     "text": [
      "Sample Input:\n",
      "     Identifier                   Sequence\n",
      "0  Rosalind_24  TCAATGCATGCGGGTCTATATGCAT\n",
      "\n",
      "Sample Output:\n",
      " 4 6\n",
      "5 4\n",
      "6 6\n",
      "7 4\n",
      "17 4\n",
      "18 4\n",
      "20 6\n",
      "21 4\n",
      "\n"
     ]
    }
   ],
   "source": [
    "sample_input = read_fasta('sample_input.txt')\n",
    "print(\"Sample Input:\\n\", sample_input)\n",
    "\n",
    "sample_output = read_text('sample_output.txt')+ \"\\n\"\n",
    "print(\"\\nSample Output:\\n\",sample_output)"
   ]
  },
  {
   "cell_type": "markdown",
   "metadata": {},
   "source": [
    "## Solve Sample Problem"
   ]
  },
  {
   "cell_type": "code",
   "execution_count": 20,
   "metadata": {},
   "outputs": [],
   "source": [
    "def solve_problem(input):\n",
    "    return find_reverse_palindromes(input.iloc[0,:].Sequence, 4, 12)\n"
   ]
  },
  {
   "cell_type": "code",
   "execution_count": 21,
   "metadata": {},
   "outputs": [
    {
     "data": {
      "text/html": [
       "<div>\n",
       "<style scoped>\n",
       "    .dataframe tbody tr th:only-of-type {\n",
       "        vertical-align: middle;\n",
       "    }\n",
       "\n",
       "    .dataframe tbody tr th {\n",
       "        vertical-align: top;\n",
       "    }\n",
       "\n",
       "    .dataframe thead th {\n",
       "        text-align: right;\n",
       "    }\n",
       "</style>\n",
       "<table border=\"1\" class=\"dataframe\">\n",
       "  <thead>\n",
       "    <tr style=\"text-align: right;\">\n",
       "      <th></th>\n",
       "      <th>Position</th>\n",
       "      <th>Length</th>\n",
       "    </tr>\n",
       "  </thead>\n",
       "  <tbody>\n",
       "    <tr>\n",
       "      <th>0</th>\n",
       "      <td>4</td>\n",
       "      <td>6</td>\n",
       "    </tr>\n",
       "    <tr>\n",
       "      <th>1</th>\n",
       "      <td>5</td>\n",
       "      <td>4</td>\n",
       "    </tr>\n",
       "    <tr>\n",
       "      <th>2</th>\n",
       "      <td>6</td>\n",
       "      <td>6</td>\n",
       "    </tr>\n",
       "    <tr>\n",
       "      <th>3</th>\n",
       "      <td>7</td>\n",
       "      <td>4</td>\n",
       "    </tr>\n",
       "    <tr>\n",
       "      <th>4</th>\n",
       "      <td>17</td>\n",
       "      <td>4</td>\n",
       "    </tr>\n",
       "    <tr>\n",
       "      <th>5</th>\n",
       "      <td>18</td>\n",
       "      <td>4</td>\n",
       "    </tr>\n",
       "    <tr>\n",
       "      <th>6</th>\n",
       "      <td>20</td>\n",
       "      <td>6</td>\n",
       "    </tr>\n",
       "    <tr>\n",
       "      <th>7</th>\n",
       "      <td>21</td>\n",
       "      <td>4</td>\n",
       "    </tr>\n",
       "  </tbody>\n",
       "</table>\n",
       "</div>"
      ],
      "text/plain": [
       "   Position  Length\n",
       "0         4       6\n",
       "1         5       4\n",
       "2         6       6\n",
       "3         7       4\n",
       "4        17       4\n",
       "5        18       4\n",
       "6        20       6\n",
       "7        21       4"
      ]
     },
     "execution_count": 21,
     "metadata": {},
     "output_type": "execute_result"
    }
   ],
   "source": [
    "my_sample_output = solve_problem(sample_input)\n",
    "my_sample_output"
   ]
  },
  {
   "cell_type": "code",
   "execution_count": 23,
   "metadata": {},
   "outputs": [],
   "source": [
    "def print_output(output, file_path = 'output.txt'):\n",
    "    output_string = output.to_csv(sep=' ', index=False, header=False)\n",
    "    \n",
    "    write_text(output_string, file_path)\n",
    "    \n",
    "    print(\"Output String:\\n\",output_string)\n",
    "        \n",
    "    return output_string\n",
    "\n"
   ]
  },
  {
   "cell_type": "code",
   "execution_count": 24,
   "metadata": {},
   "outputs": [
    {
     "name": "stdout",
     "output_type": "stream",
     "text": [
      "Output String:\n",
      " 4 6\n",
      "5 4\n",
      "6 6\n",
      "7 4\n",
      "17 4\n",
      "18 4\n",
      "20 6\n",
      "21 4\n",
      "\n"
     ]
    },
    {
     "data": {
      "text/plain": [
       "True"
      ]
     },
     "execution_count": 24,
     "metadata": {},
     "output_type": "execute_result"
    }
   ],
   "source": [
    "print_output(my_sample_output, \"my_sample_output.txt\") == sample_output"
   ]
  },
  {
   "cell_type": "markdown",
   "metadata": {},
   "source": [
    "## Run Real Input"
   ]
  },
  {
   "cell_type": "code",
   "execution_count": 26,
   "metadata": {},
   "outputs": [
    {
     "name": "stdout",
     "output_type": "stream",
     "text": [
      "Output String:\n",
      " 1 4\n",
      "54 8\n",
      "55 6\n",
      "56 4\n",
      "82 4\n",
      "93 6\n",
      "94 4\n",
      "122 4\n",
      "135 4\n",
      "138 4\n",
      "143 4\n",
      "145 4\n",
      "147 6\n",
      "148 4\n",
      "153 4\n",
      "192 4\n",
      "194 4\n",
      "223 4\n",
      "249 4\n",
      "306 6\n",
      "307 4\n",
      "359 4\n",
      "372 6\n",
      "373 4\n",
      "383 4\n",
      "437 4\n",
      "443 4\n",
      "449 4\n",
      "459 12\n",
      "460 4\n",
      "460 10\n",
      "461 8\n",
      "462 6\n",
      "463 4\n",
      "466 4\n",
      "472 4\n",
      "482 4\n",
      "523 4\n",
      "538 8\n",
      "539 6\n",
      "540 4\n",
      "559 4\n",
      "596 6\n",
      "597 4\n",
      "621 4\n",
      "625 6\n",
      "626 4\n",
      "650 10\n",
      "651 8\n",
      "652 6\n",
      "653 4\n",
      "684 4\n",
      "686 4\n",
      "690 4\n",
      "699 6\n",
      "700 4\n",
      "713 4\n",
      "725 4\n",
      "738 4\n",
      "747 4\n",
      "753 6\n",
      "754 4\n",
      "762 6\n",
      "763 4\n",
      "802 4\n",
      "814 6\n",
      "815 4\n",
      "846 4\n",
      "858 4\n",
      "866 4\n",
      "875 4\n",
      "920 4\n",
      "925 4\n",
      "\n"
     ]
    }
   ],
   "source": [
    "real_input = read_fasta('rosalind_revp.txt')\n",
    "\n",
    "print_output(solve_problem(real_input), \"my_rosalind_revp_output.txt\");"
   ]
  }
 ],
 "metadata": {
  "application/vnd.databricks.v1+notebook": {
   "dashboards": [],
   "environmentMetadata": {
    "base_environment": "",
    "client": "1"
   },
   "language": "python",
   "notebookMetadata": {
    "pythonIndentUnit": 4
   },
   "notebookName": "(Clone) test",
   "widgets": {}
  },
  "kernelspec": {
   "display_name": ".venv",
   "language": "python",
   "name": "python3"
  },
  "language_info": {
   "codemirror_mode": {
    "name": "ipython",
    "version": 3
   },
   "file_extension": ".py",
   "mimetype": "text/x-python",
   "name": "python",
   "nbconvert_exporter": "python",
   "pygments_lexer": "ipython3",
   "version": "3.12.8"
  }
 },
 "nbformat": 4,
 "nbformat_minor": 0
}
