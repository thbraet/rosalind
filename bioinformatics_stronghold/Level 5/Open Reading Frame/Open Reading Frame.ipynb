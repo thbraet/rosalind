{
 "cells": [
  {
   "cell_type": "markdown",
   "metadata": {},
   "source": [
    "# Transcription May Begin Anywhere"
   ]
  },
  {
   "cell_type": "markdown",
   "metadata": {},
   "source": [
    "## Read Sample Input and Output"
   ]
  },
  {
   "cell_type": "code",
   "execution_count": 1,
   "metadata": {},
   "outputs": [],
   "source": [
    "from rosalind.string_algorithms import transcribe_dna_to_rna\n",
    "from rosalind.read_files import read_text, write_text, read_fasta\n",
    "from rosalind.string_algorithms import transcribe_dna_to_rna, find_start_codons, split_rna_into_codons, translate_rna_to_protein, get_complementary_dna_strand, find_stop_codons, find_open_reading_frames"
   ]
  },
  {
   "cell_type": "code",
   "execution_count": 2,
   "metadata": {},
   "outputs": [
    {
     "name": "stdout",
     "output_type": "stream",
     "text": [
      "Sample Input:\n",
      "     Identifier                                           Sequence\n",
      "0  Rosalind_99  AGCCATGTAGCTAACTCAGGTTACATGGGGATGACCCCGCGACTTG...\n",
      "\n",
      "Sample Output:\n",
      " MLLGSFRLIPKETLIQVAGSSPCNLS\n",
      "M\n",
      "MGMTPRLGLESLLE\n",
      "MTPRLGLESLLE\n",
      "\n"
     ]
    }
   ],
   "source": [
    "sample_input = read_fasta('sample_input.txt')\n",
    "print(\"Sample Input:\\n\", sample_input)\n",
    "\n",
    "sample_output = read_text('sample_output.txt')+ \"\\n\"\n",
    "print(\"\\nSample Output:\\n\",sample_output)"
   ]
  },
  {
   "cell_type": "markdown",
   "metadata": {},
   "source": [
    "## Solve Sample Problem"
   ]
  },
  {
   "cell_type": "code",
   "execution_count": 3,
   "metadata": {},
   "outputs": [
    {
     "data": {
      "text/plain": [
       "['ATG',\n",
       " 'ATGGGGATGACCCCGCGACTTGGATTAGAGTCTCTTTTGGAA',\n",
       " 'ATGACCCCGCGACTTGGATTAGAGTCTCTTTTGGAA',\n",
       " 'ATGCTACTCGGATCATTCAGGCTTATTCCAAAAGAGACTCTAATCCAAGTCGCGGGGTCATCCCCATGTAACCTGAGT',\n",
       " 'ATG']"
      ]
     },
     "execution_count": 3,
     "metadata": {},
     "output_type": "execute_result"
    }
   ],
   "source": [
    "find_open_reading_frames(sample_input.iloc[0,:].Sequence)"
   ]
  },
  {
   "cell_type": "code",
   "execution_count": 4,
   "metadata": {},
   "outputs": [],
   "source": [
    "def solve_problem(input):\n",
    "    dna = input.iloc[0,:].Sequence\n",
    "    \n",
    "    proteins = []\n",
    "    \n",
    "    orf = find_open_reading_frames(dna)\n",
    "    for i in orf:\n",
    "        rna = transcribe_dna_to_rna(i)\n",
    "        prot = translate_rna_to_protein(rna)\n",
    "        proteins.append(prot)\n",
    "        \n",
    "    return set(proteins)\n",
    "   \n"
   ]
  },
  {
   "cell_type": "code",
   "execution_count": 5,
   "metadata": {},
   "outputs": [
    {
     "data": {
      "text/plain": [
       "{'M', 'MGMTPRLGLESLLE', 'MLLGSFRLIPKETLIQVAGSSPCNLS', 'MTPRLGLESLLE'}"
      ]
     },
     "execution_count": 5,
     "metadata": {},
     "output_type": "execute_result"
    }
   ],
   "source": [
    "my_sample_output = solve_problem(sample_input)\n",
    "my_sample_output"
   ]
  },
  {
   "cell_type": "code",
   "execution_count": 6,
   "metadata": {},
   "outputs": [],
   "source": [
    "def print_output(output, file_path = 'output.txt'):\n",
    "    output_string = \"\"\n",
    "    for i in output:\n",
    "        output_string += i + \"\\n\"\n",
    "            \n",
    "    write_text(output_string, file_path)\n",
    "    \n",
    "    print(\"Output String:\\n\",output_string)\n",
    "        \n",
    "    return output_string\n",
    "\n"
   ]
  },
  {
   "cell_type": "code",
   "execution_count": 7,
   "metadata": {},
   "outputs": [
    {
     "name": "stdout",
     "output_type": "stream",
     "text": [
      "MLLGSFRLIPKETLIQVAGSSPCNLS\n",
      "M\n",
      "MGMTPRLGLESLLE\n",
      "MTPRLGLESLLE\n",
      "\n",
      "Output String:\n",
      " MGMTPRLGLESLLE\n",
      "MLLGSFRLIPKETLIQVAGSSPCNLS\n",
      "MTPRLGLESLLE\n",
      "M\n",
      "\n"
     ]
    },
    {
     "data": {
      "text/plain": [
       "False"
      ]
     },
     "execution_count": 7,
     "metadata": {},
     "output_type": "execute_result"
    }
   ],
   "source": [
    "print(sample_output)\n",
    "print_output(my_sample_output, \"my_sample_output.txt\") == sample_output"
   ]
  },
  {
   "cell_type": "markdown",
   "metadata": {},
   "source": [
    "## Run Real Input"
   ]
  },
  {
   "cell_type": "code",
   "execution_count": 8,
   "metadata": {},
   "outputs": [
    {
     "name": "stdout",
     "output_type": "stream",
     "text": [
      "Output String:\n",
      " MR\n",
      "MVA\n",
      "MMNTSLKFSLSLYSALSGADRRGPTCNLLNSNKSTLSTSLPVRV\n",
      "MNTSLKFSLSLYSALSGADRRGPTCNLLNSNKSTLSTSLPVRV\n",
      "MSPSCVDRLLEAPTPRPMNH\n",
      "MWRR\n",
      "MTGTCMRLIGSWLPSLP\n",
      "MYAVDWVLATFLTITICCCP\n",
      "MP\n",
      "MGLSSSNFMGPIPRLRLRHTRPKNVLSN\n",
      "MRLIGSWLPSLP\n",
      "MVRKVARTQSTAYMSPSCVDRLLEAPTPRPMNH\n",
      "MGA\n",
      "MGPIKLELDRPMVA\n",
      "MRFVKRGPGPKTTNALT\n",
      "MKRKI\n",
      "MD\n",
      "MKRSFNARRLRTQSTLGLNALRGTLE\n",
      "MDTRGCYLSYHGPVKLQLYGPHTKASIEAHKTKKRLIQLMSRYVAKISENKCLAPRSGIRLT\n",
      "M\n",
      "MSRYVAKISENKCLAPRSGIRLT\n",
      "MGPIPRLRLRHTRPKNVLSN\n",
      "MCRPTPGSTDAPSNESLS\n",
      "MNH\n",
      "\n"
     ]
    }
   ],
   "source": [
    "real_input = read_fasta('rosalind_orf.txt')\n",
    "\n",
    "print_output(solve_problem(real_input), \"my_rosalind_orf_output.txt\");"
   ]
  }
 ],
 "metadata": {
  "application/vnd.databricks.v1+notebook": {
   "dashboards": [],
   "environmentMetadata": {
    "base_environment": "",
    "client": "1"
   },
   "language": "python",
   "notebookMetadata": {
    "pythonIndentUnit": 4
   },
   "notebookName": "(Clone) test",
   "widgets": {}
  },
  "kernelspec": {
   "display_name": ".venv",
   "language": "python",
   "name": "python3"
  },
  "language_info": {
   "codemirror_mode": {
    "name": "ipython",
    "version": 3
   },
   "file_extension": ".py",
   "mimetype": "text/x-python",
   "name": "python",
   "nbconvert_exporter": "python",
   "pygments_lexer": "ipython3",
   "version": "3.12.8"
  }
 },
 "nbformat": 4,
 "nbformat_minor": 0
}
