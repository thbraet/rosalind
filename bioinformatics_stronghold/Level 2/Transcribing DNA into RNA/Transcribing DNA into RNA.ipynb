{
 "cells": [
  {
   "cell_type": "markdown",
   "metadata": {},
   "source": [
    "# Transcribing DNA into RNA\n"
   ]
  },
  {
   "cell_type": "markdown",
   "metadata": {},
   "source": [
    "## Read Sample Input and Output"
   ]
  },
  {
   "cell_type": "code",
   "execution_count": 1,
   "metadata": {},
   "outputs": [],
   "source": [
    "from rosalind.read_files import read_text, write_text\n",
    "from rosalind.string_algorithms import transcribe_dna_to_rna"
   ]
  },
  {
   "cell_type": "code",
   "execution_count": 2,
   "metadata": {
    "application/vnd.databricks.v1+cell": {
     "cellMetadata": {},
     "inputWidgets": {},
     "nuid": "f5fe6839-20e0-489b-8c0c-ff91a9e25fe0",
     "showTitle": false,
     "title": ""
    }
   },
   "outputs": [
    {
     "name": "stdout",
     "output_type": "stream",
     "text": [
      "Sample Input:\n",
      " GATGGAACTTGACTACGTAAATT\n",
      "\n",
      "Sample Output:\n",
      " GAUGGAACUUGACUACGUAAAUU\n"
     ]
    }
   ],
   "source": [
    "sample_input = read_text('sample_input.txt')\n",
    "print(\"Sample Input:\\n\", sample_input)\n",
    "\n",
    "sample_output = read_text('sample_output.txt')\n",
    "print(\"\\nSample Output:\\n\",sample_output)"
   ]
  },
  {
   "cell_type": "markdown",
   "metadata": {},
   "source": [
    "## Solve Sample Problem"
   ]
  },
  {
   "cell_type": "code",
   "execution_count": 3,
   "metadata": {},
   "outputs": [
    {
     "data": {
      "text/plain": [
       "'GAUGGAACUUGACUACGUAAAUU'"
      ]
     },
     "execution_count": 3,
     "metadata": {},
     "output_type": "execute_result"
    }
   ],
   "source": [
    "my_sample_output = transcribe_dna_to_rna(sample_input)[::-1]\n",
    "my_sample_output"
   ]
  },
  {
   "cell_type": "code",
   "execution_count": 4,
   "metadata": {},
   "outputs": [],
   "source": [
    "def print_output(output, file_path = 'output.txt'):\n",
    "    output_string = output\n",
    "    \n",
    "    write_text(output_string, file_path)\n",
    "    \n",
    "    print(\"Output String:\\n\",output_string)\n",
    "        \n",
    "    return output_string\n",
    "\n"
   ]
  },
  {
   "cell_type": "code",
   "execution_count": 5,
   "metadata": {},
   "outputs": [
    {
     "name": "stdout",
     "output_type": "stream",
     "text": [
      "Output String:\n",
      " GAUGGAACUUGACUACGUAAAUU\n"
     ]
    },
    {
     "data": {
      "text/plain": [
       "True"
      ]
     },
     "execution_count": 5,
     "metadata": {},
     "output_type": "execute_result"
    }
   ],
   "source": [
    "print_output(my_sample_output, \"my_sample_output.txt\") == sample_output"
   ]
  },
  {
   "cell_type": "markdown",
   "metadata": {},
   "source": [
    "# Run real input"
   ]
  },
  {
   "cell_type": "code",
   "execution_count": 6,
   "metadata": {},
   "outputs": [
    {
     "name": "stdout",
     "output_type": "stream",
     "text": [
      "Output String:\n",
      " GUGUUGGGGAGGUCUAUACACACAUGUCCCCGCCUAAAAACCUUGGUGUCAAUACCUGGUACUGAAGUACGGCUGAAAGUGAGCAUCACAAAAAAUCGCUCGCACUAGUUCAUGUGGUCUGUGAGAAAGAUAAGCACUUGGUACUGGUAAAUCUGGCAUAUCGAUGUAAUAAUGCUGCAGCCGGGAGAGCCUGGGACCGUCACAAUCGCGCUACUGUUGCCUACUAAGUAGCAUACAAUGUGCGAGCGUGCCGCAGCACCCGCGACUCGUUCACAGAAAUCCCUUCUUGAUCGUGUCGGUCGACACAUUGCAGGGGACGUGUGACUAUCAAGCCAGAGGUGACAACGUCUGCUUUACAGAUGACUGCCAGCGUGUUACUACUGUUCCUAGAGUCUUAUGGAUGCGAAACCUAGACUCUUUGGAUCUCCGCGAGCUCUUGGCGUAACCUCGGUUGAGGUCAACGGAGGCAACUCUCCGGGUAUAUUGCAAGUCACGCGACGAAAGUUUAGCGUGCCGCUGAUGAGAUGUCGUCGCUGACGUGCGCCAGAUCCCUGUCCUACCUACUGUAGAGAAGGGGCGAAUAACCGGAUGACUAAUCUUCACUACAUCUAUAGUCGCUCGCGAGCGCCUGAGAGCAAUCUUGCUCUGGGCCACUACAAGCGGGAGGGUAUUCGCGAACCAGGGCUGAUACGUAUAGGCUGUCCUUUUCCAACGACAAAAGUAUCUGGAACGCCCGAAGCCCAGGUCGACGUCGAACCCGCAAAGCGCUUCCCCGUGCCUUAGUGCACAAGAAGCGCCGCCACCUCUGUGGGAGCGACGCAUUCAAGAUUUGUAGGUUUUACAUUCAACUAAGACCUCCUAACCGUGAAUACAUAGAGUAUUCUUGGAAACCCAUAAUACCUAUCACUGCUUAAGUGACUCGAUGGUUAGCAUCGGUGCCAAUAUAGACGGUGUAAUAGCGGUGUUUGAAU\n"
     ]
    }
   ],
   "source": [
    "real_input = read_text('rosalind_rna.txt')\n",
    "    \n",
    "print_output(transcribe_dna_to_rna(real_input), \"my_rosalind_rna_output.txt\");\n",
    "\n"
   ]
  },
  {
   "cell_type": "code",
   "execution_count": null,
   "metadata": {},
   "outputs": [],
   "source": []
  }
 ],
 "metadata": {
  "application/vnd.databricks.v1+notebook": {
   "dashboards": [],
   "environmentMetadata": {
    "base_environment": "",
    "client": "1"
   },
   "language": "python",
   "notebookMetadata": {
    "pythonIndentUnit": 4
   },
   "notebookName": "(Clone) test",
   "widgets": {}
  },
  "kernelspec": {
   "display_name": ".venv",
   "language": "python",
   "name": "python3"
  },
  "language_info": {
   "codemirror_mode": {
    "name": "ipython",
    "version": 3
   },
   "file_extension": ".py",
   "mimetype": "text/x-python",
   "name": "python",
   "nbconvert_exporter": "python",
   "pygments_lexer": "ipython3",
   "version": "3.12.8"
  }
 },
 "nbformat": 4,
 "nbformat_minor": 0
}
