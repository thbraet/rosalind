{
 "cells": [
  {
   "cell_type": "markdown",
   "metadata": {},
   "source": [
    "#  Mendel's Second Law\n",
    "\n",
    "Recall that Mendel's first law states that for any factor, an individual randomly assigns one of its two alleles to its offspring. Yet this law does not state anything regarding the relationship with which alleles for different factors will be inherited.\n",
    "\n",
    "After recording the results of crossing thousands of pea plants for seven years, Mendel surmised that alleles for different factors are inherited with no dependence on each other. This statement has become his second law, also known as the law of independent assortment.\n",
    "\n",
    "What does it mean for factors to be \"assorted independently?\" If we cross two organisms, then a shortened form of independent assortment states that if we look only at organisms having the same alleles for one factor, then the inheritance of another factor should not change.\n",
    "\n",
    "For example, Mendel's first law states that if we cross two $Aa$ organisms, then 1/4 of their offspring will be $aa$, 1/4 will be $AA$, and 1/2 will be $Aa$. Now, say that we cross plants that are both heterozygous for two factors, so that both of their genotypes may be written as $Aa Bb$. Next, examine only $Bb$ offspring: Mendel's second law states that the same proportions of $AA$, $Aa$, and $aa$ individuals will be observed in these offspring. The same fact holds for $BB$ and $bb$ offspring.\n",
    "\n",
    "As a result, independence will allow us to say that the probability of an $aa BB$ offspring is simply equal to the probability of an $aa$ offspring times the probability of a $BB$ organism, i.e., 1/16.\n",
    "\n",
    "Because of independence, we can also extend the idea of Punnett squares to multiple factors, as shown in Figure 1. We now wish to quantify Mendel's notion of independence using probability."
   ]
  },
  {
   "cell_type": "markdown",
   "metadata": {},
   "source": [
    "# Problem\n",
    "\n",
    "Two events $A$ and $B$ are independent if $Pr(A\\ and\\ B)$ is equal to $Pr(A)\\ ×\\ Pr(B)$. In other words, the events do not influence each other, so that we may simply calculate each of the individual probabilities separately and then multiply.\n",
    "\n",
    "More generally, random variables $X$ and $Y$ are independent if whenever $A$ and $B$ are respective events for $X$ and $Y$, $A$ and $B$ are independent (i.e., $Pr(A\\ and\\ B)\\ =\\ Pr(A)\\ ×\\ Pr(B)$).\n",
    "\n",
    "As an example of how helpful independence can be for calculating probabilities, let $X$ and $Y$ represent the numbers showing on two six-sided dice. Intuitively, the number of pips showing on one die should not affect the number showing on the other die. If we want to find the probability that $X+Y$ is odd, then we don't need to draw a tree diagram and consider all possibilities. We simply first note that for $X+Y$ to be odd, either $X$ is even and $Y$ is odd or $X$ is odd and $Y$ is even. In terms of probability, $Pr(X+Y\\ is\\ odd)\\ =\\ Pr(X\\ is\\ even\\ and\\ Y\\ is\\ odd )+Pr(X\\ is\\ odd\\ and\\ Y\\ is\\ even)$. Using independence, this becomes $[Pr(X\\ is\\ even)×Pr(Y\\ is\\ odd)]+[Pr(X\\ is\\ odd)×Pr(Y\\ is\\ even)]$, or\n",
    "$\\frac{1}{2}^2+\\frac{1}{2}^2=\\frac{1}{2}$. You can verify this result in Figure 2, which shows all 36 outcomes for rolling two dice.\n",
    "\n",
    "<span style=\"color:rgba(70,165,70,255); font-weight:bold\">Given</span>: Two positive integers $k\\ (k≤7)$ and $N\\ (N≤2^{k})$. In this problem, we begin with Tom, who in the 0th generation has genotype Aa Bb. Tom has two children in the 1st generation, each of whom has two children, and so on. Each organism always mates with an organism having genotype Aa Bb.\n",
    "\n",
    "<span style=\"color:rgba(70,165,70,255); font-weight:bold\">Return</span>: The probability that at least $N Aa Bb organisms will belong to the $k$-th generation of Tom's family tree (don't count the Aa Bb mates at each level). Assume that Mendel's second law holds for the factors.\n",
    "\n"
   ]
  },
  {
   "cell_type": "markdown",
   "metadata": {},
   "source": [
    "# Read Files"
   ]
  },
  {
   "cell_type": "code",
   "execution_count": 1,
   "metadata": {},
   "outputs": [],
   "source": [
    "%run ../../functions/read_files.ipynb"
   ]
  },
  {
   "cell_type": "code",
   "execution_count": 2,
   "metadata": {
    "application/vnd.databricks.v1+cell": {
     "cellMetadata": {},
     "inputWidgets": {},
     "nuid": "f5fe6839-20e0-489b-8c0c-ff91a9e25fe0",
     "showTitle": false,
     "title": ""
    }
   },
   "outputs": [
    {
     "name": "stdout",
     "output_type": "stream",
     "text": [
      "2 1\n",
      "0.684\n"
     ]
    }
   ],
   "source": [
    "input = read_text('sample_input.txt')\n",
    "print(input)\n",
    "\n",
    "output = read_text('sample_output.txt')\n",
    "print(output)"
   ]
  },
  {
   "cell_type": "markdown",
   "metadata": {},
   "source": [
    "# Solution"
   ]
  },
  {
   "cell_type": "markdown",
   "metadata": {},
   "source": [
    "Whatever the genotype of a generation, the probability that the genotype of the offspring is $Aa Bb$ is always equal to 1/4 because they always mate with somebody that has the genotype $Aa Bb$\n",
    "You have a 1/2 probability for $Aa$ and a 1/2 probability for $Bb$ so Mendel's Second Law says that the probability for $Aa Bb$ is then 1/2"
   ]
  },
  {
   "cell_type": "code",
   "execution_count": 11,
   "metadata": {},
   "outputs": [
    {
     "name": "stdout",
     "output_type": "stream",
     "text": [
      "0.68359375\n"
     ]
    }
   ],
   "source": [
    "from math import factorial\n",
    "from scipy.stats import binom\n",
    "\n",
    "def probability_at_least_N_AaBb(input):\n",
    "    k = int(input.split(' ')[0])\n",
    "    N = int(input.split(' ')[1])\n",
    "\n",
    "    total_offspring  = 2**k\t\n",
    "\n",
    "    # Probability of each offspring being Aa Bb\n",
    "    p_AaBb = 1 / 4\n",
    "    \n",
    "    # Compute P(X >= N) as 1 - P(X < N)\n",
    "    # P(X >= N) = 1 - binom.cdf(N-1, total_offspring, p_AaBb)\n",
    "    probability = 1 - binom.cdf(N - 1, total_offspring, p_AaBb)\n",
    "    \n",
    "    return probability\n",
    "    \n",
    "print(probability_at_least_N_AaBb(input))"
   ]
  },
  {
   "cell_type": "markdown",
   "metadata": {},
   "source": [
    "# Submit solution"
   ]
  },
  {
   "cell_type": "code",
   "execution_count": 13,
   "metadata": {},
   "outputs": [
    {
     "data": {
      "text/plain": [
       "np.float64(0.6600486821165725)"
      ]
     },
     "execution_count": 13,
     "metadata": {},
     "output_type": "execute_result"
    }
   ],
   "source": [
    "real_input = read_text('rosalind_lia.txt')\n",
    "\n",
    "probability_at_least_N_AaBb(real_input)"
   ]
  },
  {
   "cell_type": "code",
   "execution_count": null,
   "metadata": {},
   "outputs": [],
   "source": []
  }
 ],
 "metadata": {
  "application/vnd.databricks.v1+notebook": {
   "dashboards": [],
   "environmentMetadata": {
    "base_environment": "",
    "client": "1"
   },
   "language": "python",
   "notebookMetadata": {
    "pythonIndentUnit": 4
   },
   "notebookName": "(Clone) test",
   "widgets": {}
  },
  "kernelspec": {
   "display_name": "rosalind-AUENTiOu-py3.12",
   "language": "python",
   "name": "python3"
  },
  "language_info": {
   "codemirror_mode": {
    "name": "ipython",
    "version": 3
   },
   "file_extension": ".py",
   "mimetype": "text/x-python",
   "name": "python",
   "nbconvert_exporter": "python",
   "pygments_lexer": "ipython3",
   "version": "3.12.5"
  }
 },
 "nbformat": 4,
 "nbformat_minor": 0
}
