{
 "cells": [
  {
   "cell_type": "markdown",
   "metadata": {
    "application/vnd.databricks.v1+cell": {
     "cellMetadata": {
      "byteLimit": 2048000,
      "rowLimit": 10000
     },
     "inputWidgets": {},
     "nuid": "432053ee-4736-42c3-ba5e-4f46877c2300",
     "showTitle": false,
     "tableResultSettingsMap": {},
     "title": ""
    }
   },
   "source": [
    "# INSERT TITEL"
   ]
  },
  {
   "cell_type": "markdown",
   "metadata": {
    "application/vnd.databricks.v1+cell": {
     "cellMetadata": {
      "byteLimit": 2048000,
      "rowLimit": 10000
     },
     "inputWidgets": {},
     "nuid": "bd734ec3-9d2e-45cf-b53d-dce5a570138f",
     "showTitle": false,
     "tableResultSettingsMap": {},
     "title": ""
    }
   },
   "source": [
    "# Problem\n",
    "\n",
    "Lorem Ipsum\n",
    "\n",
    "<span style=\"color:rgba(70,165,70,255); font-weight:bold\">Given</span>: ...\n",
    "\n",
    "<span style=\"color:rgba(70,165,70,255); font-weight:bold\">Return</span>: ...\n",
    "\n"
   ]
  },
  {
   "cell_type": "markdown",
   "metadata": {
    "application/vnd.databricks.v1+cell": {
     "cellMetadata": {
      "byteLimit": 2048000,
      "rowLimit": 10000
     },
     "inputWidgets": {},
     "nuid": "ca21cd8c-1e52-471f-806d-f50fffdd6013",
     "showTitle": false,
     "tableResultSettingsMap": {},
     "title": ""
    }
   },
   "source": [
    "# Read Files"
   ]
  },
  {
   "cell_type": "code",
   "execution_count": 0,
   "metadata": {
    "application/vnd.databricks.v1+cell": {
     "cellMetadata": {
      "byteLimit": 2048000,
      "rowLimit": 10000
     },
     "inputWidgets": {},
     "nuid": "3a9a0e5b-9e79-404e-9172-9296a7072d04",
     "showTitle": false,
     "tableResultSettingsMap": {},
     "title": ""
    }
   },
   "outputs": [],
   "source": [
    "%run ../../functions/read_files"
   ]
  },
  {
   "cell_type": "code",
   "execution_count": 0,
   "metadata": {
    "application/vnd.databricks.v1+cell": {
     "cellMetadata": {
      "byteLimit": 2048000,
      "rowLimit": 10000
     },
     "inputWidgets": {},
     "nuid": "f5fe6839-20e0-489b-8c0c-ff91a9e25fe0",
     "showTitle": false,
     "tableResultSettingsMap": {},
     "title": ""
    }
   },
   "outputs": [],
   "source": [
    "input = read_fasta('/Workspace/Users/pmm203@fluvius.be/rosalind/Bioinformatics Stronghold/Level 5/Finding a Shared Motif/sample_input.txt')\n",
    "# input = read_fasta('sample_input.txt')\n",
    "print(input)\n",
    "\n",
    "output = read_text('/Workspace/Users/pmm203@fluvius.be/rosalind/Bioinformatics Stronghold/Level 5/Finding a Shared Motif/sample_output.txt')\n",
    "# output = read_text('sample_output.txt')\n",
    "print(output)"
   ]
  },
  {
   "cell_type": "markdown",
   "metadata": {
    "application/vnd.databricks.v1+cell": {
     "cellMetadata": {
      "byteLimit": 2048000,
      "rowLimit": 10000
     },
     "inputWidgets": {},
     "nuid": "334eddc9-aae7-4cea-83be-5f621a4ee216",
     "showTitle": false,
     "tableResultSettingsMap": {},
     "title": ""
    }
   },
   "source": [
    "# Solution"
   ]
  },
  {
   "cell_type": "code",
   "execution_count": 0,
   "metadata": {
    "application/vnd.databricks.v1+cell": {
     "cellMetadata": {
      "byteLimit": 2048000,
      "rowLimit": 10000
     },
     "inputWidgets": {},
     "nuid": "a0c17b15-c988-40f9-bf07-a21d3d81e7c0",
     "showTitle": false,
     "tableResultSettingsMap": {},
     "title": ""
    }
   },
   "outputs": [],
   "source": [
    "def find_common_substring(s1, s2):\n",
    "    common_substrings = []\n",
    "\n",
    "    for i in range(len(s1)):\n",
    "        for j in range(i, len(s1)):\n",
    "            # print(s1[i:j+1])\n",
    "            if s1[i:j+1] in s2:\n",
    "                # print(s1[i:j+1],\"Yeey\")\n",
    "                common_substrings.append(s1[i:j+1])\n",
    "\n",
    "    return list(set(common_substrings))\n",
    "\n",
    "def find_lcs(input):\n",
    "    input['length'] = input['Sequence'].str.len()\n",
    "    input = input.sort_values(by='length', ascending=True).drop(columns=['length'])  # Sort and drop the helper column\n",
    "\n",
    "    substring_list = find_common_substring(input.iloc[0,:]['Sequence'], input.iloc[1,:]['Sequence'])\n",
    "\n",
    "    for dna_strand in input['Sequence']:\n",
    "\n",
    "        substring_list = [x for x in substring_list if x in dna_strand]\n",
    "\n",
    "    return sorted(substring_list, key=len, reverse=True)[0]\n",
    "\n",
    "\n",
    "find_lcs(input)"
   ]
  },
  {
   "cell_type": "code",
   "execution_count": 0,
   "metadata": {
    "application/vnd.databricks.v1+cell": {
     "cellMetadata": {
      "byteLimit": 2048000,
      "rowLimit": 10000
     },
     "inputWidgets": {},
     "nuid": "09fda8f4-b2ec-4dd4-bf06-899c592a1f62",
     "showTitle": false,
     "tableResultSettingsMap": {},
     "title": ""
    }
   },
   "outputs": [],
   "source": [
    "find_lcs(input) == output"
   ]
  },
  {
   "cell_type": "markdown",
   "metadata": {
    "application/vnd.databricks.v1+cell": {
     "cellMetadata": {
      "byteLimit": 2048000,
      "rowLimit": 10000
     },
     "inputWidgets": {},
     "nuid": "42736e31-424f-4bc5-935c-1fd1d2a6c3b8",
     "showTitle": false,
     "tableResultSettingsMap": {},
     "title": ""
    }
   },
   "source": [
    "# Submit solution"
   ]
  },
  {
   "cell_type": "code",
   "execution_count": 0,
   "metadata": {
    "application/vnd.databricks.v1+cell": {
     "cellMetadata": {
      "byteLimit": 2048000,
      "rowLimit": 10000
     },
     "inputWidgets": {},
     "nuid": "e1c9afb7-2e62-48f1-9650-b1b6e88de6ec",
     "showTitle": false,
     "tableResultSettingsMap": {},
     "title": ""
    }
   },
   "outputs": [],
   "source": [
    "real_input = read_fasta('/Workspace/Users/pmm203@fluvius.be/rosalind/Bioinformatics Stronghold/Level 5/Finding a Shared Motif/rosalind_lcsm.txt')\n",
    "\n",
    "find_lcs(real_input)"
   ]
  }
 ],
 "metadata": {
  "application/vnd.databricks.v1+notebook": {
   "computePreferences": null,
   "dashboards": [],
   "environmentMetadata": {
    "base_environment": "",
    "client": "1"
   },
   "language": "python",
   "notebookMetadata": {
    "pythonIndentUnit": 4
   },
   "notebookName": "Finding a Shared Motif",
   "widgets": {}
  },
  "kernelspec": {
   "display_name": "rosalind-AUENTiOu-py3.12",
   "language": "python",
   "name": "python3"
  },
  "language_info": {
   "name": "python"
  }
 },
 "nbformat": 4,
 "nbformat_minor": 0
}
