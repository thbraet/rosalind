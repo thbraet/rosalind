{
 "cells": [
  {
   "cell_type": "markdown",
   "metadata": {},
   "source": [
    "# Transcription May Begin Anywhere\n",
    "\n",
    "In [Transcribing DNA into RNA](../../Level%202/Transcribing%20DNA%20into%20RNA/Transcribing%20DNA%20into%20RNA.ipynb), we discussed the transcription of DNA into RNA, and in [Translating RNA into Protein](../../Level%204/Translating%20RNA%20into%20Protein/Transalting%20RNA%20into%20Protein.ipynb), we examined the translation of RNA into a chain of amino acids for the construction of proteins. We can view these two processes as a single step in which we directly translate a DNA string into a protein string, thus calling for a DNA codon table.\n",
    "\n",
    "However, three immediate wrinkles of complexity arise when we try to pass directly from DNA to proteins. First, not all DNA will be transcribed into RNA: so-called junk DNA appears to have no practical purpose for cellular function. Second, we can begin translation at any position along a strand of RNA, meaning that any substring of a DNA string can serve as a template for translation, as long as it begins with a start codon, ends with a stop codon, and has no other stop codons in the middle. See Figure 1. As a result, the same RNA string can actually be translated in three different ways, depending on how we group triplets of symbols into codons. For example, ...AUGCUGAC... can be translated as ...AUGCUG..., ...UGCUGA..., and ...GCUGAC..., which will typically produce wildly different protein strings."
   ]
  },
  {
   "cell_type": "markdown",
   "metadata": {},
   "source": [
    "# Problem"
   ]
  },
  {
   "cell_type": "markdown",
   "metadata": {},
   "source": [
    "Either strand of a DNA double helix can serve as the coding strand for RNA transcription. Hence, a given DNA string implies six total reading frames, or ways in which the same region of DNA can be translated into amino acids: three reading frames result from reading the string itself, whereas three more result from reading its reverse complement.\n",
    "\n",
    "An open reading frame (ORF) is one which starts from the start codon and ends by stop codon, without any other stop codons in between. Thus, a candidate protein string is derived by translating an open reading frame into amino acids until a stop codon is reached.\n",
    "\n",
    "<span style=\"color:rgba(70,165,70,255); font-weight:bold\">Given</span>: A DNA string $s$ of length at most 1 kbp in FASTA format.\n",
    "\n",
    "<span style=\"color:rgba(70,165,70,255); font-weight:bold\">Return</span>: Every distinct candidate protein string that can be translated from ORFs of $s$. Strings can be returned in any order."
   ]
  },
  {
   "cell_type": "markdown",
   "metadata": {},
   "source": [
    "# Read Example Input and Output Files"
   ]
  },
  {
   "cell_type": "code",
   "execution_count": 1,
   "metadata": {},
   "outputs": [],
   "source": [
    "%run ../../functions/read_files.ipynb"
   ]
  },
  {
   "cell_type": "code",
   "execution_count": 3,
   "metadata": {},
   "outputs": [
    {
     "name": "stdout",
     "output_type": "stream",
     "text": [
      "    Identifier                                           Sequence\n",
      "0  Rosalind_99  AGCCATGTAGCTAACTCAGGTTACATGGGGATGACCCCGCGACTTG...\n",
      "MLLGSFRLIPKETLIQVAGSSPCNLS\n",
      "M\n",
      "MGMTPRLGLESLLE\n",
      "MTPRLGLESLLE\n"
     ]
    }
   ],
   "source": [
    "input = read_fasta('sample_input.txt')\n",
    "print(input)\n",
    "\n",
    "output = read_text('sample_output.txt')\n",
    "print(output)"
   ]
  },
  {
   "cell_type": "markdown",
   "metadata": {},
   "source": [
    "# Problem solving logic"
   ]
  },
  {
   "cell_type": "code",
   "execution_count": 64,
   "metadata": {},
   "outputs": [],
   "source": [
    "def get_input_dna(input):\n",
    "    return input.Sequence.values[0]\n",
    "\n",
    "def get_complimentary_dna_strand(template_dna_strand):\n",
    "    # Define the replacement mappings\n",
    "    replacements = {'T': 'A', 'A': 'T', 'C': 'G', 'G': 'C'}\n",
    "    \n",
    "    # Use a list comprehension to apply replacements and then join into a new string\n",
    "    return ''.join(replacements.get(base, base) for base in template_dna_strand)[::-1]\n",
    "    \n",
    "\n",
    "def transcribe_dna_to_rna(template_dna_strand):\n",
    "    # Define the replacement mappings\n",
    "    replacements = {'T': 'A', 'A': 'U', 'C': 'G', 'G': 'C'}\n",
    "    \n",
    "    # Use a list comprehension to apply replacements and then join into a new string\n",
    "    return ''.join(replacements.get(base, base) for base in template_dna_strand)[::-1]\n"
   ]
  },
  {
   "cell_type": "code",
   "execution_count": 65,
   "metadata": {},
   "outputs": [],
   "source": [
    "def get_all_start_codon_indexes(rna):\n",
    "    indexes = []\n",
    "    start = 0\n",
    "    while True:\n",
    "        index = rna.find('AUG', start)\n",
    "        if index == -1:\n",
    "            break\n",
    "        indexes.append(index)\n",
    "        start = index + 1  # Move past the last found index\n",
    "    return indexes\n"
   ]
  },
  {
   "cell_type": "code",
   "execution_count": 66,
   "metadata": {},
   "outputs": [],
   "source": [
    "def split_into_codons(rna):\n",
    "    return [rna[i:i+3] for i in range(0, len(rna), 3)]"
   ]
  },
  {
   "cell_type": "code",
   "execution_count": 67,
   "metadata": {},
   "outputs": [],
   "source": [
    "def find_first_stop_codon_index(codon_list):\n",
    "    # Define the stop codons\n",
    "    stop_codons = ['UAA', 'UAG', 'UGA']\n",
    "    \n",
    "    # Loop through the list to find the first stop codon\n",
    "    for index, codon in enumerate(codon_list):\n",
    "        if codon in stop_codons:\n",
    "            return index  # Return the index of the first stop codon\n",
    "    \n",
    "    # If no stop codon is found, return -1\n",
    "    return -1\n"
   ]
  },
  {
   "cell_type": "code",
   "execution_count": 70,
   "metadata": {},
   "outputs": [],
   "source": [
    "def translate_rna_to_protein(codons):    \n",
    "    # Translate each codon into an amino acid\n",
    "    protein = ''\n",
    "    for codon in codons:\n",
    "        protein += codon_dict[codon]\n",
    "    \n",
    "    return protein"
   ]
  },
  {
   "cell_type": "code",
   "execution_count": 75,
   "metadata": {},
   "outputs": [
    {
     "data": {
      "text/plain": [
       "{'M', 'MGMTPRLGLESLLE', 'MLLGSFRLIPKETLIQVAGSSPCNLS', 'MTPRLGLESLLE'}"
      ]
     },
     "execution_count": 75,
     "metadata": {},
     "output_type": "execute_result"
    }
   ],
   "source": [
    "def get_open_reading_frame(input):\n",
    "    protein_list = []\n",
    "    \n",
    "    input_dna = get_input_dna(input)\n",
    "    complimentary_dna = get_complimentary_dna_strand(input_dna)\n",
    "    \n",
    "    input_rna = transcribe_dna_to_rna(input_dna)\n",
    "    complimentary_rna = transcribe_dna_to_rna(complimentary_dna)\n",
    "    \n",
    "    start_codon_indexes = get_all_start_codon_indexes(input_rna)\n",
    "    complimentary_start_codon_indexes = get_all_start_codon_indexes(complimentary_rna)\n",
    "    \n",
    "    for i in start_codon_indexes:\n",
    "        codon_list = split_into_codons(input_rna[i:])\n",
    "        stop_index = find_first_stop_codon_index(codon_list)\n",
    "        if stop_index != -1:\n",
    "            protein_list.append(translate_rna_to_protein(codon_list[:stop_index]))\n",
    "        \n",
    "    for i in complimentary_start_codon_indexes:\n",
    "        codon_list = split_into_codons(complimentary_rna[i:])\n",
    "        stop_index = find_first_stop_codon_index(codon_list)\n",
    "        if stop_index != -1:\n",
    "            protein_list.append(translate_rna_to_protein(codon_list[:stop_index]))\n",
    "\n",
    "    return set(protein_list)\n",
    "    \n",
    "\n",
    "get_open_reading_frame(input)"
   ]
  },
  {
   "cell_type": "code",
   "execution_count": 80,
   "metadata": {},
   "outputs": [
    {
     "data": {
      "text/plain": [
       "True"
      ]
     },
     "execution_count": 80,
     "metadata": {},
     "output_type": "execute_result"
    }
   ],
   "source": [
    "get_open_reading_frame(input) == set(output.split('\\n'))"
   ]
  },
  {
   "cell_type": "markdown",
   "metadata": {},
   "source": [
    "# Run real input"
   ]
  },
  {
   "cell_type": "code",
   "execution_count": 84,
   "metadata": {},
   "outputs": [
    {
     "name": "stdout",
     "output_type": "stream",
     "text": [
      "      Identifier                                           Sequence\n",
      "0  Rosalind_3517  GTGATCGGCGGCTCAATCCATCGTACACGCGTTAACTTGGTCGACT...\n"
     ]
    }
   ],
   "source": [
    "real_input = read_fasta('rosalind_orf.txt')\n",
    "print(real_input)"
   ]
  },
  {
   "cell_type": "code",
   "execution_count": 85,
   "metadata": {},
   "outputs": [],
   "source": [
    "with open(\"open_reading_frames.txt\", \"w\") as file:\n",
    "    for p in get_open_reading_frame(real_input):\n",
    "        file.write(p + \"\\n\")  # Write each open reading frame on a new line\n"
   ]
  }
 ],
 "metadata": {
  "application/vnd.databricks.v1+notebook": {
   "dashboards": [],
   "environmentMetadata": {
    "base_environment": "",
    "client": "1"
   },
   "language": "python",
   "notebookMetadata": {
    "pythonIndentUnit": 4
   },
   "notebookName": "(Clone) test",
   "widgets": {}
  },
  "kernelspec": {
   "display_name": "rosalind-AUENTiOu-py3.12",
   "language": "python",
   "name": "python3"
  },
  "language_info": {
   "codemirror_mode": {
    "name": "ipython",
    "version": 3
   },
   "file_extension": ".py",
   "mimetype": "text/x-python",
   "name": "python",
   "nbconvert_exporter": "python",
   "pygments_lexer": "ipython3",
   "version": "3.12.5"
  }
 },
 "nbformat": 4,
 "nbformat_minor": 0
}
