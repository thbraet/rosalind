{
 "cells": [
  {
   "cell_type": "markdown",
   "metadata": {},
   "source": [
    "# INSERT TITEL"
   ]
  },
  {
   "cell_type": "markdown",
   "metadata": {},
   "source": [
    "# Problem\n",
    "\n",
    "Lorem Ipsum\n",
    "\n",
    "<span style=\"color:rgba(70,165,70,255); font-weight:bold\">Given</span>: ...\n",
    "\n",
    "<span style=\"color:rgba(70,165,70,255); font-weight:bold\">Return</span>: ...\n",
    "\n"
   ]
  },
  {
   "cell_type": "markdown",
   "metadata": {},
   "source": [
    "# Read Files"
   ]
  },
  {
   "cell_type": "code",
   "execution_count": 37,
   "metadata": {},
   "outputs": [],
   "source": [
    "%run ../../functions/read_files.ipynb"
   ]
  },
  {
   "cell_type": "code",
   "execution_count": 38,
   "metadata": {
    "application/vnd.databricks.v1+cell": {
     "cellMetadata": {},
     "inputWidgets": {},
     "nuid": "f5fe6839-20e0-489b-8c0c-ff91a9e25fe0",
     "showTitle": false,
     "title": ""
    }
   },
   "outputs": [
    {
     "name": "stdout",
     "output_type": "stream",
     "text": [
      "A2Z669\n",
      "B5ZC00\n",
      "P07204_TRBM_HUMAN\n",
      "P20840_SAG1_YEAST\n",
      "B5ZC00\n",
      "85 118 142 306 395\n",
      "P07204_TRBM_HUMAN\n",
      "47 115 116 382 409\n",
      "P20840_SAG1_YEAST\n",
      "79 109 135 248 306 348 364 402 485 501 614\n"
     ]
    }
   ],
   "source": [
    "input = read_text('sample_input.txt')\n",
    "print(input)\n",
    "\n",
    "output = read_text('sample_output.txt')\n",
    "print(output)"
   ]
  },
  {
   "cell_type": "markdown",
   "metadata": {},
   "source": [
    "# Solution"
   ]
  },
  {
   "cell_type": "code",
   "execution_count": 39,
   "metadata": {},
   "outputs": [
    {
     "name": "stdout",
     "output_type": "stream",
     "text": [
      "B5ZC00\n",
      "85 118 142 306 395\n",
      "P07204_TRBM_HUMAN\n",
      "47 115 116 382 409\n",
      "P20840_SAG1_YEAST\n",
      "79 109 135 248 306 348 364 402 485 501 614\n"
     ]
    }
   ],
   "source": [
    "import re\n",
    "import requests\n",
    "\n",
    "def get_result(function_input):\n",
    "    \n",
    "    def find_glycosylation_motifs(uniprot_id):\n",
    "        \n",
    "        id = uniprot_id.split('_')[0]\n",
    "        # id = uniprot_id\n",
    "        \n",
    "        # Fetch the FASTA data from UniProt REST API\n",
    "        url = f\"https://rest.uniprot.org/uniprotkb/{id}.fasta\"\n",
    "        response = requests.get(url)\n",
    "        \n",
    "        if response.status_code != 200:\n",
    "            # print(f\"Failed to fetch data for {uniprot_id}. HTTP status code: {response.status_code}\")\n",
    "            return\n",
    "        \n",
    "        # Parse the FASTA response\n",
    "        fasta_data = response.text\n",
    "        lines = fasta_data.splitlines()\n",
    "        sequence = \"\".join(line.strip() for line in lines if not line.startswith(\">\") and line.isalpha())\n",
    "        \n",
    "        # Regular expression for the N-glycosylation motif\n",
    "        pattern = r\"N(?=[^P][ST][^P])\"  # Lookahead to allow overlapping matches\n",
    "        \n",
    "        # Find all overlapping matches and their start indices\n",
    "        start_positions = []\n",
    "        for match in re.finditer(pattern, sequence):\n",
    "            start_positions.append(match.start() + 1)  # Convert to 1-based indexing\n",
    "        \n",
    "        # Format the output\n",
    "        if start_positions:\n",
    "            print(f\"{uniprot_id}\\n{' '.join(map(str, start_positions))}\")\n",
    "            return f\"{uniprot_id}\\n{' '.join(map(str, start_positions))}\"\n",
    "        else:\n",
    "            return f\"{uniprot_id}\\nNo motifs found\"\n",
    "\n",
    "    result = []\n",
    "    for i in function_input.split('\\n'):\n",
    "        # print(i)\n",
    "        result.append(find_glycosylation_motifs(i))\n",
    "    # return result\n",
    "\n",
    "\n",
    "# Example usage\n",
    "get_result(input)\n"
   ]
  },
  {
   "cell_type": "code",
   "execution_count": 40,
   "metadata": {},
   "outputs": [
    {
     "name": "stdout",
     "output_type": "stream",
     "text": [
      "B5ZC00\n",
      "85 118 142 306 395\n",
      "P07204_TRBM_HUMAN\n",
      "47 115 116 382 409\n",
      "P20840_SAG1_YEAST\n",
      "79 109 135 248 306 348 364 402 485 501 614\n"
     ]
    }
   ],
   "source": [
    "print(output)"
   ]
  },
  {
   "cell_type": "markdown",
   "metadata": {},
   "source": [
    "# Submit solution"
   ]
  },
  {
   "cell_type": "code",
   "execution_count": 41,
   "metadata": {},
   "outputs": [
    {
     "name": "stdout",
     "output_type": "stream",
     "text": [
      "P10643_CO7_HUMAN\n",
      "202 754\n",
      "Q3Z2Z2\n",
      "49\n",
      "P02725_GLP_PIG\n",
      "16 19 39\n",
      "P07359_GPBA_HUMAN\n",
      "37 175 362 398\n",
      "P07585_PGS2_HUMAN\n",
      "211 262 303\n",
      "P01880_DTC_HUMAN\n",
      "225 316 367\n",
      "P72173\n",
      "87 284 383\n",
      "Q90304_C166_CARAU\n",
      "92 171 350 441 465\n"
     ]
    }
   ],
   "source": [
    "real_input = read_text('rosalind_mprt.txt')\n",
    "\n",
    "get_result(real_input)"
   ]
  }
 ],
 "metadata": {
  "application/vnd.databricks.v1+notebook": {
   "dashboards": [],
   "environmentMetadata": {
    "base_environment": "",
    "client": "1"
   },
   "language": "python",
   "notebookMetadata": {
    "pythonIndentUnit": 4
   },
   "notebookName": "(Clone) test",
   "widgets": {}
  },
  "kernelspec": {
   "display_name": "rosalind-AUENTiOu-py3.12",
   "language": "python",
   "name": "python3"
  },
  "language_info": {
   "codemirror_mode": {
    "name": "ipython",
    "version": 3
   },
   "file_extension": ".py",
   "mimetype": "text/x-python",
   "name": "python",
   "nbconvert_exporter": "python",
   "pygments_lexer": "ipython3",
   "version": "3.12.5"
  }
 },
 "nbformat": 4,
 "nbformat_minor": 0
}
