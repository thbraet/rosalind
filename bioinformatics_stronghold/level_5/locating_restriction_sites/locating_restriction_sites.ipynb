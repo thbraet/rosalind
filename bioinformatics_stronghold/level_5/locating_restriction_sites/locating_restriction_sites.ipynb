{
 "cells": [
  {
   "cell_type": "markdown",
   "metadata": {},
   "source": [
    "# INSERT TITEL"
   ]
  },
  {
   "cell_type": "markdown",
   "metadata": {},
   "source": [
    "# Problem\n",
    "\n",
    "Lorem Ipsum\n",
    "\n",
    "<span style=\"color:rgba(70,165,70,255); font-weight:bold\">Given</span>: ...\n",
    "\n",
    "<span style=\"color:rgba(70,165,70,255); font-weight:bold\">Return</span>: ...\n",
    "\n"
   ]
  },
  {
   "cell_type": "markdown",
   "metadata": {},
   "source": [
    "# Read Files"
   ]
  },
  {
   "cell_type": "code",
   "execution_count": 17,
   "metadata": {},
   "outputs": [],
   "source": [
    "%run ../../functions/read_files.ipynb"
   ]
  },
  {
   "cell_type": "code",
   "execution_count": 18,
   "metadata": {
    "application/vnd.databricks.v1+cell": {
     "cellMetadata": {},
     "inputWidgets": {},
     "nuid": "f5fe6839-20e0-489b-8c0c-ff91a9e25fe0",
     "showTitle": false,
     "title": ""
    }
   },
   "outputs": [
    {
     "name": "stdout",
     "output_type": "stream",
     "text": [
      "    Identifier                   Sequence\n",
      "0  Rosalind_24  TCAATGCATGCGGGTCTATATGCAT\n",
      "4 6\n",
      "5 4\n",
      "6 6\n",
      "7 4\n",
      "17 4\n",
      "18 4\n",
      "20 6\n",
      "21 4\n"
     ]
    }
   ],
   "source": [
    "input = read_fasta('sample_input.txt')\n",
    "print(input)\n",
    "\n",
    "output = read_text('sample_output.txt')\n",
    "print(output)"
   ]
  },
  {
   "cell_type": "markdown",
   "metadata": {},
   "source": [
    "# Solution"
   ]
  },
  {
   "cell_type": "code",
   "execution_count": 19,
   "metadata": {},
   "outputs": [],
   "source": [
    "def get_reverse_compliment(s):\n",
    "    reverse = s[::-1]\n",
    "    reverse_compliment = ''\n",
    "    for i in reverse:\n",
    "        if i == 'A':\n",
    "            reverse_compliment += 'T'\n",
    "        elif i == 'T':\n",
    "            reverse_compliment += 'A'\n",
    "        elif i == 'C':\n",
    "            reverse_compliment += 'G'\n",
    "        elif i == 'G':\n",
    "            reverse_compliment += 'C'\n",
    "    return reverse_compliment"
   ]
  },
  {
   "cell_type": "code",
   "execution_count": 20,
   "metadata": {},
   "outputs": [
    {
     "name": "stdout",
     "output_type": "stream",
     "text": [
      "4\t6\n",
      "5\t4\n",
      "6\t6\n",
      "7\t4\n",
      "17\t4\n",
      "18\t4\n",
      "20\t6\n",
      "21\t4\n"
     ]
    }
   ],
   "source": [
    "def locate_restriction_site(input):\n",
    "    dna_strand = input['Sequence'].iloc[0]\n",
    "    for i in range(len(dna_strand)):\n",
    "        for j in range(i+4, min(i+13, len(dna_strand)+1)):\n",
    "            if dna_strand[i:j] == get_reverse_compliment(dna_strand[i:j]):\n",
    "                print(f\"{i+1}\\t{len(dna_strand[i:j])}\")\n",
    "\n",
    "locate_restriction_site(input)"
   ]
  },
  {
   "cell_type": "code",
   "execution_count": 21,
   "metadata": {},
   "outputs": [
    {
     "name": "stdout",
     "output_type": "stream",
     "text": [
      "4\t6\n",
      "5\t4\n",
      "6\t6\n",
      "7\t4\n",
      "17\t4\n",
      "18\t4\n",
      "20\t6\n",
      "21\t4\n"
     ]
    },
    {
     "data": {
      "text/plain": [
       "False"
      ]
     },
     "execution_count": 21,
     "metadata": {},
     "output_type": "execute_result"
    }
   ],
   "source": [
    "locate_restriction_site(input) == output"
   ]
  },
  {
   "cell_type": "markdown",
   "metadata": {},
   "source": [
    "# Submit solution"
   ]
  },
  {
   "cell_type": "code",
   "execution_count": 22,
   "metadata": {},
   "outputs": [
    {
     "name": "stdout",
     "output_type": "stream",
     "text": [
      "1\t4\n",
      "54\t8\n",
      "55\t6\n",
      "56\t4\n",
      "82\t4\n",
      "93\t6\n",
      "94\t4\n",
      "122\t4\n",
      "135\t4\n",
      "138\t4\n",
      "143\t4\n",
      "145\t4\n",
      "147\t6\n",
      "148\t4\n",
      "153\t4\n",
      "192\t4\n",
      "194\t4\n",
      "223\t4\n",
      "249\t4\n",
      "306\t6\n",
      "307\t4\n",
      "359\t4\n",
      "372\t6\n",
      "373\t4\n",
      "383\t4\n",
      "437\t4\n",
      "443\t4\n",
      "449\t4\n",
      "459\t12\n",
      "460\t4\n",
      "460\t10\n",
      "461\t8\n",
      "462\t6\n",
      "463\t4\n",
      "466\t4\n",
      "472\t4\n",
      "482\t4\n",
      "523\t4\n",
      "538\t8\n",
      "539\t6\n",
      "540\t4\n",
      "559\t4\n",
      "596\t6\n",
      "597\t4\n",
      "621\t4\n",
      "625\t6\n",
      "626\t4\n",
      "650\t10\n",
      "651\t8\n",
      "652\t6\n",
      "653\t4\n",
      "684\t4\n",
      "686\t4\n",
      "690\t4\n",
      "699\t6\n",
      "700\t4\n",
      "713\t4\n",
      "725\t4\n",
      "738\t4\n",
      "747\t4\n",
      "753\t6\n",
      "754\t4\n",
      "762\t6\n",
      "763\t4\n",
      "802\t4\n",
      "814\t6\n",
      "815\t4\n",
      "846\t4\n",
      "858\t4\n",
      "866\t4\n",
      "875\t4\n",
      "920\t4\n",
      "925\t4\n"
     ]
    }
   ],
   "source": [
    "real_input = read_fasta('rosalind_revp.txt')\n",
    "\n",
    "locate_restriction_site(real_input)"
   ]
  },
  {
   "cell_type": "code",
   "execution_count": null,
   "metadata": {},
   "outputs": [],
   "source": []
  }
 ],
 "metadata": {
  "application/vnd.databricks.v1+notebook": {
   "dashboards": [],
   "environmentMetadata": {
    "base_environment": "",
    "client": "1"
   },
   "language": "python",
   "notebookMetadata": {
    "pythonIndentUnit": 4
   },
   "notebookName": "(Clone) test",
   "widgets": {}
  },
  "kernelspec": {
   "display_name": "rosalind-AUENTiOu-py3.12",
   "language": "python",
   "name": "python3"
  },
  "language_info": {
   "codemirror_mode": {
    "name": "ipython",
    "version": 3
   },
   "file_extension": ".py",
   "mimetype": "text/x-python",
   "name": "python",
   "nbconvert_exporter": "python",
   "pygments_lexer": "ipython3",
   "version": "3.12.5"
  }
 },
 "nbformat": 4,
 "nbformat_minor": 0
}
