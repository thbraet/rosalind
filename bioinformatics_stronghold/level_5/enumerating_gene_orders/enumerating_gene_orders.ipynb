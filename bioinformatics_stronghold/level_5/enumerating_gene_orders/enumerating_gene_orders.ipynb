{
 "cells": [
  {
   "cell_type": "markdown",
   "metadata": {
    "application/vnd.databricks.v1+cell": {
     "cellMetadata": {
      "byteLimit": 2048000,
      "rowLimit": 10000
     },
     "inputWidgets": {},
     "nuid": "6f2b8e9b-4c11-4041-8068-3a4140fff4c0",
     "showTitle": false,
     "tableResultSettingsMap": {},
     "title": ""
    }
   },
   "source": [
    "# INSERT TITEL"
   ]
  },
  {
   "cell_type": "markdown",
   "metadata": {
    "application/vnd.databricks.v1+cell": {
     "cellMetadata": {
      "byteLimit": 2048000,
      "rowLimit": 10000
     },
     "inputWidgets": {},
     "nuid": "04658323-c542-41ce-a29f-8a36f435ce06",
     "showTitle": false,
     "tableResultSettingsMap": {},
     "title": ""
    }
   },
   "source": [
    "# Problem\n",
    "\n",
    "Lorem Ipsum\n",
    "\n",
    "<span style=\"color:rgba(70,165,70,255); font-weight:bold\">Given</span>: ...\n",
    "\n",
    "<span style=\"color:rgba(70,165,70,255); font-weight:bold\">Return</span>: ...\n",
    "\n"
   ]
  },
  {
   "cell_type": "markdown",
   "metadata": {
    "application/vnd.databricks.v1+cell": {
     "cellMetadata": {
      "byteLimit": 2048000,
      "rowLimit": 10000
     },
     "inputWidgets": {},
     "nuid": "9f5b36b8-fada-47ac-abf0-11a4dcfbc798",
     "showTitle": false,
     "tableResultSettingsMap": {},
     "title": ""
    }
   },
   "source": [
    "# Read Files"
   ]
  },
  {
   "cell_type": "code",
   "execution_count": 0,
   "metadata": {
    "application/vnd.databricks.v1+cell": {
     "cellMetadata": {
      "byteLimit": 2048000,
      "rowLimit": 10000
     },
     "inputWidgets": {},
     "nuid": "0a144102-0008-4466-b2dc-876e9e1e0c58",
     "showTitle": false,
     "tableResultSettingsMap": {},
     "title": ""
    }
   },
   "outputs": [],
   "source": [
    "%run ../../functions/read_files"
   ]
  },
  {
   "cell_type": "code",
   "execution_count": 0,
   "metadata": {
    "application/vnd.databricks.v1+cell": {
     "cellMetadata": {
      "byteLimit": 2048000,
      "rowLimit": 10000
     },
     "inputWidgets": {},
     "nuid": "f5fe6839-20e0-489b-8c0c-ff91a9e25fe0",
     "showTitle": false,
     "tableResultSettingsMap": {},
     "title": ""
    }
   },
   "outputs": [],
   "source": [
    "input = read_text('/Workspace/Users/pmm203@fluvius.be/rosalind/Bioinformatics Stronghold/Level 5/Enumerating Gene Orders/sample_input.txt')\n",
    "# input = read_text('sample_input.txt')\n",
    "print(input)\n",
    "\n",
    "output = read_text('/Workspace/Users/pmm203@fluvius.be/rosalind/Bioinformatics Stronghold/Level 5/Enumerating Gene Orders/sample_output.txt')\n",
    "# output = read_text('sample_output.txt')\n",
    "print(output)"
   ]
  },
  {
   "cell_type": "markdown",
   "metadata": {
    "application/vnd.databricks.v1+cell": {
     "cellMetadata": {
      "byteLimit": 2048000,
      "rowLimit": 10000
     },
     "inputWidgets": {},
     "nuid": "a94aa545-574b-4da2-a5fd-08fb089ded9a",
     "showTitle": false,
     "tableResultSettingsMap": {},
     "title": ""
    }
   },
   "source": [
    "# Solution"
   ]
  },
  {
   "cell_type": "code",
   "execution_count": 0,
   "metadata": {
    "application/vnd.databricks.v1+cell": {
     "cellMetadata": {
      "byteLimit": 2048000,
      "rowLimit": 10000
     },
     "inputWidgets": {},
     "nuid": "fcc8d478-67b5-4726-8c8e-fbcebdf62982",
     "showTitle": false,
     "tableResultSettingsMap": {},
     "title": ""
    }
   },
   "outputs": [],
   "source": [
    "from itertools import permutations\n",
    "from math import factorial\n",
    "\n",
    "def generate_permutations_and_count(n):\n",
    "    numbers = list(range(1, n + 1))\n",
    "    all_permutations = list(permutations(numbers))\n",
    "    total_permutations = factorial(n)\n",
    "    \n",
    "    return all_permutations, total_permutations\n",
    "\n",
    "sample_permutations, sample_count = generate_permutations_and_count(int(input))\n",
    "\n",
    "print(sample_count)\n",
    "for perm in sample_permutations:\n",
    "    print(\" \".join(map(str, perm)))\n"
   ]
  },
  {
   "cell_type": "code",
   "execution_count": 0,
   "metadata": {
    "application/vnd.databricks.v1+cell": {
     "cellMetadata": {
      "byteLimit": 2048000,
      "rowLimit": 10000
     },
     "inputWidgets": {},
     "nuid": "e639c018-ca34-4d6e-aea1-4881d3409b9a",
     "showTitle": false,
     "tableResultSettingsMap": {},
     "title": ""
    }
   },
   "outputs": [],
   "source": [
    "generate_permutations_and_count(int(input)) == output"
   ]
  },
  {
   "cell_type": "markdown",
   "metadata": {
    "application/vnd.databricks.v1+cell": {
     "cellMetadata": {
      "byteLimit": 2048000,
      "rowLimit": 10000
     },
     "inputWidgets": {},
     "nuid": "1d0f1236-cd9c-4c8c-880e-9c86fcb4a561",
     "showTitle": false,
     "tableResultSettingsMap": {},
     "title": ""
    }
   },
   "source": [
    "# Submit solution"
   ]
  },
  {
   "cell_type": "code",
   "execution_count": 0,
   "metadata": {
    "application/vnd.databricks.v1+cell": {
     "cellMetadata": {
      "byteLimit": 2048000,
      "rowLimit": 10000
     },
     "inputWidgets": {},
     "nuid": "043681b2-18d0-41e3-bda2-bca0d40ff03b",
     "showTitle": false,
     "tableResultSettingsMap": {},
     "title": ""
    }
   },
   "outputs": [],
   "source": [
    "real_input = read_text('/Workspace/Users/pmm203@fluvius.be/rosalind/Bioinformatics Stronghold/Level 5/Enumerating Gene Orders/rosalind_perm.txt')\n",
    "real_input\n",
    "# function(real_input)"
   ]
  },
  {
   "cell_type": "code",
   "execution_count": 0,
   "metadata": {
    "application/vnd.databricks.v1+cell": {
     "cellMetadata": {
      "byteLimit": 2048000,
      "rowLimit": 10000
     },
     "inputWidgets": {},
     "nuid": "95384e76-dc7b-4d72-bf28-157f85b98901",
     "showTitle": false,
     "tableResultSettingsMap": {},
     "title": ""
    }
   },
   "outputs": [],
   "source": [
    "real_permutations, real_count = generate_permutations_and_count(int(real_input))\n",
    "\n",
    "print(f\"Total permutations: {real_count}\")\n",
    "print(\"All permutations:\")\n",
    "for perm in real_permutations:\n",
    "    print(\" \".join(map(str, perm)))"
   ]
  }
 ],
 "metadata": {
  "application/vnd.databricks.v1+notebook": {
   "computePreferences": null,
   "dashboards": [],
   "environmentMetadata": {
    "base_environment": "",
    "client": "1"
   },
   "language": "python",
   "notebookMetadata": {
    "pythonIndentUnit": 4
   },
   "notebookName": "Enumerating Gene Orders",
   "widgets": {}
  },
  "kernelspec": {
   "display_name": "rosalind-AUENTiOu-py3.12",
   "language": "python",
   "name": "python3"
  },
  "language_info": {
   "name": "python"
  }
 },
 "nbformat": 4,
 "nbformat_minor": 0
}
