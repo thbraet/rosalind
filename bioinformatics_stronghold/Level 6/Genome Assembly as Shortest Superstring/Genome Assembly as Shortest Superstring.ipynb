{
 "cells": [
  {
   "cell_type": "markdown",
   "metadata": {},
   "source": [
    "# INSERT TITEL"
   ]
  },
  {
   "cell_type": "markdown",
   "metadata": {},
   "source": [
    "# Problem\n",
    "\n",
    "Lorem Ipsum\n",
    "\n",
    "<span style=\"color:rgba(70,165,70,255); font-weight:bold\">Given</span>: ...\n",
    "\n",
    "<span style=\"color:rgba(70,165,70,255); font-weight:bold\">Return</span>: ...\n",
    "\n"
   ]
  },
  {
   "cell_type": "markdown",
   "metadata": {},
   "source": [
    "# Read Files"
   ]
  },
  {
   "cell_type": "code",
   "execution_count": null,
   "metadata": {},
   "outputs": [],
   "source": [
    "%run ../../functions/read_files.ipynb"
   ]
  },
  {
   "cell_type": "code",
   "execution_count": 7,
   "metadata": {
    "application/vnd.databricks.v1+cell": {
     "cellMetadata": {},
     "inputWidgets": {},
     "nuid": "f5fe6839-20e0-489b-8c0c-ff91a9e25fe0",
     "showTitle": false,
     "title": ""
    }
   },
   "outputs": [],
   "source": [
    "input = read_text('sample_input.txt')\n",
    "print(input)\n",
    "\n",
    "output = read_text('sample_output.txt')\n",
    "print(output)"
   ]
  },
  {
   "cell_type": "markdown",
   "metadata": {},
   "source": [
    "# Solution"
   ]
  },
  {
   "cell_type": "code",
   "execution_count": 1,
   "metadata": {},
   "outputs": [],
   "source": [
    "def overlap_length(suffix, prefix):\n",
    "    \"\"\"Calculate the length of overlap between a suffix and a prefix.\"\"\"\n",
    "    max_overlap = min(len(suffix), len(prefix))\n",
    "    for i in range(max_overlap, 0, -1):\n",
    "        if suffix[-i:] == prefix[:i]:\n",
    "            return i\n",
    "    return 0"
   ]
  },
  {
   "cell_type": "code",
   "execution_count": null,
   "metadata": {},
   "outputs": [],
   "source": [
    "def find_and_merge_largest_overlap(strings):\n",
    "\n",
    "    first_string = strings[0]\n",
    "    best_overlap = 0\n",
    "    best_matching_string = None\n",
    "    best_match_index = -1\n",
    "    \n",
    "    unfinished = True\n",
    "    \n",
    "    while unfinished == True;\n",
    "    \n",
    "        for i, string1 in enumerate(strings):\n",
    "            best_overlap = 0\n",
    "            \n",
    "            \n",
    "            for j, string2 in enumerate(strings):\n",
    "                if i != j:\n",
    "                    overlap = overlap_length(string1, string2)\n",
    "                    if overlap > best_overlap:\n",
    "                        best_overlap = overlap\n",
    "                        best_matching_string = string2\n",
    "                        best_match_index = j\n",
    "            overlap = overlap_length(first_string, string)\n",
    "            if overlap > best_overlap:\n",
    "                best_overlap = overlap\n",
    "                best_matching_string = string\n",
    "                best_match_index = i\n",
    "\n",
    "    # Compare the first string with the rest of the strings to find the best overlap\n",
    "    for i, string in enumerate(strings[1:], 1):\n",
    "        overlap = overlap_length(first_string, string)\n",
    "        if overlap > best_overlap:\n",
    "            best_overlap = overlap\n",
    "            best_matching_string = string\n",
    "            best_match_index = i\n",
    "\n",
    "    if best_matching_string:\n",
    "        # Merge the two strings based on the overlap\n",
    "        merged_string = first_string + best_matching_string[best_overlap:]\n",
    "        # Remove the second string from the list and append the merged string to the front\n",
    "        strings[0] = merged_string\n",
    "        del strings[best_match_index]\n",
    "\n",
    "    return strings"
   ]
  },
  {
   "cell_type": "code",
   "execution_count": null,
   "metadata": {},
   "outputs": [],
   "source": [
    "def function(input):\n",
    "    print(input)"
   ]
  },
  {
   "cell_type": "code",
   "execution_count": 8,
   "metadata": {},
   "outputs": [
    {
     "name": "stdout",
     "output_type": "stream",
     "text": [
      "Hello World  \n"
     ]
    }
   ],
   "source": [
    "function(input) == output"
   ]
  },
  {
   "cell_type": "markdown",
   "metadata": {},
   "source": [
    "# Submit solution"
   ]
  },
  {
   "cell_type": "code",
   "execution_count": 9,
   "metadata": {},
   "outputs": [],
   "source": [
    "real_input = read_text('real_input.txt')\n",
    "\n",
    "function(real_input)"
   ]
  }
 ],
 "metadata": {
  "application/vnd.databricks.v1+notebook": {
   "dashboards": [],
   "environmentMetadata": {
    "base_environment": "",
    "client": "1"
   },
   "language": "python",
   "notebookMetadata": {
    "pythonIndentUnit": 4
   },
   "notebookName": "(Clone) test",
   "widgets": {}
  },
  "kernelspec": {
   "display_name": "rosalind-AUENTiOu-py3.12",
   "language": "python",
   "name": "python3"
  },
  "language_info": {
   "codemirror_mode": {
    "name": "ipython",
    "version": 3
   },
   "file_extension": ".py",
   "mimetype": "text/x-python",
   "name": "python",
   "nbconvert_exporter": "python",
   "pygments_lexer": "ipython3",
   "version": "3.12.5"
  }
 },
 "nbformat": 4,
 "nbformat_minor": 0
}
