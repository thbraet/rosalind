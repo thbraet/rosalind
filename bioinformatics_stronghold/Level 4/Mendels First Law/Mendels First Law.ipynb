{
 "cells": [
  {
   "cell_type": "markdown",
   "metadata": {},
   "source": [
    "# Mendels First Law"
   ]
  },
  {
   "cell_type": "markdown",
   "metadata": {},
   "source": [
    "## Read Sample Input and Output"
   ]
  },
  {
   "cell_type": "code",
   "execution_count": 25,
   "metadata": {},
   "outputs": [],
   "source": [
    "from rosalind.probability import probability_dominant_offspring\n",
    "from rosalind.read_files import read_text, write_text"
   ]
  },
  {
   "cell_type": "code",
   "execution_count": 26,
   "metadata": {},
   "outputs": [
    {
     "name": "stdout",
     "output_type": "stream",
     "text": [
      "Sample Input:\n",
      " 2 2 2\n",
      "\n",
      "Sample Output:\n",
      " 0.78333\n"
     ]
    }
   ],
   "source": [
    "sample_input = read_text('sample_input.txt')\n",
    "print(\"Sample Input:\\n\", sample_input)\n",
    "\n",
    "sample_output = read_text('sample_output.txt')\n",
    "print(\"\\nSample Output:\\n\",sample_output)"
   ]
  },
  {
   "cell_type": "markdown",
   "metadata": {},
   "source": [
    "## Solve Sample Problem"
   ]
  },
  {
   "cell_type": "code",
   "execution_count": 27,
   "metadata": {},
   "outputs": [],
   "source": [
    "def solve_problem(input):\n",
    "    k = int(input.split(' ')[0])\n",
    "    m = int(input.split(' ')[1])\n",
    "    n = int(input.split(' ')[2])\n",
    "    prob = probability_dominant_offspring(k, m, n)\n",
    "    return round(prob,5)\n"
   ]
  },
  {
   "cell_type": "code",
   "execution_count": 28,
   "metadata": {},
   "outputs": [
    {
     "data": {
      "text/plain": [
       "0.78333"
      ]
     },
     "execution_count": 28,
     "metadata": {},
     "output_type": "execute_result"
    }
   ],
   "source": [
    "my_sample_output = solve_problem(sample_input)\n",
    "my_sample_output"
   ]
  },
  {
   "cell_type": "code",
   "execution_count": 29,
   "metadata": {},
   "outputs": [],
   "source": [
    "def print_output(output, file_path = 'output.txt'):\n",
    "    output_string = str(output)\n",
    "    \n",
    "    write_text(output_string, file_path)\n",
    "    \n",
    "    print(\"Output String:\\n\",output_string)\n",
    "        \n",
    "    return output_string\n",
    "\n"
   ]
  },
  {
   "cell_type": "code",
   "execution_count": 30,
   "metadata": {},
   "outputs": [
    {
     "name": "stdout",
     "output_type": "stream",
     "text": [
      "Output String:\n",
      " 0.78333\n"
     ]
    },
    {
     "data": {
      "text/plain": [
       "True"
      ]
     },
     "execution_count": 30,
     "metadata": {},
     "output_type": "execute_result"
    }
   ],
   "source": [
    "print_output(my_sample_output, \"my_sample_output.txt\") == sample_output"
   ]
  },
  {
   "cell_type": "markdown",
   "metadata": {},
   "source": [
    "## Run Real Input"
   ]
  },
  {
   "cell_type": "code",
   "execution_count": 31,
   "metadata": {},
   "outputs": [
    {
     "name": "stdout",
     "output_type": "stream",
     "text": [
      "Output String:\n",
      " 0.72064\n"
     ]
    }
   ],
   "source": [
    "real_input = read_text('rosalind_iprb.txt')\n",
    "\n",
    "print_output(solve_problem(real_input), \"my_rosalind_iprb_output.txt\");"
   ]
  }
 ],
 "metadata": {
  "application/vnd.databricks.v1+notebook": {
   "dashboards": [],
   "environmentMetadata": {
    "base_environment": "",
    "client": "1"
   },
   "language": "python",
   "notebookMetadata": {
    "pythonIndentUnit": 4
   },
   "notebookName": "(Clone) test",
   "widgets": {}
  },
  "kernelspec": {
   "display_name": ".venv",
   "language": "python",
   "name": "python3"
  },
  "language_info": {
   "codemirror_mode": {
    "name": "ipython",
    "version": 3
   },
   "file_extension": ".py",
   "mimetype": "text/x-python",
   "name": "python",
   "nbconvert_exporter": "python",
   "pygments_lexer": "ipython3",
   "version": "3.12.8"
  }
 },
 "nbformat": 4,
 "nbformat_minor": 0
}
