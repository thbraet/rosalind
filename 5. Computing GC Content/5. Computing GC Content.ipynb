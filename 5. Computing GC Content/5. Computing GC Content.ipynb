{
 "cells": [
  {
   "cell_type": "code",
   "execution_count": 9,
   "metadata": {},
   "outputs": [],
   "source": [
    "%run ../Init.ipynb"
   ]
  },
  {
   "cell_type": "code",
   "execution_count": null,
   "metadata": {},
   "outputs": [],
   "source": []
  },
  {
   "cell_type": "code",
   "execution_count": 10,
   "metadata": {},
   "outputs": [
    {
     "data": {
      "text/plain": [
       "'/home/thbraet/rosalind/'"
      ]
     },
     "execution_count": 10,
     "metadata": {},
     "output_type": "execute_result"
    }
   ],
   "source": [
    "home_path"
   ]
  },
  {
   "cell_type": "code",
   "execution_count": 11,
   "metadata": {},
   "outputs": [],
   "source": [
    "folder = \"5. Computing GC Content/\""
   ]
  },
  {
   "cell_type": "code",
   "execution_count": 12,
   "metadata": {
    "application/vnd.databricks.v1+cell": {
     "cellMetadata": {},
     "inputWidgets": {},
     "nuid": "f5fe6839-20e0-489b-8c0c-ff91a9e25fe0",
     "showTitle": false,
     "title": ""
    }
   },
   "outputs": [],
   "source": [
    "with open(home_path+folder+\"sample_input.txt\", \"r\") as file:\n",
    "    input = file.read()\n",
    "\n",
    "with open(home_path+folder+\"sample_output.txt\", \"r\") as file:\n",
    "    output = file.read()"
   ]
  },
  {
   "cell_type": "code",
   "execution_count": 51,
   "metadata": {},
   "outputs": [
    {
     "name": "stdout",
     "output_type": "stream",
     "text": [
      "Rosalind_0808\n",
      "60.91954022988506\n"
     ]
    }
   ],
   "source": [
    "def compute_gc_content(input):\n",
    "\n",
    "    df = pd.DataFrame(columns = [\"Name\", \"Sequence\"])\n",
    "\n",
    "    for s in input.split('>'):\n",
    "        if len(s)>1:\n",
    "            id = s.split('\\n')[0]\n",
    "            sequence = s.split('\\n', maxsplit=1)[1].replace('\\n','')\n",
    "            df = pd.concat([df, pd.DataFrame([[id,sequence]], columns=[\"Name\", \"Sequence\"])])\n",
    "            # df = df.append({'Name':s.split('\\n')[0], \"Sequence\":s.split('\\n')[1] })\n",
    "\n",
    "    df['Count_CG'] = df['Sequence'].str.count('C')+df['Sequence'].str.count('G')\n",
    "    df['Sequence_length'] = df['Sequence'].str.len()\n",
    "    df['GC_Content'] = df['Count_CG']/df['Sequence_length']*100\n",
    "    df = df.sort_values(by='GC_Content', ascending=False)\n",
    "    \n",
    "    return df.iloc[0,:].Name + '\\n' + str(df.iloc[0,:].GC_Content)\n",
    "\n",
    "print(compute_gc_content(input))\n"
   ]
  },
  {
   "cell_type": "code",
   "execution_count": 53,
   "metadata": {},
   "outputs": [
    {
     "name": "stdout",
     "output_type": "stream",
     "text": [
      "Rosalind_9404\n",
      "51.95729537366548\n"
     ]
    }
   ],
   "source": [
    "with open(home_path+folder+\"rosalind_gc.txt\", \"r\") as file:\n",
    "    real_input = file.read()\n",
    "\n",
    "print(compute_gc_content(real_input))\n"
   ]
  },
  {
   "cell_type": "code",
   "execution_count": null,
   "metadata": {},
   "outputs": [],
   "source": []
  }
 ],
 "metadata": {
  "application/vnd.databricks.v1+notebook": {
   "dashboards": [],
   "environmentMetadata": {
    "base_environment": "",
    "client": "1"
   },
   "language": "python",
   "notebookMetadata": {
    "pythonIndentUnit": 4
   },
   "notebookName": "(Clone) test",
   "widgets": {}
  },
  "kernelspec": {
   "display_name": "Python 3",
   "language": "python",
   "name": "python3"
  },
  "language_info": {
   "codemirror_mode": {
    "name": "ipython",
    "version": 3
   },
   "file_extension": ".py",
   "mimetype": "text/x-python",
   "name": "python",
   "nbconvert_exporter": "python",
   "pygments_lexer": "ipython3",
   "version": "3.12.5"
  }
 },
 "nbformat": 4,
 "nbformat_minor": 0
}
